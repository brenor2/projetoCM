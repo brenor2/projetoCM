{
 "cells": [
  {
   "cell_type": "markdown",
   "metadata": {},
   "source": [
    "### Imports"
   ]
  },
  {
   "cell_type": "code",
   "execution_count": 44,
   "metadata": {},
   "outputs": [
    {
     "data": {
      "text/plain": [
       "<function scipy.constants.codata.value(key)>"
      ]
     },
     "execution_count": 44,
     "metadata": {},
     "output_type": "execute_result"
    }
   ],
   "source": [
    "import pandas as pd\n",
    "import numpy as np\n",
    "import sklearn as skit\n",
    "import math\n",
    "\n",
    "import geopy\n",
    "from geopy.distance import VincentyDistance\n",
    "\n",
    "from scipy import constants\n",
    "constants.value\n",
    "\n"
   ]
  },
  {
   "cell_type": "markdown",
   "metadata": {},
   "source": [
    "###    Funcao  PATH   "
   ]
  },
  {
   "cell_type": "code",
   "execution_count": 45,
   "metadata": {},
   "outputs": [],
   "source": [
    "\n",
    "#calcula  distancia entre dois pontos B e M\n",
    "def dist_BS_MS(latB, lonB, latM,lonM):\n",
    "    coord_base = (latB, lonB)\n",
    "    coord_mobi = (latM, lonM)\n",
    "    return geopy.distance.vincenty(coord_base, coord_mobi).m\n",
    "\n",
    "\n",
    "#calculo do Path loss para dada distancia\n",
    "def freeSpacePL(dist, freq):\n",
    "    return 32.44 + 20*np.log10(dist) + 20*np.log10(freq)\n",
    "    \n",
    "    # dei uma comentado pra usar da forma que está no git de robson, parecia estar certo, mas esse 147.55 eu não calculei\n",
    "    # sei que é o resultado lá dos ganhos mas... depois debate isso\n",
    "    \n",
    "    #return 20*math.log(dist,10) + 20*math.log(freq,10) + 147.55221\n",
    "    \n",
    "    #conferir corretude em: https://www.everythingrf.com/rf-calculators/free-space-path-loss-calculator\n",
    "#print(_FSPL(2, 1800000000))\n",
    "\n",
    "def leeModelPL(dist, freq):\n",
    "    n0 = 3.84\n",
    "    p0 = 61.7\n",
    "    txH = 50.0\n",
    "    rxH = 1.5\n",
    "    nf = 3 if freq > 850 else 2\n",
    "    X2 = 2 if rxH > 3 else 1\n",
    "    L1 = -20*np.log10(txH/30)\n",
    "    L2 = -10*X2*np.log10(rxH/3)\n",
    "    Lo = 50.3 + p0 - 10*n0*np.log10(1.61)-10*nf*np.log10(900)\n",
    "    L = Lo + 10*n0*np.log10(dist)+10*nf*np.log10(freq)+L1+L2\n",
    "    return L\n",
    "\n",
    "def flatEarthPL(dist, freq):\n",
    "    return 120 + (40*np.log10(dist)) - (20*np.log10(50.0) - (20*np.log10(1.5)))\n",
    "\n",
    "                                  "
   ]
  },
  {
   "cell_type": "code",
   "execution_count": 46,
   "metadata": {},
   "outputs": [
    {
     "data": {
      "text/html": [
       "<div>\n",
       "<style scoped>\n",
       "    .dataframe tbody tr th:only-of-type {\n",
       "        vertical-align: middle;\n",
       "    }\n",
       "\n",
       "    .dataframe tbody tr th {\n",
       "        vertical-align: top;\n",
       "    }\n",
       "\n",
       "    .dataframe thead th {\n",
       "        text-align: right;\n",
       "    }\n",
       "</style>\n",
       "<table border=\"1\" class=\"dataframe\">\n",
       "  <thead>\n",
       "    <tr style=\"text-align: right;\">\n",
       "      <th></th>\n",
       "      <th>lat</th>\n",
       "      <th>lon</th>\n",
       "      <th>pathBTS1</th>\n",
       "      <th>pathBTS2</th>\n",
       "      <th>pathBTS3</th>\n",
       "      <th>pathBTS4</th>\n",
       "      <th>pathBTS5</th>\n",
       "      <th>pathBTS6</th>\n",
       "    </tr>\n",
       "  </thead>\n",
       "  <tbody>\n",
       "    <tr>\n",
       "      <th>0</th>\n",
       "      <td>-8.076391</td>\n",
       "      <td>-34.895985</td>\n",
       "      <td>120.610000</td>\n",
       "      <td>104.380000</td>\n",
       "      <td>129.970000</td>\n",
       "      <td>123.620000</td>\n",
       "      <td>129.460000</td>\n",
       "      <td>132.080000</td>\n",
       "    </tr>\n",
       "    <tr>\n",
       "      <th>1</th>\n",
       "      <td>-8.072939</td>\n",
       "      <td>-34.895676</td>\n",
       "      <td>105.290000</td>\n",
       "      <td>121.523333</td>\n",
       "      <td>106.556667</td>\n",
       "      <td>108.756667</td>\n",
       "      <td>122.556667</td>\n",
       "      <td>126.123333</td>\n",
       "    </tr>\n",
       "    <tr>\n",
       "      <th>2</th>\n",
       "      <td>-8.076256</td>\n",
       "      <td>-34.899773</td>\n",
       "      <td>122.256667</td>\n",
       "      <td>110.423333</td>\n",
       "      <td>124.490000</td>\n",
       "      <td>135.256667</td>\n",
       "      <td>142.956667</td>\n",
       "      <td>142.556667</td>\n",
       "    </tr>\n",
       "    <tr>\n",
       "      <th>3</th>\n",
       "      <td>-8.064446</td>\n",
       "      <td>-34.889416</td>\n",
       "      <td>127.423333</td>\n",
       "      <td>132.656667</td>\n",
       "      <td>130.556667</td>\n",
       "      <td>131.856667</td>\n",
       "      <td>126.090000</td>\n",
       "      <td>137.723333</td>\n",
       "    </tr>\n",
       "    <tr>\n",
       "      <th>4</th>\n",
       "      <td>-8.068819</td>\n",
       "      <td>-34.888874</td>\n",
       "      <td>121.490000</td>\n",
       "      <td>136.423333</td>\n",
       "      <td>128.190000</td>\n",
       "      <td>122.723333</td>\n",
       "      <td>107.256667</td>\n",
       "      <td>120.323333</td>\n",
       "    </tr>\n",
       "  </tbody>\n",
       "</table>\n",
       "</div>"
      ],
      "text/plain": [
       "        lat        lon    pathBTS1    pathBTS2    pathBTS3    pathBTS4  \\\n",
       "0 -8.076391 -34.895985  120.610000  104.380000  129.970000  123.620000   \n",
       "1 -8.072939 -34.895676  105.290000  121.523333  106.556667  108.756667   \n",
       "2 -8.076256 -34.899773  122.256667  110.423333  124.490000  135.256667   \n",
       "3 -8.064446 -34.889416  127.423333  132.656667  130.556667  131.856667   \n",
       "4 -8.068819 -34.888874  121.490000  136.423333  128.190000  122.723333   \n",
       "\n",
       "     pathBTS5    pathBTS6  \n",
       "0  129.460000  132.080000  \n",
       "1  122.556667  126.123333  \n",
       "2  142.956667  142.556667  \n",
       "3  126.090000  137.723333  \n",
       "4  107.256667  120.323333  "
      ]
     },
     "execution_count": 46,
     "metadata": {},
     "output_type": "execute_result"
    }
   ],
   "source": [
    "#names=[\"pontoId\",\"lat\",\"lon\",\"pathBTS1\",\"pathBTS2\",\"pathBTS3\",\"pathBTS4\",\"pathBTS5\",\"pathBTS6\",\"taBTS1\",\"taBTS2\",\"taBTS3\",\"taBTS4\",\"taBTS5\",\"taBTS6\"]\n",
    "#BD referencia\n",
    "df_ref = pd.read_csv(\"CM/LocTreino_Equipe_6.csv\")\n",
    "\n",
    "df_ref = df_ref.drop(['pontoId','taBTS1','taBTS2','taBTS3','taBTS4','taBTS5','taBTS6'], axis = 1)\n",
    "\n",
    "df_ref.head()\n",
    "\n"
   ]
  },
  {
   "cell_type": "code",
   "execution_count": 47,
   "metadata": {},
   "outputs": [
    {
     "data": {
      "text/html": [
       "<div>\n",
       "<style scoped>\n",
       "    .dataframe tbody tr th:only-of-type {\n",
       "        vertical-align: middle;\n",
       "    }\n",
       "\n",
       "    .dataframe tbody tr th {\n",
       "        vertical-align: top;\n",
       "    }\n",
       "\n",
       "    .dataframe thead th {\n",
       "        text-align: right;\n",
       "    }\n",
       "</style>\n",
       "<table border=\"1\" class=\"dataframe\">\n",
       "  <thead>\n",
       "    <tr style=\"text-align: right;\">\n",
       "      <th></th>\n",
       "      <th>name</th>\n",
       "      <th>lat</th>\n",
       "      <th>lon</th>\n",
       "      <th>band</th>\n",
       "      <th>bcch</th>\n",
       "      <th>eirp</th>\n",
       "      <th>bts</th>\n",
       "    </tr>\n",
       "  </thead>\n",
       "  <tbody>\n",
       "    <tr>\n",
       "      <th>0</th>\n",
       "      <td>136_2</td>\n",
       "      <td>-8.068361</td>\n",
       "      <td>-34.892722</td>\n",
       "      <td>GSM1800</td>\n",
       "      <td>662</td>\n",
       "      <td>55.59</td>\n",
       "      <td>BTS-1</td>\n",
       "    </tr>\n",
       "    <tr>\n",
       "      <th>1</th>\n",
       "      <td>137_3</td>\n",
       "      <td>-8.075917</td>\n",
       "      <td>-34.894611</td>\n",
       "      <td>GSM1800</td>\n",
       "      <td>806</td>\n",
       "      <td>55.59</td>\n",
       "      <td>BTS-2</td>\n",
       "    </tr>\n",
       "    <tr>\n",
       "      <th>2</th>\n",
       "      <td>197_1</td>\n",
       "      <td>-8.076361</td>\n",
       "      <td>-34.908000</td>\n",
       "      <td>GSM1800</td>\n",
       "      <td>666</td>\n",
       "      <td>55.59</td>\n",
       "      <td>BTS-3</td>\n",
       "    </tr>\n",
       "    <tr>\n",
       "      <th>3</th>\n",
       "      <td>137_1</td>\n",
       "      <td>-8.075917</td>\n",
       "      <td>-34.894611</td>\n",
       "      <td>GSM1800</td>\n",
       "      <td>690</td>\n",
       "      <td>55.59</td>\n",
       "      <td>BTS-4</td>\n",
       "    </tr>\n",
       "    <tr>\n",
       "      <th>4</th>\n",
       "      <td>138_2</td>\n",
       "      <td>-8.066000</td>\n",
       "      <td>-34.889444</td>\n",
       "      <td>GSM1800</td>\n",
       "      <td>673</td>\n",
       "      <td>55.59</td>\n",
       "      <td>BTS-5</td>\n",
       "    </tr>\n",
       "    <tr>\n",
       "      <th>5</th>\n",
       "      <td>245_2</td>\n",
       "      <td>-8.064583</td>\n",
       "      <td>-34.894583</td>\n",
       "      <td>GSM1800</td>\n",
       "      <td>682</td>\n",
       "      <td>55.59</td>\n",
       "      <td>BTS-6</td>\n",
       "    </tr>\n",
       "  </tbody>\n",
       "</table>\n",
       "</div>"
      ],
      "text/plain": [
       "    name       lat        lon     band  bcch   eirp    bts\n",
       "0  136_2 -8.068361 -34.892722  GSM1800   662  55.59  BTS-1\n",
       "1  137_3 -8.075917 -34.894611  GSM1800   806  55.59  BTS-2\n",
       "2  197_1 -8.076361 -34.908000  GSM1800   666  55.59  BTS-3\n",
       "3  137_1 -8.075917 -34.894611  GSM1800   690  55.59  BTS-4\n",
       "4  138_2 -8.066000 -34.889444  GSM1800   673  55.59  BTS-5\n",
       "5  245_2 -8.064583 -34.894583  GSM1800   682  55.59  BTS-6"
      ]
     },
     "execution_count": 47,
     "metadata": {},
     "output_type": "execute_result"
    }
   ],
   "source": [
    "#Antenas\n",
    "df_antenas = pd.read_csv(\"CM/dados_BTSs.csv\")\n",
    "df_antenas\n"
   ]
  },
  {
   "cell_type": "markdown",
   "metadata": {},
   "source": [
    "### lat's e lon's das extermidade do mapa\n",
    "### largura e altura do grid"
   ]
  },
  {
   "cell_type": "code",
   "execution_count": 48,
   "metadata": {},
   "outputs": [
    {
     "name": "stdout",
     "output_type": "stream",
     "text": [
      "latitude maxima: -8.059338\n",
      "latitude minima: -8.077575999999999\n",
      "***\n",
      "long maxima: -34.885067\n",
      "long minima: -34.90683\n",
      "***\n",
      "largura do grid em metros: 2399\n",
      "altura do grid em metros: 2018\n"
     ]
    }
   ],
   "source": [
    "min_lat = df_ref['lat'].min()\n",
    "max_lat = df_ref['lat'].max()\n",
    "min_lon = df_ref['lon'].min()\n",
    "max_lon = df_ref['lon'].max()\n",
    "\n",
    "print(\"latitude maxima: {}\".format(max_lat))\n",
    "print(\"latitude minima: {}\".format(min_lat))\n",
    "print(\"***\")\n",
    "print(\"long maxima: {}\".format(max_lon))\n",
    "print(\"long minima: {}\".format(min_lon))\n",
    "print(\"***\")\n",
    "#coord -> (lat lon)\n",
    "coord_min_min = (min_lat, min_lon)\n",
    "coord_min_max = (min_lat, max_lon)\n",
    "coord_max_max = (max_lat, max_lon)\n",
    "coord_max_min = (max_lat, min_lon)\n",
    "\n",
    "#rtg -> retangulo\n",
    "\n",
    "grid_wd = math.ceil(geopy.distance.vincenty(coord_min_min, coord_min_max).m)\n",
    "grid_ht = math.ceil(geopy.distance.vincenty(coord_min_min, coord_max_min).m)\n",
    "print (\"largura do grid em metros: {}\".format(grid_wd))\n",
    "print (\"altura do grid em metros: {}\".format(grid_ht))"
   ]
  },
  {
   "cell_type": "markdown",
   "metadata": {},
   "source": [
    "### altura, largura e quantidade de celulas\n",
    "#cell_wd = prop x cell_ht\n",
    "#cell_wd -> 100 metros"
   ]
  },
  {
   "cell_type": "code",
   "execution_count": 49,
   "metadata": {
    "scrolled": true
   },
   "outputs": [
    {
     "name": "stdout",
     "output_type": "stream",
     "text": [
      "celula tem 61 metros de largura\n",
      "celula tem 50 metros de altura\n",
      "total de linhas: 41\n",
      "total de colunas: 40\n",
      "total de celulas: 1640\n"
     ]
    }
   ],
   "source": [
    "prop = grid_wd/grid_ht\n",
    "#print(prop)\n",
    "cell_ht = 50 #em metros\n",
    "cell_wd = math.ceil(prop*cell_ht)\n",
    "\n",
    "print(\"celula tem {} metros de largura\".format(cell_wd +1))\n",
    "print(\"celula tem {} metros de altura\".format(cell_ht))\n",
    "\n",
    "math.ceil\n",
    "num_col = math.ceil(grid_wd/cell_wd)\n",
    "num_row = math.ceil(grid_ht/cell_ht)\n",
    "n_of_cells = int(num_col*num_row)\n",
    "\n",
    "print(\"total de linhas: {}\".format(num_row))\n",
    "print(\"total de colunas: {}\".format(num_col))\n",
    "\n",
    "print(\"total de celulas: {}\".format(n_of_cells))\n"
   ]
  },
  {
   "cell_type": "markdown",
   "metadata": {},
   "source": [
    "### lat's e lon's de todos as celulas do grid"
   ]
  },
  {
   "cell_type": "code",
   "execution_count": 50,
   "metadata": {
    "scrolled": false
   },
   "outputs": [
    {
     "name": "stdout",
     "output_type": "stream",
     "text": [
      "1640\n"
     ]
    },
    {
     "data": {
      "text/html": [
       "<div>\n",
       "<style scoped>\n",
       "    .dataframe tbody tr th:only-of-type {\n",
       "        vertical-align: middle;\n",
       "    }\n",
       "\n",
       "    .dataframe tbody tr th {\n",
       "        vertical-align: top;\n",
       "    }\n",
       "\n",
       "    .dataframe thead th {\n",
       "        text-align: right;\n",
       "    }\n",
       "</style>\n",
       "<table border=\"1\" class=\"dataframe\">\n",
       "  <thead>\n",
       "    <tr style=\"text-align: right;\">\n",
       "      <th></th>\n",
       "      <th>lat</th>\n",
       "      <th>lon</th>\n",
       "    </tr>\n",
       "  </thead>\n",
       "  <tbody>\n",
       "    <tr>\n",
       "      <th>0</th>\n",
       "      <td>-8.077305</td>\n",
       "      <td>-34.906603</td>\n",
       "    </tr>\n",
       "    <tr>\n",
       "      <th>1</th>\n",
       "      <td>-8.076762</td>\n",
       "      <td>-34.906603</td>\n",
       "    </tr>\n",
       "    <tr>\n",
       "      <th>2</th>\n",
       "      <td>-8.076220</td>\n",
       "      <td>-34.906603</td>\n",
       "    </tr>\n",
       "    <tr>\n",
       "      <th>3</th>\n",
       "      <td>-8.075677</td>\n",
       "      <td>-34.906603</td>\n",
       "    </tr>\n",
       "    <tr>\n",
       "      <th>4</th>\n",
       "      <td>-8.075135</td>\n",
       "      <td>-34.906603</td>\n",
       "    </tr>\n",
       "  </tbody>\n",
       "</table>\n",
       "</div>"
      ],
      "text/plain": [
       "        lat        lon\n",
       "0 -8.077305 -34.906603\n",
       "1 -8.076762 -34.906603\n",
       "2 -8.076220 -34.906603\n",
       "3 -8.075677 -34.906603\n",
       "4 -8.075135 -34.906603"
      ]
     },
     "execution_count": 50,
     "metadata": {},
     "output_type": "execute_result"
    }
   ],
   "source": [
    "\n",
    "# calculo as coord do centro da primeira celula (mais abaixo e mais a esquerda):\n",
    "origem = geopy.Point(min_lat, min_lon)\n",
    "angulo = math.degrees(math.atan(cell_ht/cell_wd))\n",
    "hipotenusa = math.hypot(cell_ht/2,cell_wd/2)\n",
    "destination = VincentyDistance(meters=hipotenusa).destination(origem, angulo)\n",
    "lat0, lon0 = destination.latitude, destination.longitude\n",
    "\n",
    "#com base em lat0 e lon0 gerar as lats e as lons para as demais celulas:\n",
    "latx,  lonx = lat0, lon0 \n",
    "lats, lons = [], []\n",
    "for l in range(num_row):\n",
    "    for c in range(num_col):\n",
    "        #add a lista\n",
    "        lats.append(latx)\n",
    "        lons.append(lonx)\n",
    "        #proximas celulas a direita\n",
    "        origem = geopy.Point(latx, lonx)\n",
    "        destination = VincentyDistance(meters=cell_wd).destination(origem, math.degrees(0))\n",
    "        latx, lonx = destination.latitude, destination.longitude\n",
    "    #vai para a celula mais a esqueda da linha de cima\n",
    "    origem = geopy.Point(lat0, lon0)\n",
    "    destination = VincentyDistance(meters=(l+1)*cell_wd).destination(origem, math.degrees(math.pi/2))\n",
    "    latx, lonx = destination.latitude, destination.longitude\n",
    "print(len(lats))\n",
    "    \n",
    "data = np.array([lats, lons])\n",
    "df_cells_coord = pd.DataFrame({'lat':data[0], 'lon':data[1]})\n",
    "df_cells_coord.head()\n"
   ]
  },
  {
   "cell_type": "markdown",
   "metadata": {},
   "source": [
    "### Calculo do path de todos as celulas"
   ]
  },
  {
   "cell_type": "code",
   "execution_count": 51,
   "metadata": {},
   "outputs": [
    {
     "name": "stdout",
     "output_type": "stream",
     "text": [
      "1640\n",
      "0\n",
      "6\n",
      "1640\n",
      "1640\n",
      "1640\n",
      "1640\n",
      "1640\n",
      "1640\n",
      "fim\n"
     ]
    }
   ],
   "source": [
    "#def dist_BS_MS(latB, lonB, latM,lonM):\n",
    "#def _FSPL(dist, freq):\n",
    "\n",
    "#print (dist_BS_MS(min_lat, min_lon, min_lat, max_lon))\n",
    "df_antenas.head()\n",
    "\n",
    "path_loss_BS1 = []\n",
    "path_loss_BS2 = []\n",
    "path_loss_BS3 = []\n",
    "path_loss_BS4 = []\n",
    "path_loss_BS5 = []\n",
    "path_loss_BS6 = []\n",
    "\n",
    "print(len(df_cells_coord))\n",
    "print(len(path_loss_BS1))\n",
    "print(len(df_antenas))\n",
    "\n",
    "n_cells = len(df_cells_coord)\n",
    "\n",
    "\n",
    "#BS_1\n",
    "for j in range(n_cells):\n",
    "    dist = dist_BS_MS(df_antenas.lat[0], df_antenas.lon[0], df_cells_coord.lat[j], df_cells_coord.lon[j])\n",
    "    #pl1 = freeSpacePL(dist, 1800*(10**6))\n",
    "    #pl1 = leeModelPL(dist, 1800*(10**6))\n",
    "    pl1 = flatEarthPL(dist, 1800*(10**6))\n",
    "    path_loss_BS1.append(pl1)\n",
    "    #pl2 = leeModelPL(dist, 1800*(10**6))\n",
    "    #path_loss_BS1[1].append(pl2)\n",
    "    #pl3 = flatEarthPL(dist, 1800*(10**6))\n",
    "    #path_loss_BS1[2].append(pl3)\n",
    "    \n",
    "    \n",
    "print(len(path_loss_BS1))\n",
    "\n",
    "#BS_2\n",
    "for j in range(n_cells):\n",
    "    dist = dist_BS_MS(df_antenas.lat[1], df_antenas.lon[1], df_cells_coord.lat[j], df_cells_coord.lon[j])\n",
    "    pl1 = freeSpacePL(dist, 1800*(10**6))\n",
    "    #pl1 = leeModelPL(dist, 1800*(10**6))\n",
    "    #pl1 = flatEarthPL(dist, 1800*(10**6))\n",
    "    path_loss_BS2.append(pl1)\n",
    "    #pl2 = leeModelPL(dist, 1800*(10**6))\n",
    "    #path_loss_BS2.append(pl2)\n",
    "    #pl3 = flatEarthPL(dist, 1800*(10**6))\n",
    "    #path_loss_BS2.append(pl3)\n",
    "print(len(path_loss_BS2))\n",
    "\n",
    "#BS_3\n",
    "for j in range(n_cells):\n",
    "    dist = dist_BS_MS(df_antenas.lat[2], df_antenas.lon[2], df_cells_coord.lat[j], df_cells_coord.lon[j])\n",
    "    pl1 = freeSpacePL(dist, 1800*(10**6))\n",
    "    #pl1 = leeModelPL(dist, 1800*(10**6))\n",
    "    #pl1 = flatEarthPL(dist, 1800*(10**6))\n",
    "    path_loss_BS3.append(pl1)\n",
    "    #pl2 = leeModelPL(dist, 1800*(10**6))\n",
    "    #path_loss_BS3.append(pl2)\n",
    "    #pl3 = flatEarthPL(dist, 1800*(10**6))\n",
    "    #path_loss_BS3.append(pl3)\n",
    "print(len(path_loss_BS3))\n",
    "\n",
    "#BS_4\n",
    "for j in range(n_cells):\n",
    "    dist = dist_BS_MS(df_antenas.lat[3], df_antenas.lon[3], df_cells_coord.lat[j], df_cells_coord.lon[j])\n",
    "    pl1 = freeSpacePL(dist, 1800*(10**6))\n",
    "    #pl1 = leeModelPL(dist, 1800*(10**6))\n",
    "    #pl1 = flatEarthPL(dist, 1800*(10**6))\n",
    "    path_loss_BS4.append(pl1)\n",
    "    #pl2 = leeModelPL(dist, 1800*(10**6))\n",
    "    #path_loss_BS4.append(pl2)\n",
    "    #pl3 = flatEarthPL(dist, 1800*(10**6))\n",
    "    #path_loss_BS4.append(pl3)\n",
    "print(len(path_loss_BS4))\n",
    "\n",
    "#BS_5\n",
    "for j in range(n_cells):\n",
    "    dist = dist_BS_MS(df_antenas.lat[4], df_antenas.lon[4], df_cells_coord.lat[j], df_cells_coord.lon[j])\n",
    "    pl1 = freeSpacePL(dist, 1800*(10**6))\n",
    "    #pl1 = leeModelPL(dist, 1800*(10**6))\n",
    "    #pl1 = flatEarthPL(dist, 1800*(10**6))\n",
    "    path_loss_BS5.append(pl1)\n",
    "    #pl2 = leeModelPL(dist, 1800*(10**6))\n",
    "    #path_loss_BS5.append(pl2)\n",
    "    #pl3 = flatEarthPL(dist, 1800*(10**6))\n",
    "    #path_loss_BS5.append(pl3)\n",
    "print(len(path_loss_BS5))\n",
    "\n",
    "    \n",
    "#BS_6\n",
    "for j in range(n_cells):\n",
    "    dist = dist_BS_MS(df_antenas.lat[5], df_antenas.lon[5], df_cells_coord.lat[j], df_cells_coord.lon[j])\n",
    "    pl1 = freeSpacePL(dist, 1800*(10**6))\n",
    "    #pl1 = leeModelPL(dist, 1800*(10**6))\n",
    "    #pl1 = flatEarthPL(dist, 1800*(10**6))\n",
    "    path_loss_BS6.append(pl1)\n",
    "    #pl2 = leeModelPL(dist, 1800*(10**6))\n",
    "    #path_loss_BS6.append(pl2)\n",
    "    #pl3 = flatEarthPL(dist, 1800*(10**6))\n",
    "    #path_loss_BS6.append(pl3)\n",
    "print(len(path_loss_BS6))\n",
    "\n",
    "print('fim')\n"
   ]
  },
  {
   "cell_type": "markdown",
   "metadata": {},
   "source": [
    "### Data frame com path dos centros das celulas"
   ]
  },
  {
   "cell_type": "code",
   "execution_count": 52,
   "metadata": {},
   "outputs": [
    {
     "data": {
      "text/html": [
       "<div>\n",
       "<style scoped>\n",
       "    .dataframe tbody tr th:only-of-type {\n",
       "        vertical-align: middle;\n",
       "    }\n",
       "\n",
       "    .dataframe tbody tr th {\n",
       "        vertical-align: top;\n",
       "    }\n",
       "\n",
       "    .dataframe thead th {\n",
       "        text-align: right;\n",
       "    }\n",
       "</style>\n",
       "<table border=\"1\" class=\"dataframe\">\n",
       "  <thead>\n",
       "    <tr style=\"text-align: right;\">\n",
       "      <th></th>\n",
       "      <th>pathBTS1</th>\n",
       "      <th>pathBTS2</th>\n",
       "      <th>pathBTS3</th>\n",
       "      <th>pathBTS4</th>\n",
       "      <th>pathBTS5</th>\n",
       "      <th>pathBTS6</th>\n",
       "    </tr>\n",
       "  </thead>\n",
       "  <tbody>\n",
       "    <tr>\n",
       "      <th>0</th>\n",
       "      <td>219.963387</td>\n",
       "      <td>280.026940</td>\n",
       "      <td>262.935615</td>\n",
       "      <td>280.026940</td>\n",
       "      <td>284.655238</td>\n",
       "      <td>283.268099</td>\n",
       "    </tr>\n",
       "    <tr>\n",
       "      <th>1</th>\n",
       "      <td>219.656871</td>\n",
       "      <td>279.990440</td>\n",
       "      <td>261.640019</td>\n",
       "      <td>279.990439</td>\n",
       "      <td>284.529725</td>\n",
       "      <td>283.071583</td>\n",
       "    </tr>\n",
       "    <tr>\n",
       "      <th>2</th>\n",
       "      <td>219.359361</td>\n",
       "      <td>279.971553</td>\n",
       "      <td>261.338217</td>\n",
       "      <td>279.971552</td>\n",
       "      <td>284.406924</td>\n",
       "      <td>282.874927</td>\n",
       "    </tr>\n",
       "    <tr>\n",
       "      <th>3</th>\n",
       "      <td>219.072201</td>\n",
       "      <td>279.970510</td>\n",
       "      <td>262.232614</td>\n",
       "      <td>279.970510</td>\n",
       "      <td>284.287175</td>\n",
       "      <td>282.678543</td>\n",
       "    </tr>\n",
       "    <tr>\n",
       "      <th>4</th>\n",
       "      <td>218.796797</td>\n",
       "      <td>279.987325</td>\n",
       "      <td>263.788433</td>\n",
       "      <td>279.987325</td>\n",
       "      <td>284.170836</td>\n",
       "      <td>282.482899</td>\n",
       "    </tr>\n",
       "  </tbody>\n",
       "</table>\n",
       "</div>"
      ],
      "text/plain": [
       "     pathBTS1    pathBTS2    pathBTS3    pathBTS4    pathBTS5    pathBTS6\n",
       "0  219.963387  280.026940  262.935615  280.026940  284.655238  283.268099\n",
       "1  219.656871  279.990440  261.640019  279.990439  284.529725  283.071583\n",
       "2  219.359361  279.971553  261.338217  279.971552  284.406924  282.874927\n",
       "3  219.072201  279.970510  262.232614  279.970510  284.287175  282.678543\n",
       "4  218.796797  279.987325  263.788433  279.987325  284.170836  282.482899"
      ]
     },
     "execution_count": 52,
     "metadata": {},
     "output_type": "execute_result"
    }
   ],
   "source": [
    "data_path = np.array([path_loss_BS1, path_loss_BS2, path_loss_BS3, path_loss_BS4, path_loss_BS5, path_loss_BS6])\n",
    "\n",
    "data_path\n",
    "df_cells_path = pd.DataFrame({'pathBTS1':data_path[0], 'pathBTS2':data_path[1], 'pathBTS3':data_path[2], 'pathBTS4':data_path[3], 'pathBTS5':data_path[4], 'pathBTS6':data_path[5]})\n",
    "df_cells_path.head()\n",
    "\n"
   ]
  },
  {
   "cell_type": "markdown",
   "metadata": {},
   "source": [
    "### Dataframe com coord e path dos centros das celulas"
   ]
  },
  {
   "cell_type": "code",
   "execution_count": 53,
   "metadata": {},
   "outputs": [
    {
     "name": "stdout",
     "output_type": "stream",
     "text": [
      "1640\n"
     ]
    },
    {
     "data": {
      "text/html": [
       "<div>\n",
       "<style scoped>\n",
       "    .dataframe tbody tr th:only-of-type {\n",
       "        vertical-align: middle;\n",
       "    }\n",
       "\n",
       "    .dataframe tbody tr th {\n",
       "        vertical-align: top;\n",
       "    }\n",
       "\n",
       "    .dataframe thead th {\n",
       "        text-align: right;\n",
       "    }\n",
       "</style>\n",
       "<table border=\"1\" class=\"dataframe\">\n",
       "  <thead>\n",
       "    <tr style=\"text-align: right;\">\n",
       "      <th></th>\n",
       "      <th>lat</th>\n",
       "      <th>lon</th>\n",
       "      <th>pathBTS1</th>\n",
       "      <th>pathBTS2</th>\n",
       "      <th>pathBTS3</th>\n",
       "      <th>pathBTS4</th>\n",
       "      <th>pathBTS5</th>\n",
       "      <th>pathBTS6</th>\n",
       "    </tr>\n",
       "  </thead>\n",
       "  <tbody>\n",
       "    <tr>\n",
       "      <th>0</th>\n",
       "      <td>-8.077305</td>\n",
       "      <td>-34.906603</td>\n",
       "      <td>219.963387</td>\n",
       "      <td>280.026940</td>\n",
       "      <td>262.935615</td>\n",
       "      <td>280.026940</td>\n",
       "      <td>284.655238</td>\n",
       "      <td>283.268099</td>\n",
       "    </tr>\n",
       "    <tr>\n",
       "      <th>1</th>\n",
       "      <td>-8.076762</td>\n",
       "      <td>-34.906603</td>\n",
       "      <td>219.656871</td>\n",
       "      <td>279.990440</td>\n",
       "      <td>261.640019</td>\n",
       "      <td>279.990439</td>\n",
       "      <td>284.529725</td>\n",
       "      <td>283.071583</td>\n",
       "    </tr>\n",
       "    <tr>\n",
       "      <th>2</th>\n",
       "      <td>-8.076220</td>\n",
       "      <td>-34.906603</td>\n",
       "      <td>219.359361</td>\n",
       "      <td>279.971553</td>\n",
       "      <td>261.338217</td>\n",
       "      <td>279.971552</td>\n",
       "      <td>284.406924</td>\n",
       "      <td>282.874927</td>\n",
       "    </tr>\n",
       "    <tr>\n",
       "      <th>3</th>\n",
       "      <td>-8.075677</td>\n",
       "      <td>-34.906603</td>\n",
       "      <td>219.072201</td>\n",
       "      <td>279.970510</td>\n",
       "      <td>262.232614</td>\n",
       "      <td>279.970510</td>\n",
       "      <td>284.287175</td>\n",
       "      <td>282.678543</td>\n",
       "    </tr>\n",
       "    <tr>\n",
       "      <th>4</th>\n",
       "      <td>-8.075135</td>\n",
       "      <td>-34.906603</td>\n",
       "      <td>218.796797</td>\n",
       "      <td>279.987325</td>\n",
       "      <td>263.788433</td>\n",
       "      <td>279.987325</td>\n",
       "      <td>284.170836</td>\n",
       "      <td>282.482899</td>\n",
       "    </tr>\n",
       "  </tbody>\n",
       "</table>\n",
       "</div>"
      ],
      "text/plain": [
       "        lat        lon    pathBTS1    pathBTS2    pathBTS3    pathBTS4  \\\n",
       "0 -8.077305 -34.906603  219.963387  280.026940  262.935615  280.026940   \n",
       "1 -8.076762 -34.906603  219.656871  279.990440  261.640019  279.990439   \n",
       "2 -8.076220 -34.906603  219.359361  279.971553  261.338217  279.971552   \n",
       "3 -8.075677 -34.906603  219.072201  279.970510  262.232614  279.970510   \n",
       "4 -8.075135 -34.906603  218.796797  279.987325  263.788433  279.987325   \n",
       "\n",
       "     pathBTS5    pathBTS6  \n",
       "0  284.655238  283.268099  \n",
       "1  284.529725  283.071583  \n",
       "2  284.406924  282.874927  \n",
       "3  284.287175  282.678543  \n",
       "4  284.170836  282.482899  "
      ]
     },
     "execution_count": 53,
     "metadata": {},
     "output_type": "execute_result"
    }
   ],
   "source": [
    "df_cell_coords_paths = df_cells_coord.join(df_cells_path, lsuffix='_df_cells_coord', rsuffix='_df_cells_path')\n",
    "\n",
    "print(len(df_cell_coords_paths))\n",
    "\n",
    "df_cell_coords_paths.head()"
   ]
  },
  {
   "cell_type": "code",
   "execution_count": 54,
   "metadata": {},
   "outputs": [
    {
     "data": {
      "text/plain": [
       "154.38743349154112"
      ]
     },
     "execution_count": 54,
     "metadata": {},
     "output_type": "execute_result"
    }
   ],
   "source": [
    "df_cell_coords_paths['pathBTS1'].min()"
   ]
  },
  {
   "cell_type": "markdown",
   "metadata": {},
   "source": [
    "### K-fold cross validation"
   ]
  },
  {
   "cell_type": "code",
   "execution_count": 55,
   "metadata": {},
   "outputs": [],
   "source": [
    "features = ['pathBTS1', 'pathBTS2', 'pathBTS3', 'pathBTS4', 'pathBTS5', 'pathBTS6']\n",
    "to_predict=['lat', 'lon']"
   ]
  },
  {
   "cell_type": "markdown",
   "metadata": {},
   "source": [
    "### GRID com KNN"
   ]
  },
  {
   "cell_type": "code",
   "execution_count": 56,
   "metadata": {},
   "outputs": [
    {
     "data": {
      "text/html": [
       "<div>\n",
       "<style scoped>\n",
       "    .dataframe tbody tr th:only-of-type {\n",
       "        vertical-align: middle;\n",
       "    }\n",
       "\n",
       "    .dataframe tbody tr th {\n",
       "        vertical-align: top;\n",
       "    }\n",
       "\n",
       "    .dataframe thead th {\n",
       "        text-align: right;\n",
       "    }\n",
       "</style>\n",
       "<table border=\"1\" class=\"dataframe\">\n",
       "  <thead>\n",
       "    <tr style=\"text-align: right;\">\n",
       "      <th></th>\n",
       "      <th>lat</th>\n",
       "      <th>lon</th>\n",
       "      <th>pathBTS1</th>\n",
       "      <th>pathBTS2</th>\n",
       "      <th>pathBTS3</th>\n",
       "      <th>pathBTS4</th>\n",
       "      <th>pathBTS5</th>\n",
       "      <th>pathBTS6</th>\n",
       "    </tr>\n",
       "  </thead>\n",
       "  <tbody>\n",
       "    <tr>\n",
       "      <th>0</th>\n",
       "      <td>-8.076391</td>\n",
       "      <td>-34.895985</td>\n",
       "      <td>120.610000</td>\n",
       "      <td>104.380000</td>\n",
       "      <td>129.970000</td>\n",
       "      <td>123.620000</td>\n",
       "      <td>129.460000</td>\n",
       "      <td>132.080000</td>\n",
       "    </tr>\n",
       "    <tr>\n",
       "      <th>1</th>\n",
       "      <td>-8.072939</td>\n",
       "      <td>-34.895676</td>\n",
       "      <td>105.290000</td>\n",
       "      <td>121.523333</td>\n",
       "      <td>106.556667</td>\n",
       "      <td>108.756667</td>\n",
       "      <td>122.556667</td>\n",
       "      <td>126.123333</td>\n",
       "    </tr>\n",
       "    <tr>\n",
       "      <th>2</th>\n",
       "      <td>-8.076256</td>\n",
       "      <td>-34.899773</td>\n",
       "      <td>122.256667</td>\n",
       "      <td>110.423333</td>\n",
       "      <td>124.490000</td>\n",
       "      <td>135.256667</td>\n",
       "      <td>142.956667</td>\n",
       "      <td>142.556667</td>\n",
       "    </tr>\n",
       "    <tr>\n",
       "      <th>3</th>\n",
       "      <td>-8.064446</td>\n",
       "      <td>-34.889416</td>\n",
       "      <td>127.423333</td>\n",
       "      <td>132.656667</td>\n",
       "      <td>130.556667</td>\n",
       "      <td>131.856667</td>\n",
       "      <td>126.090000</td>\n",
       "      <td>137.723333</td>\n",
       "    </tr>\n",
       "    <tr>\n",
       "      <th>4</th>\n",
       "      <td>-8.068819</td>\n",
       "      <td>-34.888874</td>\n",
       "      <td>121.490000</td>\n",
       "      <td>136.423333</td>\n",
       "      <td>128.190000</td>\n",
       "      <td>122.723333</td>\n",
       "      <td>107.256667</td>\n",
       "      <td>120.323333</td>\n",
       "    </tr>\n",
       "  </tbody>\n",
       "</table>\n",
       "</div>"
      ],
      "text/plain": [
       "        lat        lon    pathBTS1    pathBTS2    pathBTS3    pathBTS4  \\\n",
       "0 -8.076391 -34.895985  120.610000  104.380000  129.970000  123.620000   \n",
       "1 -8.072939 -34.895676  105.290000  121.523333  106.556667  108.756667   \n",
       "2 -8.076256 -34.899773  122.256667  110.423333  124.490000  135.256667   \n",
       "3 -8.064446 -34.889416  127.423333  132.656667  130.556667  131.856667   \n",
       "4 -8.068819 -34.888874  121.490000  136.423333  128.190000  122.723333   \n",
       "\n",
       "     pathBTS5    pathBTS6  \n",
       "0  129.460000  132.080000  \n",
       "1  122.556667  126.123333  \n",
       "2  142.956667  142.556667  \n",
       "3  126.090000  137.723333  \n",
       "4  107.256667  120.323333  "
      ]
     },
     "execution_count": 56,
     "metadata": {},
     "output_type": "execute_result"
    }
   ],
   "source": [
    "df = df_ref.iloc[:, 0:9]\n",
    "df = df.dropna(axis='rows')\n",
    "df.head()"
   ]
  },
  {
   "cell_type": "code",
   "execution_count": 57,
   "metadata": {},
   "outputs": [],
   "source": [
    "from sklearn.neighbors import KNeighborsRegressor\n",
    "from sklearn.multioutput import MultiOutputRegressor\n",
    "\n",
    "def knn_grid(celula, medicao):\n",
    "    \n",
    "    X = medicao.iloc[:, 0:2]\n",
    "    y = medicao.iloc[:, 2:]\n",
    "    \n",
    "    pos = list(zip(medicao.iloc[:, 0], medicao.iloc[:, 1]))\n",
    "    \n",
    "    knn = KNeighborsRegressor(n_neighbors=5)\n",
    "    multi = MultiOutputRegressor(knn).fit(X, y)\n",
    "    \n",
    "    linhas = []\n",
    "    \n",
    "    for i in range(len(celula)):\n",
    "        \n",
    "        linha = {'lat':'', 'lon':'', 'pathBTS1':'', 'pathBTS2':'', 'pathBTS3':'', 'pathBTS4':'', 'pathBTS5':'', 'pathBTS6':''}\n",
    "        posAtual = [[celula.iloc[i, 0], celula.iloc[i, 1]]]\n",
    "        y_pred = multi.predict(posAtual)\n",
    "        \n",
    "        linha['lat'] = celula.iloc[i,0]\n",
    "        linha['lon'] = celula.iloc[i,1]\n",
    "        linha['pathBTS1'] = y_pred[0,0]\n",
    "        linha['pathBTS2'] = y_pred[0,1]\n",
    "        linha['pathBTS3'] = y_pred[0,2]\n",
    "        linha['pathBTS4'] = y_pred[0,3]\n",
    "        linha['pathBTS5'] = y_pred[0,4]\n",
    "        linha['pathBTS6'] = y_pred[0,5]\n",
    "        \n",
    "        linhas.append(linha)\n",
    "        \n",
    "    df = pd.DataFrame(linhas)\n",
    "    return df\n"
   ]
  },
  {
   "cell_type": "code",
   "execution_count": 58,
   "metadata": {},
   "outputs": [
    {
     "data": {
      "text/html": [
       "<div>\n",
       "<style scoped>\n",
       "    .dataframe tbody tr th:only-of-type {\n",
       "        vertical-align: middle;\n",
       "    }\n",
       "\n",
       "    .dataframe tbody tr th {\n",
       "        vertical-align: top;\n",
       "    }\n",
       "\n",
       "    .dataframe thead th {\n",
       "        text-align: right;\n",
       "    }\n",
       "</style>\n",
       "<table border=\"1\" class=\"dataframe\">\n",
       "  <thead>\n",
       "    <tr style=\"text-align: right;\">\n",
       "      <th></th>\n",
       "      <th>lat</th>\n",
       "      <th>lon</th>\n",
       "      <th>pathBTS1</th>\n",
       "      <th>pathBTS2</th>\n",
       "      <th>pathBTS3</th>\n",
       "      <th>pathBTS4</th>\n",
       "      <th>pathBTS5</th>\n",
       "      <th>pathBTS6</th>\n",
       "    </tr>\n",
       "  </thead>\n",
       "  <tbody>\n",
       "    <tr>\n",
       "      <th>0</th>\n",
       "      <td>-8.077305</td>\n",
       "      <td>-34.906603</td>\n",
       "      <td>123.873333</td>\n",
       "      <td>116.983333</td>\n",
       "      <td>124.086667</td>\n",
       "      <td>132.093333</td>\n",
       "      <td>139.893333</td>\n",
       "      <td>137.573333</td>\n",
       "    </tr>\n",
       "    <tr>\n",
       "      <th>1</th>\n",
       "      <td>-8.076762</td>\n",
       "      <td>-34.906603</td>\n",
       "      <td>121.806667</td>\n",
       "      <td>119.230000</td>\n",
       "      <td>118.320000</td>\n",
       "      <td>130.523333</td>\n",
       "      <td>140.266667</td>\n",
       "      <td>137.443333</td>\n",
       "    </tr>\n",
       "    <tr>\n",
       "      <th>2</th>\n",
       "      <td>-8.076220</td>\n",
       "      <td>-34.906603</td>\n",
       "      <td>120.716667</td>\n",
       "      <td>117.626667</td>\n",
       "      <td>112.106667</td>\n",
       "      <td>126.840000</td>\n",
       "      <td>139.066667</td>\n",
       "      <td>135.403333</td>\n",
       "    </tr>\n",
       "    <tr>\n",
       "      <th>3</th>\n",
       "      <td>-8.075677</td>\n",
       "      <td>-34.906603</td>\n",
       "      <td>124.410000</td>\n",
       "      <td>116.226667</td>\n",
       "      <td>117.126667</td>\n",
       "      <td>125.096667</td>\n",
       "      <td>142.456667</td>\n",
       "      <td>138.776667</td>\n",
       "    </tr>\n",
       "    <tr>\n",
       "      <th>4</th>\n",
       "      <td>-8.075135</td>\n",
       "      <td>-34.906603</td>\n",
       "      <td>123.448333</td>\n",
       "      <td>120.756667</td>\n",
       "      <td>120.860000</td>\n",
       "      <td>126.446667</td>\n",
       "      <td>143.538333</td>\n",
       "      <td>137.108333</td>\n",
       "    </tr>\n",
       "  </tbody>\n",
       "</table>\n",
       "</div>"
      ],
      "text/plain": [
       "        lat        lon    pathBTS1    pathBTS2    pathBTS3    pathBTS4  \\\n",
       "0 -8.077305 -34.906603  123.873333  116.983333  124.086667  132.093333   \n",
       "1 -8.076762 -34.906603  121.806667  119.230000  118.320000  130.523333   \n",
       "2 -8.076220 -34.906603  120.716667  117.626667  112.106667  126.840000   \n",
       "3 -8.075677 -34.906603  124.410000  116.226667  117.126667  125.096667   \n",
       "4 -8.075135 -34.906603  123.448333  120.756667  120.860000  126.446667   \n",
       "\n",
       "     pathBTS5    pathBTS6  \n",
       "0  139.893333  137.573333  \n",
       "1  140.266667  137.443333  \n",
       "2  139.066667  135.403333  \n",
       "3  142.456667  138.776667  \n",
       "4  143.538333  137.108333  "
      ]
     },
     "execution_count": 58,
     "metadata": {},
     "output_type": "execute_result"
    }
   ],
   "source": [
    "df = df_ref.iloc[:, 0:9]\n",
    "df = df.dropna(axis='rows')\n",
    "grid = knn_grid(df_cells_coord,df)\n",
    "grid.head()"
   ]
  },
  {
   "cell_type": "code",
   "execution_count": 59,
   "metadata": {},
   "outputs": [
    {
     "data": {
      "text/html": [
       "<div>\n",
       "<style scoped>\n",
       "    .dataframe tbody tr th:only-of-type {\n",
       "        vertical-align: middle;\n",
       "    }\n",
       "\n",
       "    .dataframe tbody tr th {\n",
       "        vertical-align: top;\n",
       "    }\n",
       "\n",
       "    .dataframe thead th {\n",
       "        text-align: right;\n",
       "    }\n",
       "</style>\n",
       "<table border=\"1\" class=\"dataframe\">\n",
       "  <thead>\n",
       "    <tr style=\"text-align: right;\">\n",
       "      <th></th>\n",
       "      <th>lat</th>\n",
       "      <th>lon</th>\n",
       "      <th>pathBTS1</th>\n",
       "      <th>pathBTS2</th>\n",
       "      <th>pathBTS3</th>\n",
       "      <th>pathBTS4</th>\n",
       "      <th>pathBTS5</th>\n",
       "      <th>pathBTS6</th>\n",
       "    </tr>\n",
       "  </thead>\n",
       "  <tbody>\n",
       "    <tr>\n",
       "      <th>0</th>\n",
       "      <td>-8.076391</td>\n",
       "      <td>-34.895985</td>\n",
       "      <td>120.610000</td>\n",
       "      <td>104.380000</td>\n",
       "      <td>129.970000</td>\n",
       "      <td>123.620000</td>\n",
       "      <td>129.460000</td>\n",
       "      <td>132.080000</td>\n",
       "    </tr>\n",
       "    <tr>\n",
       "      <th>1</th>\n",
       "      <td>-8.072939</td>\n",
       "      <td>-34.895676</td>\n",
       "      <td>105.290000</td>\n",
       "      <td>121.523333</td>\n",
       "      <td>106.556667</td>\n",
       "      <td>108.756667</td>\n",
       "      <td>122.556667</td>\n",
       "      <td>126.123333</td>\n",
       "    </tr>\n",
       "    <tr>\n",
       "      <th>2</th>\n",
       "      <td>-8.076256</td>\n",
       "      <td>-34.899773</td>\n",
       "      <td>122.256667</td>\n",
       "      <td>110.423333</td>\n",
       "      <td>124.490000</td>\n",
       "      <td>135.256667</td>\n",
       "      <td>142.956667</td>\n",
       "      <td>142.556667</td>\n",
       "    </tr>\n",
       "    <tr>\n",
       "      <th>3</th>\n",
       "      <td>-8.064446</td>\n",
       "      <td>-34.889416</td>\n",
       "      <td>127.423333</td>\n",
       "      <td>132.656667</td>\n",
       "      <td>130.556667</td>\n",
       "      <td>131.856667</td>\n",
       "      <td>126.090000</td>\n",
       "      <td>137.723333</td>\n",
       "    </tr>\n",
       "    <tr>\n",
       "      <th>4</th>\n",
       "      <td>-8.068819</td>\n",
       "      <td>-34.888874</td>\n",
       "      <td>121.490000</td>\n",
       "      <td>136.423333</td>\n",
       "      <td>128.190000</td>\n",
       "      <td>122.723333</td>\n",
       "      <td>107.256667</td>\n",
       "      <td>120.323333</td>\n",
       "    </tr>\n",
       "  </tbody>\n",
       "</table>\n",
       "</div>"
      ],
      "text/plain": [
       "        lat        lon    pathBTS1    pathBTS2    pathBTS3    pathBTS4  \\\n",
       "0 -8.076391 -34.895985  120.610000  104.380000  129.970000  123.620000   \n",
       "1 -8.072939 -34.895676  105.290000  121.523333  106.556667  108.756667   \n",
       "2 -8.076256 -34.899773  122.256667  110.423333  124.490000  135.256667   \n",
       "3 -8.064446 -34.889416  127.423333  132.656667  130.556667  131.856667   \n",
       "4 -8.068819 -34.888874  121.490000  136.423333  128.190000  122.723333   \n",
       "\n",
       "     pathBTS5    pathBTS6  \n",
       "0  129.460000  132.080000  \n",
       "1  122.556667  126.123333  \n",
       "2  142.956667  142.556667  \n",
       "3  126.090000  137.723333  \n",
       "4  107.256667  120.323333  "
      ]
     },
     "execution_count": 59,
     "metadata": {},
     "output_type": "execute_result"
    }
   ],
   "source": [
    "df.head()"
   ]
  },
  {
   "cell_type": "markdown",
   "metadata": {},
   "source": [
    "### Seleção células de interesse\n"
   ]
  },
  {
   "cell_type": "code",
   "execution_count": 60,
   "metadata": {},
   "outputs": [
    {
     "data": {
      "text/plain": [
       "1640"
      ]
     },
     "execution_count": 60,
     "metadata": {},
     "output_type": "execute_result"
    }
   ],
   "source": [
    "len(grid)"
   ]
  },
  {
   "cell_type": "code",
   "execution_count": 61,
   "metadata": {},
   "outputs": [
    {
     "data": {
      "text/plain": [
       "1498"
      ]
     },
     "execution_count": 61,
     "metadata": {},
     "output_type": "execute_result"
    }
   ],
   "source": [
    "len(df)"
   ]
  },
  {
   "cell_type": "code",
   "execution_count": 62,
   "metadata": {},
   "outputs": [
    {
     "data": {
      "text/html": [
       "<div>\n",
       "<style scoped>\n",
       "    .dataframe tbody tr th:only-of-type {\n",
       "        vertical-align: middle;\n",
       "    }\n",
       "\n",
       "    .dataframe tbody tr th {\n",
       "        vertical-align: top;\n",
       "    }\n",
       "\n",
       "    .dataframe thead th {\n",
       "        text-align: right;\n",
       "    }\n",
       "</style>\n",
       "<table border=\"1\" class=\"dataframe\">\n",
       "  <thead>\n",
       "    <tr style=\"text-align: right;\">\n",
       "      <th></th>\n",
       "      <th>lat</th>\n",
       "      <th>lon</th>\n",
       "      <th>pathBTS1</th>\n",
       "      <th>pathBTS2</th>\n",
       "      <th>pathBTS3</th>\n",
       "      <th>pathBTS4</th>\n",
       "      <th>pathBTS5</th>\n",
       "      <th>pathBTS6</th>\n",
       "    </tr>\n",
       "  </thead>\n",
       "  <tbody>\n",
       "    <tr>\n",
       "      <th>0</th>\n",
       "      <td>-8.076391</td>\n",
       "      <td>-34.895985</td>\n",
       "      <td>120.610000</td>\n",
       "      <td>104.380000</td>\n",
       "      <td>129.970000</td>\n",
       "      <td>123.620000</td>\n",
       "      <td>129.460000</td>\n",
       "      <td>132.080000</td>\n",
       "    </tr>\n",
       "    <tr>\n",
       "      <th>1</th>\n",
       "      <td>-8.072939</td>\n",
       "      <td>-34.895676</td>\n",
       "      <td>105.290000</td>\n",
       "      <td>121.523333</td>\n",
       "      <td>106.556667</td>\n",
       "      <td>108.756667</td>\n",
       "      <td>122.556667</td>\n",
       "      <td>126.123333</td>\n",
       "    </tr>\n",
       "    <tr>\n",
       "      <th>2</th>\n",
       "      <td>-8.076256</td>\n",
       "      <td>-34.899773</td>\n",
       "      <td>122.256667</td>\n",
       "      <td>110.423333</td>\n",
       "      <td>124.490000</td>\n",
       "      <td>135.256667</td>\n",
       "      <td>142.956667</td>\n",
       "      <td>142.556667</td>\n",
       "    </tr>\n",
       "    <tr>\n",
       "      <th>3</th>\n",
       "      <td>-8.064446</td>\n",
       "      <td>-34.889416</td>\n",
       "      <td>127.423333</td>\n",
       "      <td>132.656667</td>\n",
       "      <td>130.556667</td>\n",
       "      <td>131.856667</td>\n",
       "      <td>126.090000</td>\n",
       "      <td>137.723333</td>\n",
       "    </tr>\n",
       "    <tr>\n",
       "      <th>4</th>\n",
       "      <td>-8.068819</td>\n",
       "      <td>-34.888874</td>\n",
       "      <td>121.490000</td>\n",
       "      <td>136.423333</td>\n",
       "      <td>128.190000</td>\n",
       "      <td>122.723333</td>\n",
       "      <td>107.256667</td>\n",
       "      <td>120.323333</td>\n",
       "    </tr>\n",
       "  </tbody>\n",
       "</table>\n",
       "</div>"
      ],
      "text/plain": [
       "        lat        lon    pathBTS1    pathBTS2    pathBTS3    pathBTS4  \\\n",
       "0 -8.076391 -34.895985  120.610000  104.380000  129.970000  123.620000   \n",
       "1 -8.072939 -34.895676  105.290000  121.523333  106.556667  108.756667   \n",
       "2 -8.076256 -34.899773  122.256667  110.423333  124.490000  135.256667   \n",
       "3 -8.064446 -34.889416  127.423333  132.656667  130.556667  131.856667   \n",
       "4 -8.068819 -34.888874  121.490000  136.423333  128.190000  122.723333   \n",
       "\n",
       "     pathBTS5    pathBTS6  \n",
       "0  129.460000  132.080000  \n",
       "1  122.556667  126.123333  \n",
       "2  142.956667  142.556667  \n",
       "3  126.090000  137.723333  \n",
       "4  107.256667  120.323333  "
      ]
     },
     "execution_count": 62,
     "metadata": {},
     "output_type": "execute_result"
    }
   ],
   "source": [
    "df_total = pd.concat([df,grid])\n",
    "df_total.head()"
   ]
  },
  {
   "cell_type": "code",
   "execution_count": 63,
   "metadata": {},
   "outputs": [
    {
     "data": {
      "text/plain": [
       "3138"
      ]
     },
     "execution_count": 63,
     "metadata": {},
     "output_type": "execute_result"
    }
   ],
   "source": [
    "len(df_total)"
   ]
  },
  {
   "cell_type": "code",
   "execution_count": 64,
   "metadata": {},
   "outputs": [],
   "source": [
    "df_total.to_csv('df_total.csv', sep='\\t')"
   ]
  },
  {
   "cell_type": "code",
   "execution_count": 65,
   "metadata": {},
   "outputs": [],
   "source": [
    "\n",
    "import math\n",
    "\n",
    "def divideCell(lat, lon):\n",
    "    pi = math.pi\n",
    "    half_width = 61/2\n",
    "    half_length = 50/2\n",
    "    r_earth = 6378*1000\n",
    "    \n",
    "    new_latitude_mais  = lat  + (half_length / r_earth) * (180 / pi);\n",
    "    new_longitude_mais = lon + (half_width / r_earth) * (180 / pi) / math.cos(lat * pi/180);\n",
    "    new_latitude_menos  = lat  + ((-half_length) / r_earth) * (180 / pi);\n",
    "    new_longitude_menos = lon + ((-half_width) / r_earth) * (180 / pi) / math.cos(lat * pi/180);\n",
    "    \n",
    "    # (+lat +lon), (+lat -lon), (-lat +lon), (-lat -lon)\n",
    "    return [(new_latitude_mais, new_longitude_mais), (new_latitude_mais, new_longitude_menos),\n",
    "            (new_latitude_menos, new_longitude_mais), (new_latitude_menos, new_longitude_menos)]\n",
    "\n",
    "#new_cells = divideCell(-8.077305, -34.906603)\n",
    "#print(new_cells)"
   ]
  },
  {
   "cell_type": "code",
   "execution_count": 66,
   "metadata": {},
   "outputs": [],
   "source": [
    "def addNewCellsToGrid(gridEx): \n",
    "    count = 0\n",
    "    new_rows = []\n",
    "    aux_rows = []\n",
    "\n",
    "    for index, row in grid.iterrows():\n",
    "        if(((float(row['pathBTS1']) > 132.17) and (float(row['pathBTS4']) > 130.838) and (float(row['pathBTS3']) > 132.118))or \n",
    "           ((float(row['pathBTS2']) > 130.052) and (float(row['pathBTS5']) < 114.867) and (float(row['pathBTS6']) > 137.78))):\n",
    "            count = count +1\n",
    "            new_cells = divideCell(row['lat'], row['lon'])\n",
    "            #print(new_cells)\n",
    "            each_cell = {'lat':'', 'lon':'', 'pathBTS1':'', 'pathBTS2':'', 'pathBTS3':'', 'pathBTS4':'', 'pathBTS5':'', 'pathBTS6':''}\n",
    "            cell_latLon = {'lat':'', 'lon':''} \n",
    "            \n",
    "            for cell in new_cells:\n",
    "                each_cell['lat'] = cell[0]\n",
    "                each_cell['lon'] = cell[1]\n",
    "                new_rows.append(each_cell)\n",
    "                cell_latLon['lat'] = cell[0]\n",
    "                cell_latLon['lon'] = cell[1]\n",
    "                aux_rows.append(cell_latLon)\n",
    "    \n",
    "    # adiciona novas rows ao grid\n",
    "    df_novo_grid = gridEx.append(new_rows, sort=False, ignore_index=True)\n",
    "    df_cells = pd.DataFrame(aux_rows)\n",
    "    \n",
    "    print(count)\n",
    "    \n",
    "    \n",
    "    return df_novo_grid, df_cells   \n",
    "\n",
    "\n"
   ]
  },
  {
   "cell_type": "code",
   "execution_count": 67,
   "metadata": {},
   "outputs": [
    {
     "name": "stdout",
     "output_type": "stream",
     "text": [
      "187\n"
     ]
    },
    {
     "data": {
      "text/html": [
       "<div>\n",
       "<style scoped>\n",
       "    .dataframe tbody tr th:only-of-type {\n",
       "        vertical-align: middle;\n",
       "    }\n",
       "\n",
       "    .dataframe tbody tr th {\n",
       "        vertical-align: top;\n",
       "    }\n",
       "\n",
       "    .dataframe thead th {\n",
       "        text-align: right;\n",
       "    }\n",
       "</style>\n",
       "<table border=\"1\" class=\"dataframe\">\n",
       "  <thead>\n",
       "    <tr style=\"text-align: right;\">\n",
       "      <th></th>\n",
       "      <th>lat</th>\n",
       "      <th>lon</th>\n",
       "      <th>pathBTS1</th>\n",
       "      <th>pathBTS2</th>\n",
       "      <th>pathBTS3</th>\n",
       "      <th>pathBTS4</th>\n",
       "      <th>pathBTS5</th>\n",
       "      <th>pathBTS6</th>\n",
       "    </tr>\n",
       "  </thead>\n",
       "  <tbody>\n",
       "    <tr>\n",
       "      <th>0</th>\n",
       "      <td>-8.077305</td>\n",
       "      <td>-34.906603</td>\n",
       "      <td>123.873</td>\n",
       "      <td>116.983</td>\n",
       "      <td>124.087</td>\n",
       "      <td>132.093</td>\n",
       "      <td>139.893</td>\n",
       "      <td>137.573</td>\n",
       "    </tr>\n",
       "    <tr>\n",
       "      <th>1</th>\n",
       "      <td>-8.076762</td>\n",
       "      <td>-34.906603</td>\n",
       "      <td>121.807</td>\n",
       "      <td>119.23</td>\n",
       "      <td>118.32</td>\n",
       "      <td>130.523</td>\n",
       "      <td>140.267</td>\n",
       "      <td>137.443</td>\n",
       "    </tr>\n",
       "    <tr>\n",
       "      <th>2</th>\n",
       "      <td>-8.076220</td>\n",
       "      <td>-34.906603</td>\n",
       "      <td>120.717</td>\n",
       "      <td>117.627</td>\n",
       "      <td>112.107</td>\n",
       "      <td>126.84</td>\n",
       "      <td>139.067</td>\n",
       "      <td>135.403</td>\n",
       "    </tr>\n",
       "    <tr>\n",
       "      <th>3</th>\n",
       "      <td>-8.075677</td>\n",
       "      <td>-34.906603</td>\n",
       "      <td>124.41</td>\n",
       "      <td>116.227</td>\n",
       "      <td>117.127</td>\n",
       "      <td>125.097</td>\n",
       "      <td>142.457</td>\n",
       "      <td>138.777</td>\n",
       "    </tr>\n",
       "    <tr>\n",
       "      <th>4</th>\n",
       "      <td>-8.075135</td>\n",
       "      <td>-34.906603</td>\n",
       "      <td>123.448</td>\n",
       "      <td>120.757</td>\n",
       "      <td>120.86</td>\n",
       "      <td>126.447</td>\n",
       "      <td>143.538</td>\n",
       "      <td>137.108</td>\n",
       "    </tr>\n",
       "  </tbody>\n",
       "</table>\n",
       "</div>"
      ],
      "text/plain": [
       "        lat        lon pathBTS1 pathBTS2 pathBTS3 pathBTS4 pathBTS5 pathBTS6\n",
       "0 -8.077305 -34.906603  123.873  116.983  124.087  132.093  139.893  137.573\n",
       "1 -8.076762 -34.906603  121.807   119.23   118.32  130.523  140.267  137.443\n",
       "2 -8.076220 -34.906603  120.717  117.627  112.107   126.84  139.067  135.403\n",
       "3 -8.075677 -34.906603   124.41  116.227  117.127  125.097  142.457  138.777\n",
       "4 -8.075135 -34.906603  123.448  120.757   120.86  126.447  143.538  137.108"
      ]
     },
     "execution_count": 67,
     "metadata": {},
     "output_type": "execute_result"
    }
   ],
   "source": [
    "df_novo_grid, df_cells = addNewCellsToGrid(grid)\n",
    "df_novo_grid.head()"
   ]
  },
  {
   "cell_type": "code",
   "execution_count": 68,
   "metadata": {},
   "outputs": [
    {
     "data": {
      "text/html": [
       "<div>\n",
       "<style scoped>\n",
       "    .dataframe tbody tr th:only-of-type {\n",
       "        vertical-align: middle;\n",
       "    }\n",
       "\n",
       "    .dataframe tbody tr th {\n",
       "        vertical-align: top;\n",
       "    }\n",
       "\n",
       "    .dataframe thead th {\n",
       "        text-align: right;\n",
       "    }\n",
       "</style>\n",
       "<table border=\"1\" class=\"dataframe\">\n",
       "  <thead>\n",
       "    <tr style=\"text-align: right;\">\n",
       "      <th></th>\n",
       "      <th>lat</th>\n",
       "      <th>lon</th>\n",
       "    </tr>\n",
       "  </thead>\n",
       "  <tbody>\n",
       "    <tr>\n",
       "      <th>0</th>\n",
       "      <td>-8.060169</td>\n",
       "      <td>-34.90688</td>\n",
       "    </tr>\n",
       "    <tr>\n",
       "      <th>1</th>\n",
       "      <td>-8.060169</td>\n",
       "      <td>-34.90688</td>\n",
       "    </tr>\n",
       "    <tr>\n",
       "      <th>2</th>\n",
       "      <td>-8.060169</td>\n",
       "      <td>-34.90688</td>\n",
       "    </tr>\n",
       "    <tr>\n",
       "      <th>3</th>\n",
       "      <td>-8.060169</td>\n",
       "      <td>-34.90688</td>\n",
       "    </tr>\n",
       "    <tr>\n",
       "      <th>4</th>\n",
       "      <td>-8.059084</td>\n",
       "      <td>-34.90688</td>\n",
       "    </tr>\n",
       "  </tbody>\n",
       "</table>\n",
       "</div>"
      ],
      "text/plain": [
       "        lat       lon\n",
       "0 -8.060169 -34.90688\n",
       "1 -8.060169 -34.90688\n",
       "2 -8.060169 -34.90688\n",
       "3 -8.060169 -34.90688\n",
       "4 -8.059084 -34.90688"
      ]
     },
     "execution_count": 68,
     "metadata": {},
     "output_type": "execute_result"
    }
   ],
   "source": [
    "df_cells.head()"
   ]
  },
  {
   "cell_type": "code",
   "execution_count": 69,
   "metadata": {},
   "outputs": [
    {
     "data": {
      "text/plain": [
       "2388"
      ]
     },
     "execution_count": 69,
     "metadata": {},
     "output_type": "execute_result"
    }
   ],
   "source": [
    "len(df_novo_grid)"
   ]
  },
  {
   "cell_type": "markdown",
   "metadata": {},
   "source": [
    "### Printando posição das coisas no mapa"
   ]
  },
  {
   "cell_type": "code",
   "execution_count": 70,
   "metadata": {},
   "outputs": [
    {
     "data": {
      "text/plain": [
       "<matplotlib.axes._subplots.AxesSubplot at 0x2d71fc87a20>"
      ]
     },
     "execution_count": 70,
     "metadata": {},
     "output_type": "execute_result"
    },
    {
     "data": {
      "image/png": "[encoded data removed]",
      "text/plain": [
       "<Figure size 432x288 with 1 Axes>"
      ]
     },
     "metadata": {},
     "output_type": "display_data"
    },
    {
     "data": {
      "image/png": "[encoded data removed]",
      "text/plain": [
       "<Figure size 432x288 with 1 Axes>"
      ]
     },
     "metadata": {},
     "output_type": "display_data"
    },
    {
     "data": {
      "image/png": "[encoded data removed]",
      "text/plain": [
       "<Figure size 432x288 with 1 Axes>"
      ]
     },
     "metadata": {},
     "output_type": "display_data"
    },
    {
     "data": {
      "image/png": "[encoded data removed]",
      "text/plain": [
       "<Figure size 432x288 with 1 Axes>"
      ]
     },
     "metadata": {},
     "output_type": "display_data"
    }
   ],
   "source": [
    "figure2 = df_cells.plot(kind='scatter', x='lon', y='lat')\n",
    "figure2 = df_ref.plot(kind='scatter', x='lon', y='lat')\n",
    "figure2 = df_antenas.plot(kind='scatter', x='lon', y='lat')\n",
    "figure2 = grid.plot(kind='scatter', x='lon', y='lat')\n",
    "\n",
    "figure2.grid(True)\n",
    "\n",
    "figure2"
   ]
  },
  {
   "cell_type": "markdown",
   "metadata": {},
   "source": [
    "import folium\n",
    "\n",
    "recife = folium.Map( location=[-8.05428, -34.8813], zoom_start=12)"
   ]
  },
  {
   "cell_type": "markdown",
   "metadata": {},
   "source": [
    "\n",
    "i = 0\n",
    "while i < len(df_ref):\n",
    "    aux = df_ref.iloc[i]\n",
    "    folium.Marker(location=[aux['lat'], aux['lon']]).add_to(recife)\n",
    "    i = i+1\n",
    "\n",
    "i = 0\n",
    "while i < len(df_antenas):\n",
    "    aux = df_antenas.iloc[i]\n",
    "    folium.Marker(location=[aux['lat'], aux['lon']], icon=folium.Icon(color='red')).add_to(recife)\n",
    "    i = i+1\n",
    "\n",
    "\n",
    "i = 0\n",
    "while i < len(grid):\n",
    "    aux = grid.iloc[i]\n",
    "    folium.Marker(location=[aux['lat'], aux['lon']], icon=folium.Icon(color='green')).add_to(recife)\n",
    "    i = i+1\n",
    "\n",
    "\n",
    "i = 0\n",
    "while i < len(df_cells):\n",
    "    aux = df_cells.iloc[i]\n",
    "    folium.Marker(location=[aux['lat'], aux['lon']], icon=folium.Icon(color='pink')).add_to(recife)\n",
    "    i = i+1\n",
    "\n"
   ]
  },
  {
   "cell_type": "code",
   "execution_count": 71,
   "metadata": {},
   "outputs": [],
   "source": [
    "#recife"
   ]
  },
  {
   "cell_type": "markdown",
   "metadata": {},
   "source": [
    "### Predição"
   ]
  },
  {
   "cell_type": "code",
   "execution_count": 72,
   "metadata": {},
   "outputs": [
    {
     "data": {
      "text/html": [
       "<div>\n",
       "<style scoped>\n",
       "    .dataframe tbody tr th:only-of-type {\n",
       "        vertical-align: middle;\n",
       "    }\n",
       "\n",
       "    .dataframe tbody tr th {\n",
       "        vertical-align: top;\n",
       "    }\n",
       "\n",
       "    .dataframe thead th {\n",
       "        text-align: right;\n",
       "    }\n",
       "</style>\n",
       "<table border=\"1\" class=\"dataframe\">\n",
       "  <thead>\n",
       "    <tr style=\"text-align: right;\">\n",
       "      <th></th>\n",
       "      <th>lat</th>\n",
       "      <th>lon</th>\n",
       "      <th>pathBTS1</th>\n",
       "      <th>pathBTS2</th>\n",
       "      <th>pathBTS3</th>\n",
       "      <th>pathBTS4</th>\n",
       "      <th>pathBTS5</th>\n",
       "      <th>pathBTS6</th>\n",
       "    </tr>\n",
       "  </thead>\n",
       "  <tbody>\n",
       "    <tr>\n",
       "      <th>0</th>\n",
       "      <td>-8.077305</td>\n",
       "      <td>-34.906603</td>\n",
       "      <td>123.873333</td>\n",
       "      <td>116.983333</td>\n",
       "      <td>124.086667</td>\n",
       "      <td>132.093333</td>\n",
       "      <td>139.893333</td>\n",
       "      <td>137.573333</td>\n",
       "    </tr>\n",
       "    <tr>\n",
       "      <th>1</th>\n",
       "      <td>-8.076762</td>\n",
       "      <td>-34.906603</td>\n",
       "      <td>121.806667</td>\n",
       "      <td>119.230000</td>\n",
       "      <td>118.320000</td>\n",
       "      <td>130.523333</td>\n",
       "      <td>140.266667</td>\n",
       "      <td>137.443333</td>\n",
       "    </tr>\n",
       "    <tr>\n",
       "      <th>2</th>\n",
       "      <td>-8.076220</td>\n",
       "      <td>-34.906603</td>\n",
       "      <td>120.716667</td>\n",
       "      <td>117.626667</td>\n",
       "      <td>112.106667</td>\n",
       "      <td>126.840000</td>\n",
       "      <td>139.066667</td>\n",
       "      <td>135.403333</td>\n",
       "    </tr>\n",
       "    <tr>\n",
       "      <th>3</th>\n",
       "      <td>-8.075677</td>\n",
       "      <td>-34.906603</td>\n",
       "      <td>124.410000</td>\n",
       "      <td>116.226667</td>\n",
       "      <td>117.126667</td>\n",
       "      <td>125.096667</td>\n",
       "      <td>142.456667</td>\n",
       "      <td>138.776667</td>\n",
       "    </tr>\n",
       "    <tr>\n",
       "      <th>4</th>\n",
       "      <td>-8.075135</td>\n",
       "      <td>-34.906603</td>\n",
       "      <td>123.448333</td>\n",
       "      <td>120.756667</td>\n",
       "      <td>120.860000</td>\n",
       "      <td>126.446667</td>\n",
       "      <td>143.538333</td>\n",
       "      <td>137.108333</td>\n",
       "    </tr>\n",
       "  </tbody>\n",
       "</table>\n",
       "</div>"
      ],
      "text/plain": [
       "        lat        lon    pathBTS1    pathBTS2    pathBTS3    pathBTS4  \\\n",
       "0 -8.077305 -34.906603  123.873333  116.983333  124.086667  132.093333   \n",
       "1 -8.076762 -34.906603  121.806667  119.230000  118.320000  130.523333   \n",
       "2 -8.076220 -34.906603  120.716667  117.626667  112.106667  126.840000   \n",
       "3 -8.075677 -34.906603  124.410000  116.226667  117.126667  125.096667   \n",
       "4 -8.075135 -34.906603  123.448333  120.756667  120.860000  126.446667   \n",
       "\n",
       "     pathBTS5    pathBTS6  \n",
       "0  139.893333  137.573333  \n",
       "1  140.266667  137.443333  \n",
       "2  139.066667  135.403333  \n",
       "3  142.456667  138.776667  \n",
       "4  143.538333  137.108333  "
      ]
     },
     "execution_count": 72,
     "metadata": {},
     "output_type": "execute_result"
    }
   ],
   "source": [
    "grid.head()"
   ]
  },
  {
   "cell_type": "code",
   "execution_count": 89,
   "metadata": {},
   "outputs": [
    {
     "data": {
      "text/html": [
       "<div>\n",
       "<style scoped>\n",
       "    .dataframe tbody tr th:only-of-type {\n",
       "        vertical-align: middle;\n",
       "    }\n",
       "\n",
       "    .dataframe tbody tr th {\n",
       "        vertical-align: top;\n",
       "    }\n",
       "\n",
       "    .dataframe thead th {\n",
       "        text-align: right;\n",
       "    }\n",
       "</style>\n",
       "<table border=\"1\" class=\"dataframe\">\n",
       "  <thead>\n",
       "    <tr style=\"text-align: right;\">\n",
       "      <th></th>\n",
       "      <th>lat</th>\n",
       "      <th>lon</th>\n",
       "      <th>pathBTS1</th>\n",
       "      <th>pathBTS2</th>\n",
       "      <th>pathBTS3</th>\n",
       "      <th>pathBTS4</th>\n",
       "      <th>pathBTS5</th>\n",
       "      <th>pathBTS6</th>\n",
       "    </tr>\n",
       "  </thead>\n",
       "  <tbody>\n",
       "    <tr>\n",
       "      <th>0</th>\n",
       "      <td>-8.077305</td>\n",
       "      <td>-34.906603</td>\n",
       "      <td>123.873</td>\n",
       "      <td>116.983</td>\n",
       "      <td>124.087</td>\n",
       "      <td>132.093</td>\n",
       "      <td>139.893</td>\n",
       "      <td>137.573</td>\n",
       "    </tr>\n",
       "    <tr>\n",
       "      <th>1</th>\n",
       "      <td>-8.076762</td>\n",
       "      <td>-34.906603</td>\n",
       "      <td>121.807</td>\n",
       "      <td>119.23</td>\n",
       "      <td>118.32</td>\n",
       "      <td>130.523</td>\n",
       "      <td>140.267</td>\n",
       "      <td>137.443</td>\n",
       "    </tr>\n",
       "    <tr>\n",
       "      <th>2</th>\n",
       "      <td>-8.076220</td>\n",
       "      <td>-34.906603</td>\n",
       "      <td>120.717</td>\n",
       "      <td>117.627</td>\n",
       "      <td>112.107</td>\n",
       "      <td>126.84</td>\n",
       "      <td>139.067</td>\n",
       "      <td>135.403</td>\n",
       "    </tr>\n",
       "    <tr>\n",
       "      <th>3</th>\n",
       "      <td>-8.075677</td>\n",
       "      <td>-34.906603</td>\n",
       "      <td>124.41</td>\n",
       "      <td>116.227</td>\n",
       "      <td>117.127</td>\n",
       "      <td>125.097</td>\n",
       "      <td>142.457</td>\n",
       "      <td>138.777</td>\n",
       "    </tr>\n",
       "    <tr>\n",
       "      <th>4</th>\n",
       "      <td>-8.075135</td>\n",
       "      <td>-34.906603</td>\n",
       "      <td>123.448</td>\n",
       "      <td>120.757</td>\n",
       "      <td>120.86</td>\n",
       "      <td>126.447</td>\n",
       "      <td>143.538</td>\n",
       "      <td>137.108</td>\n",
       "    </tr>\n",
       "  </tbody>\n",
       "</table>\n",
       "</div>"
      ],
      "text/plain": [
       "        lat        lon pathBTS1 pathBTS2 pathBTS3 pathBTS4 pathBTS5 pathBTS6\n",
       "0 -8.077305 -34.906603  123.873  116.983  124.087  132.093  139.893  137.573\n",
       "1 -8.076762 -34.906603  121.807   119.23   118.32  130.523  140.267  137.443\n",
       "2 -8.076220 -34.906603  120.717  117.627  112.107   126.84  139.067  135.403\n",
       "3 -8.075677 -34.906603   124.41  116.227  117.127  125.097  142.457  138.777\n",
       "4 -8.075135 -34.906603  123.448  120.757   120.86  126.447  143.538  137.108"
      ]
     },
     "execution_count": 89,
     "metadata": {},
     "output_type": "execute_result"
    }
   ],
   "source": [
    "df_novo_grid.head()"
   ]
  },
  {
   "cell_type": "code",
   "execution_count": 111,
   "metadata": {},
   "outputs": [],
   "source": [
    "from sklearn.model_selection import train_test_split\n",
    "\n",
    "\n",
    "X = grid.drop(['lat','lon'], axis = 1)\n",
    "y = grid.iloc[:, 0:2]\n",
    "\n",
    "\n",
    "X_train, X_test, y_train, y_test = train_test_split(X,y, test_size=0.1)\n"
   ]
  },
  {
   "cell_type": "code",
   "execution_count": 112,
   "metadata": {},
   "outputs": [],
   "source": [
    "df_ref = df_ref.dropna(axis='rows')\n"
   ]
  },
  {
   "cell_type": "code",
   "execution_count": 113,
   "metadata": {},
   "outputs": [
    {
     "data": {
      "text/html": [
       "<div>\n",
       "<style scoped>\n",
       "    .dataframe tbody tr th:only-of-type {\n",
       "        vertical-align: middle;\n",
       "    }\n",
       "\n",
       "    .dataframe tbody tr th {\n",
       "        vertical-align: top;\n",
       "    }\n",
       "\n",
       "    .dataframe thead th {\n",
       "        text-align: right;\n",
       "    }\n",
       "</style>\n",
       "<table border=\"1\" class=\"dataframe\">\n",
       "  <thead>\n",
       "    <tr style=\"text-align: right;\">\n",
       "      <th></th>\n",
       "      <th>pathBTS1</th>\n",
       "      <th>pathBTS2</th>\n",
       "      <th>pathBTS3</th>\n",
       "      <th>pathBTS4</th>\n",
       "      <th>pathBTS5</th>\n",
       "      <th>pathBTS6</th>\n",
       "    </tr>\n",
       "  </thead>\n",
       "  <tbody>\n",
       "    <tr>\n",
       "      <th>75</th>\n",
       "      <td>139.791845</td>\n",
       "      <td>124.802976</td>\n",
       "      <td>137.444464</td>\n",
       "      <td>131.508988</td>\n",
       "      <td>140.718512</td>\n",
       "      <td>136.935893</td>\n",
       "    </tr>\n",
       "    <tr>\n",
       "      <th>445</th>\n",
       "      <td>117.910000</td>\n",
       "      <td>114.316667</td>\n",
       "      <td>111.206667</td>\n",
       "      <td>126.583333</td>\n",
       "      <td>139.230000</td>\n",
       "      <td>136.860000</td>\n",
       "    </tr>\n",
       "    <tr>\n",
       "      <th>582</th>\n",
       "      <td>122.756667</td>\n",
       "      <td>98.046667</td>\n",
       "      <td>122.726667</td>\n",
       "      <td>98.720000</td>\n",
       "      <td>123.863333</td>\n",
       "      <td>102.910000</td>\n",
       "    </tr>\n",
       "    <tr>\n",
       "      <th>645</th>\n",
       "      <td>118.255161</td>\n",
       "      <td>101.042366</td>\n",
       "      <td>94.503011</td>\n",
       "      <td>101.613763</td>\n",
       "      <td>132.208925</td>\n",
       "      <td>131.008280</td>\n",
       "    </tr>\n",
       "    <tr>\n",
       "      <th>722</th>\n",
       "      <td>116.483333</td>\n",
       "      <td>98.910000</td>\n",
       "      <td>129.496667</td>\n",
       "      <td>114.930000</td>\n",
       "      <td>128.436667</td>\n",
       "      <td>139.050000</td>\n",
       "    </tr>\n",
       "  </tbody>\n",
       "</table>\n",
       "</div>"
      ],
      "text/plain": [
       "       pathBTS1    pathBTS2    pathBTS3    pathBTS4    pathBTS5    pathBTS6\n",
       "75   139.791845  124.802976  137.444464  131.508988  140.718512  136.935893\n",
       "445  117.910000  114.316667  111.206667  126.583333  139.230000  136.860000\n",
       "582  122.756667   98.046667  122.726667   98.720000  123.863333  102.910000\n",
       "645  118.255161  101.042366   94.503011  101.613763  132.208925  131.008280\n",
       "722  116.483333   98.910000  129.496667  114.930000  128.436667  139.050000"
      ]
     },
     "execution_count": 113,
     "metadata": {},
     "output_type": "execute_result"
    }
   ],
   "source": [
    "X_train.head()"
   ]
  },
  {
   "cell_type": "code",
   "execution_count": 114,
   "metadata": {},
   "outputs": [
    {
     "data": {
      "text/html": [
       "<div>\n",
       "<style scoped>\n",
       "    .dataframe tbody tr th:only-of-type {\n",
       "        vertical-align: middle;\n",
       "    }\n",
       "\n",
       "    .dataframe tbody tr th {\n",
       "        vertical-align: top;\n",
       "    }\n",
       "\n",
       "    .dataframe thead th {\n",
       "        text-align: right;\n",
       "    }\n",
       "</style>\n",
       "<table border=\"1\" class=\"dataframe\">\n",
       "  <thead>\n",
       "    <tr style=\"text-align: right;\">\n",
       "      <th></th>\n",
       "      <th>lat</th>\n",
       "      <th>lon</th>\n",
       "    </tr>\n",
       "  </thead>\n",
       "  <tbody>\n",
       "    <tr>\n",
       "      <th>75</th>\n",
       "      <td>-8.058317</td>\n",
       "      <td>-34.906059</td>\n",
       "    </tr>\n",
       "    <tr>\n",
       "      <th>445</th>\n",
       "      <td>-8.074592</td>\n",
       "      <td>-34.900615</td>\n",
       "    </tr>\n",
       "    <tr>\n",
       "      <th>582</th>\n",
       "      <td>-8.065369</td>\n",
       "      <td>-34.898982</td>\n",
       "    </tr>\n",
       "    <tr>\n",
       "      <th>645</th>\n",
       "      <td>-8.074592</td>\n",
       "      <td>-34.897894</td>\n",
       "    </tr>\n",
       "    <tr>\n",
       "      <th>722</th>\n",
       "      <td>-8.076220</td>\n",
       "      <td>-34.896805</td>\n",
       "    </tr>\n",
       "  </tbody>\n",
       "</table>\n",
       "</div>"
      ],
      "text/plain": [
       "          lat        lon\n",
       "75  -8.058317 -34.906059\n",
       "445 -8.074592 -34.900615\n",
       "582 -8.065369 -34.898982\n",
       "645 -8.074592 -34.897894\n",
       "722 -8.076220 -34.896805"
      ]
     },
     "execution_count": 114,
     "metadata": {},
     "output_type": "execute_result"
    }
   ],
   "source": [
    "y_train.head()"
   ]
  },
  {
   "cell_type": "code",
   "execution_count": 121,
   "metadata": {},
   "outputs": [],
   "source": [
    "from sklearn.neighbors import KNeighborsRegressor\n",
    "knn = KNeighborsRegressor(n_neighbors=4)"
   ]
  },
  {
   "cell_type": "code",
   "execution_count": 122,
   "metadata": {},
   "outputs": [
    {
     "data": {
      "text/plain": [
       "KNeighborsRegressor(algorithm='auto', leaf_size=30, metric='minkowski',\n",
       "          metric_params=None, n_jobs=1, n_neighbors=4, p=2,\n",
       "          weights='uniform')"
      ]
     },
     "execution_count": 122,
     "metadata": {},
     "output_type": "execute_result"
    }
   ],
   "source": [
    "knn.fit(X_train,y_train)"
   ]
  },
  {
   "cell_type": "code",
   "execution_count": 123,
   "metadata": {},
   "outputs": [
    {
     "name": "stdout",
     "output_type": "stream",
     "text": [
      "rmse:0.0011961908496397505\n"
     ]
    }
   ],
   "source": [
    "from sklearn.metrics import mean_squared_error\n",
    "y_pred = knn.predict(X_test)\n",
    "rmse = np.sqrt(mean_squared_error(y_test,y_pred))\n",
    "print('rmse:{}'.format(rmse))"
   ]
  },
  {
   "cell_type": "markdown",
   "metadata": {},
   "source": [
    "### Passa para metros"
   ]
  },
  {
   "cell_type": "code",
   "execution_count": 124,
   "metadata": {},
   "outputs": [
    {
     "data": {
      "text/html": [
       "<div>\n",
       "<style scoped>\n",
       "    .dataframe tbody tr th:only-of-type {\n",
       "        vertical-align: middle;\n",
       "    }\n",
       "\n",
       "    .dataframe tbody tr th {\n",
       "        vertical-align: top;\n",
       "    }\n",
       "\n",
       "    .dataframe thead th {\n",
       "        text-align: right;\n",
       "    }\n",
       "</style>\n",
       "<table border=\"1\" class=\"dataframe\">\n",
       "  <thead>\n",
       "    <tr style=\"text-align: right;\">\n",
       "      <th></th>\n",
       "      <th>dists</th>\n",
       "    </tr>\n",
       "  </thead>\n",
       "  <tbody>\n",
       "    <tr>\n",
       "      <th>0</th>\n",
       "      <td>120.932548</td>\n",
       "    </tr>\n",
       "    <tr>\n",
       "      <th>1</th>\n",
       "      <td>91.241724</td>\n",
       "    </tr>\n",
       "    <tr>\n",
       "      <th>2</th>\n",
       "      <td>91.242980</td>\n",
       "    </tr>\n",
       "    <tr>\n",
       "      <th>3</th>\n",
       "      <td>138.292186</td>\n",
       "    </tr>\n",
       "    <tr>\n",
       "      <th>4</th>\n",
       "      <td>33.541052</td>\n",
       "    </tr>\n",
       "  </tbody>\n",
       "</table>\n",
       "</div>"
      ],
      "text/plain": [
       "        dists\n",
       "0  120.932548\n",
       "1   91.241724\n",
       "2   91.242980\n",
       "3  138.292186\n",
       "4   33.541052"
      ]
     },
     "execution_count": 124,
     "metadata": {},
     "output_type": "execute_result"
    }
   ],
   "source": [
    "import math\n",
    "\n",
    "def dist_BS_MS(latB, lonB, latM,lonM):\n",
    "    coord_base = (latB, lonB)\n",
    "    coord_mobi = (latM, lonM)\n",
    "    return geopy.distance.vincenty(coord_base, coord_mobi).m\n",
    "\n",
    "u = 0\n",
    "dists = {'dists':[]}\n",
    "\n",
    "while u<len(y_pred):\n",
    "    lat1 = y_pred[u][0]\n",
    "    lon1 = y_pred[u][1]\n",
    "    lat2 = y_test['lat'].iloc[u]\n",
    "    lon2 = y_test['lon'].iloc[u]\n",
    "    \n",
    "#     dists['dists'].append(calc_dist(y_pred[u][m], ))\n",
    "    dists['dists'].append(dist_BS_MS(lat1,lon1,lat2,lon2))\n",
    "    u = u+1\n",
    "    \n",
    "df_dists = pd.DataFrame(dists).head()\n",
    "df_dists"
   ]
  },
  {
   "cell_type": "code",
   "execution_count": 125,
   "metadata": {},
   "outputs": [
    {
     "name": "stdout",
     "output_type": "stream",
     "text": [
      "186.79862994334437\n"
     ]
    }
   ],
   "source": [
    "rms = np.sqrt(np.mean(list(map(lambda x: x**2, dists['dists']))))\n",
    "print(rms)"
   ]
  },
  {
   "cell_type": "code",
   "execution_count": 120,
   "metadata": {},
   "outputs": [
    {
     "name": "stdout",
     "output_type": "stream",
     "text": [
      "Melhor k:4, com RMSE:0.0011961908496397505\n"
     ]
    }
   ],
   "source": [
    "ks = np.arange(1,31)\n",
    "results = np.zeros(30)\n",
    "for k in ks:\n",
    "    knn = KNeighborsRegressor(n_neighbors=k)\n",
    "    knn.fit(X_train,y_train)\n",
    "    y_pred = knn.predict(X_test)\n",
    "    results[k-1] = np.sqrt(mean_squared_error(y_test,y_pred))\n",
    "best_k = results.argmin()+ 1\n",
    "low_rmse = results.min()\n",
    "print (\"Melhor k:{}, com RMSE:{}\".format(best_k,low_rmse))"
   ]
  },
  {
   "cell_type": "code",
   "execution_count": 81,
   "metadata": {},
   "outputs": [
    {
     "data": {
      "text/plain": [
       "Text(0.5,1,'RMSE vs K')"
      ]
     },
     "execution_count": 81,
     "metadata": {},
     "output_type": "execute_result"
    },
    {
     "data": {
      "image/png": "[encoded data removed]",
      "text/plain": [
       "<Figure size 864x432 with 1 Axes>"
      ]
     },
     "metadata": {},
     "output_type": "display_data"
    }
   ],
   "source": [
    "import matplotlib.pyplot as plt\n",
    "\n",
    "plt.figure(figsize=(12,6))\n",
    "plt.plot(ks,results,marker='o',linestyle='--',color='blue')\n",
    "plt.title(\"RMSE vs K\")"
   ]
  },
  {
   "cell_type": "markdown",
   "metadata": {},
   "source": [
    "from sklearn.model_selection import GridSearchCV\n",
    "parameters = {'n_neighbors':list(range(1, 31))}\n",
    "knn = KNeighborsRegressor()\n",
    "grid = GridSearchCV(knn, parameters,cv=10,scoring='neg_mean_squared_error')\n",
    "grid.fit(X_train,y_train)\n",
    "#grid.cv_results_\n",
    "grid.best_params_"
   ]
  },
  {
   "cell_type": "markdown",
   "metadata": {},
   "source": [
    "# Erros de Teste\n",
    "mea_cv_test = grid.cv_results_['mean_test_score']\n",
    "rmse_cv_test = np.sqrt(np.abs(mea_cv_test))\n",
    "# Erros de Treino\n",
    "mea_cv_train = grid.cv_results_['mean_train_score']\n",
    "rmse_cv_train = np.sqrt(np.abs(mea_cv_train))\n",
    "\n",
    "# Fazendo o Gráfico\n",
    "plt.figure(figsize=(12,6))\n",
    "plt.plot(ks,rmse_cv_test,marker='o',linestyle='--',color='red')\n",
    "plt.plot(ks,rmse_cv_train,marker='o',linestyle='--',color='green')\n",
    "plt.legend(['Teste','Treino'],loc=(0.8,0.2))\n",
    "plt.title(\" Validação Cruzada RMSE vs K\")\n",
    "plt.xlabel('k')\n",
    "plt.ylabel('RMSE 10-Cross-Validation')\n"
   ]
  },
  {
   "cell_type": "markdown",
   "metadata": {},
   "source": [
    "grid.cv_results_"
   ]
  },
  {
   "cell_type": "markdown",
   "metadata": {},
   "source": [
    "# Usando o melhor modelo para predições\n",
    "knn = grid.best_estimator_\n",
    "y_pred = knn.predict(X_test)\n",
    "np.sqrt(mean_squared_error(y_test,y_pred))"
   ]
  },
  {
   "cell_type": "code",
   "execution_count": null,
   "metadata": {},
   "outputs": [],
   "source": []
  }
 ],
 "metadata": {
  "kernelspec": {
   "display_name": "Python 3",
   "language": "python",
   "name": "python3"
  },
  "language_info": {
   "codemirror_mode": {
    "name": "ipython",
    "version": 3
   },
   "file_extension": ".py",
   "mimetype": "text/x-python",
   "name": "python",
   "nbconvert_exporter": "python",
   "pygments_lexer": "ipython3",
   "version": "3.7.0"
  }
 },
 "nbformat": 4,
 "nbformat_minor": 2
}
