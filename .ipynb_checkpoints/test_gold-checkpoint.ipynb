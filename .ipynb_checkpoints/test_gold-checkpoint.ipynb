{
 "cells": [
  {
   "cell_type": "code",
   "execution_count": 2,
   "metadata": {},
   "outputs": [],
   "source": [
    "import pandas as pd\n",
    "import numpy as np"
   ]
  },
  {
   "cell_type": "code",
   "execution_count": 4,
   "metadata": {},
   "outputs": [],
   "source": [
    "df_erbs = pd.read_csv('Projeto_ES290/Dados/erbs.csv')\n",
    "df_grid_ml_05 = pd.read_csv('Projeto_ES290/Dados/grid_ml_05.csv')\n",
    "df_grid_ml_10 = pd.read_csv('Projeto_ES290/Dados/grid_ml_10.csv')\n",
    "df_grid_ml_20 = pd.read_csv('Projeto_ES290/Dados/grid_ml_20.csv')\n",
    "df_grid_teorico_05 = pd.read_csv('Projeto_ES290/Dados/grid_teorico_05.csv')\n",
    "df_grid_teorico_10 = pd.read_csv('Projeto_ES290/Dados/grid_teorico_10.csv')\n",
    "df_grid_teorico_20 = pd.read_csv('Projeto_ES290/Dados/grid_teorico_20.csv')\n",
    "df_medicoes = pd.read_csv('Projeto_ES290/Dados/medicoes.csv')\n",
    "df_testLoc = pd.read_csv('Projeto_ES290/Dados/testLoc.csv')"
   ]
  },
  {
   "cell_type": "code",
   "execution_count": 7,
   "metadata": {},
   "outputs": [],
   "source": [
    "df_grid05 = pd.read_csv('Projeto_ES290/grids/grid05.csv')\n",
    "df_grid10 = pd.read_csv('Projeto_ES290/grids/grid10.csv')\n",
    "df_grid20 = pd.read_csv('Projeto_ES290/grids/grid20.csv')"
   ]
  },
  {
   "cell_type": "code",
   "execution_count": 15,
   "metadata": {},
   "outputs": [
    {
     "ename": "SyntaxError",
     "evalue": "invalid syntax (<ipython-input-15-c30824a437ab>, line 1)",
     "output_type": "error",
     "traceback": [
      "\u001b[0;36m  File \u001b[0;32m\"<ipython-input-15-c30824a437ab>\"\u001b[0;36m, line \u001b[0;32m1\u001b[0m\n\u001b[0;31m    from PyRadioLoc from prl\u001b[0m\n\u001b[0m                       ^\u001b[0m\n\u001b[0;31mSyntaxError\u001b[0m\u001b[0;31m:\u001b[0m invalid syntax\n"
     ]
    }
   ],
   "source": [
    "from PyRadioLoc from prl"
   ]
  },
  {
   "cell_type": "markdown",
   "metadata": {},
   "source": [
    "### mapa de cobertura"
   ]
  },
  {
   "cell_type": "code",
   "execution_count": 10,
   "metadata": {},
   "outputs": [
    {
     "ename": "ModuleNotFoundError",
     "evalue": "No module named 'PyRadioLoc'",
     "output_type": "error",
     "traceback": [
      "\u001b[0;31m---------------------------------------------------------------------------\u001b[0m",
      "\u001b[0;31mModuleNotFoundError\u001b[0m                       Traceback (most recent call last)",
      "\u001b[0;32m<ipython-input-10-c7d096e4127f>\u001b[0m in \u001b[0;36m<module>\u001b[0;34m()\u001b[0m\n\u001b[1;32m      1\u001b[0m \u001b[0;32mimport\u001b[0m \u001b[0mmath\u001b[0m\u001b[0;34m\u001b[0m\u001b[0m\n\u001b[1;32m      2\u001b[0m \u001b[0;34m\u001b[0m\u001b[0m\n\u001b[0;32m----> 3\u001b[0;31m \u001b[0;32mfrom\u001b[0m \u001b[0mPyRadioLoc\u001b[0m\u001b[0;34m.\u001b[0m\u001b[0mUtils\u001b[0m\u001b[0;34m.\u001b[0m\u001b[0mGeoUtils\u001b[0m \u001b[0;32mimport\u001b[0m \u001b[0mGeoUtils\u001b[0m\u001b[0;34m\u001b[0m\u001b[0m\n\u001b[0m\u001b[1;32m      4\u001b[0m \u001b[0;34m\u001b[0m\u001b[0m\n\u001b[1;32m      5\u001b[0m \u001b[0mR\u001b[0m \u001b[0;34m=\u001b[0m \u001b[0;36m5\u001b[0m\u001b[0;34m\u001b[0m\u001b[0m\n",
      "\u001b[0;31mModuleNotFoundError\u001b[0m: No module named 'PyRadioLoc'"
     ]
    }
   ],
   "source": [
    "import math\n",
    "\n",
    "from PyRadioLoc.Utils.GeoUtils import GeoUtils\n",
    "\n",
    "R = 5\n",
    "LAT_INI = -8.080\n",
    "LNG_INI = -34.91\n",
    "LAT_FIM = -8.060\n",
    "LNG_FIM = -34.885\n",
    "\n",
    "def main():\n",
    "\tdelta_x = max(GeoUtils.distanceInKm(LAT_INI, LNG_INI, LAT_INI, LNG_FIM),\n",
    "\t\tGeoUtils.distanceInKm(LAT_FIM, LNG_INI, LAT_FIM, LNG_FIM))\n",
    "\tdelta_y = max(GeoUtils.distanceInKm(LAT_INI, LNG_INI, LAT_FIM, LNG_INI),\n",
    "\t\tGeoUtils.distanceInKm(LAT_INI, LNG_FIM, LAT_FIM, LNG_FIM))\n",
    "\n",
    "\tn_cells_x = math.ceil((delta_x * 1000) / R)\n",
    "\tn_cells_y = math.ceil((delta_y * 1000) / R)\n",
    "\n",
    "\tinc_lat = (LAT_FIM - LAT_INI) / n_cells_x\n",
    "\tinc_lng = (LNG_FIM - LNG_INI) / n_cells_y\n",
    "\n",
    "\tprint('lat,lon')\n",
    "\n",
    "\tfor i in range(n_cells_x):\n",
    "\t\tfor j in range(n_cells_y):\n",
    "\t\t\tlat = LAT_INI + i * inc_lat\n",
    "\t\t\tlng = LNG_INI + j * inc_lng\n",
    "\t\t\tprint('{},{}'.format(lat, lng))\n",
    "\n",
    "\n",
    "if __name__ == '__main__':\n",
    "    main()"
   ]
  },
  {
   "cell_type": "code",
   "execution_count": null,
   "metadata": {},
   "outputs": [],
   "source": []
  }
 ],
 "metadata": {
  "kernelspec": {
   "display_name": "Python 3",
   "language": "python",
   "name": "python3"
  },
  "language_info": {
   "codemirror_mode": {
    "name": "ipython",
    "version": 3
   },
   "file_extension": ".py",
   "mimetype": "text/x-python",
   "name": "python",
   "nbconvert_exporter": "python",
   "pygments_lexer": "ipython3",
   "version": "3.7.0"
  }
 },
 "nbformat": 4,
 "nbformat_minor": 2
}
