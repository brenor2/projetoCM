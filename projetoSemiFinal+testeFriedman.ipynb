{
 "cells": [
  {
   "cell_type": "markdown",
   "metadata": {},
   "source": [
    "### Imports"
   ]
  },
  {
   "cell_type": "code",
   "execution_count": 128,
   "metadata": {},
   "outputs": [
    {
     "data": {
      "text/plain": [
       "<function scipy.constants.codata.value(key)>"
      ]
     },
     "execution_count": 128,
     "metadata": {},
     "output_type": "execute_result"
    }
   ],
   "source": [
    "import pandas as pd\n",
    "import numpy as np\n",
    "import sklearn as skit\n",
    "import math\n",
    "\n",
    "import geopy\n",
    "from geopy.distance import VincentyDistance\n",
    "\n",
    "from scipy import constants\n",
    "constants.value\n",
    "\n"
   ]
  },
  {
   "cell_type": "markdown",
   "metadata": {},
   "source": [
    "###    Funcao  PATH   "
   ]
  },
  {
   "cell_type": "code",
   "execution_count": 129,
   "metadata": {},
   "outputs": [],
   "source": [
    "\n",
    "#calcula  distancia entre dois pontos B e M\n",
    "def dist_BS_MS(latB, lonB, latM,lonM):\n",
    "    coord_base = (latB, lonB)\n",
    "    coord_mobi = (latM, lonM)\n",
    "    return geopy.distance.vincenty(coord_base, coord_mobi).m\n",
    "\n",
    "\n",
    "#calculo do Path loss para dada distancia\n",
    "def freeSpacePL(dist, freq):\n",
    "    return 32.44 + 20*np.log10(dist) + 20*np.log10(freq)\n",
    "    \n",
    "    # dei uma comentado pra usar da forma que está no git de robson, parecia estar certo, mas esse 147.55 eu não calculei\n",
    "    # sei que é o resultado lá dos ganhos mas... depois debate isso\n",
    "    \n",
    "    #return 20*math.log(dist,10) + 20*math.log(freq,10) + 147.55221\n",
    "    \n",
    "    #conferir corretude em: https://www.everythingrf.com/rf-calculators/free-space-path-loss-calculator\n",
    "#print(_FSPL(2, 1800000000))\n",
    "\n",
    "def leeModelPL(dist, freq):\n",
    "    n0 = 3.84\n",
    "    p0 = 61.7\n",
    "    txH = 50.0\n",
    "    rxH = 1.5\n",
    "    nf = 3 if freq > 850 else 2\n",
    "    X2 = 2 if rxH > 3 else 1\n",
    "    L1 = -20*np.log10(txH/30)\n",
    "    L2 = -10*X2*np.log10(rxH/3)\n",
    "    Lo = 50.3 + p0 - 10*n0*np.log10(1.61)-10*nf*np.log10(900)\n",
    "    L = Lo + 10*n0*np.log10(dist)+10*nf*np.log10(freq)+L1+L2\n",
    "    return L\n",
    "\n",
    "def flatEarthPL(dist, freq):\n",
    "    return 120 + (40*np.log10(dist)) - (20*np.log10(50.0) - (20*np.log10(1.5)))\n",
    "\n",
    "                                  "
   ]
  },
  {
   "cell_type": "code",
   "execution_count": 130,
   "metadata": {},
   "outputs": [
    {
     "data": {
      "text/html": [
       "<div>\n",
       "<style scoped>\n",
       "    .dataframe tbody tr th:only-of-type {\n",
       "        vertical-align: middle;\n",
       "    }\n",
       "\n",
       "    .dataframe tbody tr th {\n",
       "        vertical-align: top;\n",
       "    }\n",
       "\n",
       "    .dataframe thead th {\n",
       "        text-align: right;\n",
       "    }\n",
       "</style>\n",
       "<table border=\"1\" class=\"dataframe\">\n",
       "  <thead>\n",
       "    <tr style=\"text-align: right;\">\n",
       "      <th></th>\n",
       "      <th>lat</th>\n",
       "      <th>lon</th>\n",
       "      <th>pathBTS1</th>\n",
       "      <th>pathBTS2</th>\n",
       "      <th>pathBTS3</th>\n",
       "      <th>pathBTS4</th>\n",
       "      <th>pathBTS5</th>\n",
       "      <th>pathBTS6</th>\n",
       "    </tr>\n",
       "  </thead>\n",
       "  <tbody>\n",
       "    <tr>\n",
       "      <th>0</th>\n",
       "      <td>-8.076391</td>\n",
       "      <td>-34.895985</td>\n",
       "      <td>120.610000</td>\n",
       "      <td>104.380000</td>\n",
       "      <td>129.970000</td>\n",
       "      <td>123.620000</td>\n",
       "      <td>129.460000</td>\n",
       "      <td>132.080000</td>\n",
       "    </tr>\n",
       "    <tr>\n",
       "      <th>1</th>\n",
       "      <td>-8.072939</td>\n",
       "      <td>-34.895676</td>\n",
       "      <td>105.290000</td>\n",
       "      <td>121.523333</td>\n",
       "      <td>106.556667</td>\n",
       "      <td>108.756667</td>\n",
       "      <td>122.556667</td>\n",
       "      <td>126.123333</td>\n",
       "    </tr>\n",
       "    <tr>\n",
       "      <th>2</th>\n",
       "      <td>-8.076256</td>\n",
       "      <td>-34.899773</td>\n",
       "      <td>122.256667</td>\n",
       "      <td>110.423333</td>\n",
       "      <td>124.490000</td>\n",
       "      <td>135.256667</td>\n",
       "      <td>142.956667</td>\n",
       "      <td>142.556667</td>\n",
       "    </tr>\n",
       "    <tr>\n",
       "      <th>3</th>\n",
       "      <td>-8.064446</td>\n",
       "      <td>-34.889416</td>\n",
       "      <td>127.423333</td>\n",
       "      <td>132.656667</td>\n",
       "      <td>130.556667</td>\n",
       "      <td>131.856667</td>\n",
       "      <td>126.090000</td>\n",
       "      <td>137.723333</td>\n",
       "    </tr>\n",
       "    <tr>\n",
       "      <th>4</th>\n",
       "      <td>-8.068819</td>\n",
       "      <td>-34.888874</td>\n",
       "      <td>121.490000</td>\n",
       "      <td>136.423333</td>\n",
       "      <td>128.190000</td>\n",
       "      <td>122.723333</td>\n",
       "      <td>107.256667</td>\n",
       "      <td>120.323333</td>\n",
       "    </tr>\n",
       "  </tbody>\n",
       "</table>\n",
       "</div>"
      ],
      "text/plain": [
       "        lat        lon    pathBTS1    pathBTS2    pathBTS3    pathBTS4  \\\n",
       "0 -8.076391 -34.895985  120.610000  104.380000  129.970000  123.620000   \n",
       "1 -8.072939 -34.895676  105.290000  121.523333  106.556667  108.756667   \n",
       "2 -8.076256 -34.899773  122.256667  110.423333  124.490000  135.256667   \n",
       "3 -8.064446 -34.889416  127.423333  132.656667  130.556667  131.856667   \n",
       "4 -8.068819 -34.888874  121.490000  136.423333  128.190000  122.723333   \n",
       "\n",
       "     pathBTS5    pathBTS6  \n",
       "0  129.460000  132.080000  \n",
       "1  122.556667  126.123333  \n",
       "2  142.956667  142.556667  \n",
       "3  126.090000  137.723333  \n",
       "4  107.256667  120.323333  "
      ]
     },
     "execution_count": 130,
     "metadata": {},
     "output_type": "execute_result"
    }
   ],
   "source": [
    "#names=[\"pontoId\",\"lat\",\"lon\",\"pathBTS1\",\"pathBTS2\",\"pathBTS3\",\"pathBTS4\",\"pathBTS5\",\"pathBTS6\",\"taBTS1\",\"taBTS2\",\"taBTS3\",\"taBTS4\",\"taBTS5\",\"taBTS6\"]\n",
    "#BD referencia\n",
    "df_ref = pd.read_csv(\"LocTreino_Equipe_6.csv\")\n",
    "\n",
    "df_ref = df_ref.drop(['pontoId','taBTS1','taBTS2','taBTS3','taBTS4','taBTS5','taBTS6'], axis = 1)\n",
    "\n",
    "df_ref.head()\n"
   ]
  },
  {
   "cell_type": "code",
   "execution_count": 131,
   "metadata": {},
   "outputs": [
    {
     "data": {
      "text/html": [
       "<div>\n",
       "<style scoped>\n",
       "    .dataframe tbody tr th:only-of-type {\n",
       "        vertical-align: middle;\n",
       "    }\n",
       "\n",
       "    .dataframe tbody tr th {\n",
       "        vertical-align: top;\n",
       "    }\n",
       "\n",
       "    .dataframe thead th {\n",
       "        text-align: right;\n",
       "    }\n",
       "</style>\n",
       "<table border=\"1\" class=\"dataframe\">\n",
       "  <thead>\n",
       "    <tr style=\"text-align: right;\">\n",
       "      <th></th>\n",
       "      <th>name</th>\n",
       "      <th>lat</th>\n",
       "      <th>lon</th>\n",
       "      <th>band</th>\n",
       "      <th>bcch</th>\n",
       "      <th>eirp</th>\n",
       "      <th>bts</th>\n",
       "    </tr>\n",
       "  </thead>\n",
       "  <tbody>\n",
       "    <tr>\n",
       "      <th>0</th>\n",
       "      <td>136_2</td>\n",
       "      <td>-8.068361</td>\n",
       "      <td>-34.892722</td>\n",
       "      <td>GSM1800</td>\n",
       "      <td>662</td>\n",
       "      <td>55.59</td>\n",
       "      <td>BTS-1</td>\n",
       "    </tr>\n",
       "    <tr>\n",
       "      <th>1</th>\n",
       "      <td>137_3</td>\n",
       "      <td>-8.075917</td>\n",
       "      <td>-34.894611</td>\n",
       "      <td>GSM1800</td>\n",
       "      <td>806</td>\n",
       "      <td>55.59</td>\n",
       "      <td>BTS-2</td>\n",
       "    </tr>\n",
       "    <tr>\n",
       "      <th>2</th>\n",
       "      <td>197_1</td>\n",
       "      <td>-8.076361</td>\n",
       "      <td>-34.908000</td>\n",
       "      <td>GSM1800</td>\n",
       "      <td>666</td>\n",
       "      <td>55.59</td>\n",
       "      <td>BTS-3</td>\n",
       "    </tr>\n",
       "    <tr>\n",
       "      <th>3</th>\n",
       "      <td>137_1</td>\n",
       "      <td>-8.075917</td>\n",
       "      <td>-34.894611</td>\n",
       "      <td>GSM1800</td>\n",
       "      <td>690</td>\n",
       "      <td>55.59</td>\n",
       "      <td>BTS-4</td>\n",
       "    </tr>\n",
       "    <tr>\n",
       "      <th>4</th>\n",
       "      <td>138_2</td>\n",
       "      <td>-8.066000</td>\n",
       "      <td>-34.889444</td>\n",
       "      <td>GSM1800</td>\n",
       "      <td>673</td>\n",
       "      <td>55.59</td>\n",
       "      <td>BTS-5</td>\n",
       "    </tr>\n",
       "    <tr>\n",
       "      <th>5</th>\n",
       "      <td>245_2</td>\n",
       "      <td>-8.064583</td>\n",
       "      <td>-34.894583</td>\n",
       "      <td>GSM1800</td>\n",
       "      <td>682</td>\n",
       "      <td>55.59</td>\n",
       "      <td>BTS-6</td>\n",
       "    </tr>\n",
       "  </tbody>\n",
       "</table>\n",
       "</div>"
      ],
      "text/plain": [
       "    name       lat        lon     band  bcch   eirp    bts\n",
       "0  136_2 -8.068361 -34.892722  GSM1800   662  55.59  BTS-1\n",
       "1  137_3 -8.075917 -34.894611  GSM1800   806  55.59  BTS-2\n",
       "2  197_1 -8.076361 -34.908000  GSM1800   666  55.59  BTS-3\n",
       "3  137_1 -8.075917 -34.894611  GSM1800   690  55.59  BTS-4\n",
       "4  138_2 -8.066000 -34.889444  GSM1800   673  55.59  BTS-5\n",
       "5  245_2 -8.064583 -34.894583  GSM1800   682  55.59  BTS-6"
      ]
     },
     "execution_count": 131,
     "metadata": {},
     "output_type": "execute_result"
    }
   ],
   "source": [
    "#Antenas\n",
    "df_antenas = pd.read_csv(\"dados_BTSs.csv\")\n",
    "df_antenas\n"
   ]
  },
  {
   "cell_type": "markdown",
   "metadata": {},
   "source": [
    "### lat's e lon's das extermidade do mapa\n",
    "### largura e altura do grid"
   ]
  },
  {
   "cell_type": "code",
   "execution_count": 132,
   "metadata": {},
   "outputs": [
    {
     "name": "stdout",
     "output_type": "stream",
     "text": [
      "latitude maxima: -8.059338\n",
      "latitude minima: -8.077575999999999\n",
      "***\n",
      "long maxima: -34.885067\n",
      "long minima: -34.90683\n",
      "***\n",
      "largura do grid em metros: 2399\n",
      "altura do grid em metros: 2018\n"
     ]
    }
   ],
   "source": [
    "min_lat = df_ref['lat'].min()\n",
    "max_lat = df_ref['lat'].max()\n",
    "min_lon = df_ref['lon'].min()\n",
    "max_lon = df_ref['lon'].max()\n",
    "\n",
    "print(\"latitude maxima: {}\".format(max_lat))\n",
    "print(\"latitude minima: {}\".format(min_lat))\n",
    "print(\"***\")\n",
    "print(\"long maxima: {}\".format(max_lon))\n",
    "print(\"long minima: {}\".format(min_lon))\n",
    "print(\"***\")\n",
    "#coord -> (lat lon)\n",
    "coord_min_min = (min_lat, min_lon)\n",
    "coord_min_max = (min_lat, max_lon)\n",
    "coord_max_max = (max_lat, max_lon)\n",
    "coord_max_min = (max_lat, min_lon)\n",
    "\n",
    "#rtg -> retangulo\n",
    "\n",
    "grid_wd = math.ceil(geopy.distance.vincenty(coord_min_min, coord_min_max).m)\n",
    "grid_ht = math.ceil(geopy.distance.vincenty(coord_min_min, coord_max_min).m)\n",
    "print (\"largura do grid em metros: {}\".format(grid_wd))\n",
    "print (\"altura do grid em metros: {}\".format(grid_ht))"
   ]
  },
  {
   "cell_type": "markdown",
   "metadata": {},
   "source": [
    "### altura, largura e quantidade de celulas\n",
    "#cell_wd = prop x cell_ht\n",
    "#cell_wd -> 100 metros"
   ]
  },
  {
   "cell_type": "code",
   "execution_count": 133,
   "metadata": {
    "scrolled": true
   },
   "outputs": [
    {
     "name": "stdout",
     "output_type": "stream",
     "text": [
      "celula tem 61 metros de largura\n",
      "celula tem 50 metros de altura\n",
      "total de linhas: 41\n",
      "total de colunas: 40\n",
      "total de celulas: 1640\n"
     ]
    }
   ],
   "source": [
    "prop = grid_wd/grid_ht\n",
    "#print(prop)\n",
    "cell_ht = 50 #em metros\n",
    "cell_wd = math.ceil(prop*cell_ht)\n",
    "\n",
    "print(\"celula tem {} metros de largura\".format(cell_wd +1))\n",
    "print(\"celula tem {} metros de altura\".format(cell_ht))\n",
    "\n",
    "math.ceil\n",
    "num_col = math.ceil(grid_wd/cell_wd)\n",
    "num_row = math.ceil(grid_ht/cell_ht)\n",
    "n_of_cells = int(num_col*num_row)\n",
    "\n",
    "print(\"total de linhas: {}\".format(num_row))\n",
    "print(\"total de colunas: {}\".format(num_col))\n",
    "\n",
    "print(\"total de celulas: {}\".format(n_of_cells))\n"
   ]
  },
  {
   "cell_type": "markdown",
   "metadata": {},
   "source": [
    "### lat's e lon's de todos as celulas do grid"
   ]
  },
  {
   "cell_type": "code",
   "execution_count": 134,
   "metadata": {
    "scrolled": false
   },
   "outputs": [
    {
     "name": "stdout",
     "output_type": "stream",
     "text": [
      "1640\n"
     ]
    },
    {
     "data": {
      "text/html": [
       "<div>\n",
       "<style scoped>\n",
       "    .dataframe tbody tr th:only-of-type {\n",
       "        vertical-align: middle;\n",
       "    }\n",
       "\n",
       "    .dataframe tbody tr th {\n",
       "        vertical-align: top;\n",
       "    }\n",
       "\n",
       "    .dataframe thead th {\n",
       "        text-align: right;\n",
       "    }\n",
       "</style>\n",
       "<table border=\"1\" class=\"dataframe\">\n",
       "  <thead>\n",
       "    <tr style=\"text-align: right;\">\n",
       "      <th></th>\n",
       "      <th>lat</th>\n",
       "      <th>lon</th>\n",
       "    </tr>\n",
       "  </thead>\n",
       "  <tbody>\n",
       "    <tr>\n",
       "      <th>0</th>\n",
       "      <td>-8.077305</td>\n",
       "      <td>-34.906603</td>\n",
       "    </tr>\n",
       "    <tr>\n",
       "      <th>1</th>\n",
       "      <td>-8.076762</td>\n",
       "      <td>-34.906603</td>\n",
       "    </tr>\n",
       "    <tr>\n",
       "      <th>2</th>\n",
       "      <td>-8.076220</td>\n",
       "      <td>-34.906603</td>\n",
       "    </tr>\n",
       "    <tr>\n",
       "      <th>3</th>\n",
       "      <td>-8.075677</td>\n",
       "      <td>-34.906603</td>\n",
       "    </tr>\n",
       "    <tr>\n",
       "      <th>4</th>\n",
       "      <td>-8.075135</td>\n",
       "      <td>-34.906603</td>\n",
       "    </tr>\n",
       "  </tbody>\n",
       "</table>\n",
       "</div>"
      ],
      "text/plain": [
       "        lat        lon\n",
       "0 -8.077305 -34.906603\n",
       "1 -8.076762 -34.906603\n",
       "2 -8.076220 -34.906603\n",
       "3 -8.075677 -34.906603\n",
       "4 -8.075135 -34.906603"
      ]
     },
     "execution_count": 134,
     "metadata": {},
     "output_type": "execute_result"
    }
   ],
   "source": [
    "\n",
    "# calculo as coord do centro da primeira celula (mais abaixo e mais a esquerda):\n",
    "origem = geopy.Point(min_lat, min_lon)\n",
    "angulo = math.degrees(math.atan(cell_ht/cell_wd))\n",
    "hipotenusa = math.hypot(cell_ht/2,cell_wd/2)\n",
    "destination = VincentyDistance(meters=hipotenusa).destination(origem, angulo)\n",
    "lat0, lon0 = destination.latitude, destination.longitude\n",
    "\n",
    "#com base em lat0 e lon0 gerar as lats e as lons para as demais celulas:\n",
    "latx,  lonx = lat0, lon0 \n",
    "lats, lons = [], []\n",
    "for l in range(num_row):\n",
    "    for c in range(num_col):\n",
    "        #add a lista\n",
    "        lats.append(latx)\n",
    "        lons.append(lonx)\n",
    "        #proximas celulas a direita\n",
    "        origem = geopy.Point(latx, lonx)\n",
    "        destination = VincentyDistance(meters=cell_wd).destination(origem, math.degrees(0))\n",
    "        latx, lonx = destination.latitude, destination.longitude\n",
    "    #vai para a celula mais a esqueda da linha de cima\n",
    "    origem = geopy.Point(lat0, lon0)\n",
    "    destination = VincentyDistance(meters=(l+1)*cell_wd).destination(origem, math.degrees(math.pi/2))\n",
    "    latx, lonx = destination.latitude, destination.longitude\n",
    "print(len(lats))\n",
    "    \n",
    "data = np.array([lats, lons])\n",
    "df_cells_coord = pd.DataFrame({'lat':data[0], 'lon':data[1]})\n",
    "df_cells_coord.head()\n"
   ]
  },
  {
   "cell_type": "markdown",
   "metadata": {},
   "source": [
    "### Calculo do path de todos as celulas"
   ]
  },
  {
   "cell_type": "code",
   "execution_count": 135,
   "metadata": {},
   "outputs": [
    {
     "name": "stdout",
     "output_type": "stream",
     "text": [
      "1640\n",
      "0\n",
      "6\n",
      "1640\n",
      "1640\n",
      "1640\n",
      "1640\n",
      "1640\n",
      "1640\n",
      "fim\n"
     ]
    }
   ],
   "source": [
    "#def dist_BS_MS(latB, lonB, latM,lonM):\n",
    "#def _FSPL(dist, freq):\n",
    "\n",
    "#print (dist_BS_MS(min_lat, min_lon, min_lat, max_lon))\n",
    "df_antenas.head()\n",
    "\n",
    "path_loss_BS1 = []\n",
    "path_loss_BS2 = []\n",
    "path_loss_BS3 = []\n",
    "path_loss_BS4 = []\n",
    "path_loss_BS5 = []\n",
    "path_loss_BS6 = []\n",
    "\n",
    "print(len(df_cells_coord))\n",
    "print(len(path_loss_BS1))\n",
    "print(len(df_antenas))\n",
    "\n",
    "n_cells = len(df_cells_coord)\n",
    "\n",
    "\n",
    "#BS_1\n",
    "for j in range(n_cells):\n",
    "    dist = dist_BS_MS(df_antenas.lat[0], df_antenas.lon[0], df_cells_coord.lat[j], df_cells_coord.lon[j])\n",
    "    #pl1 = freeSpacePL(dist, 1800*(10**6))\n",
    "    #pl1 = leeModelPL(dist, 1800*(10**6))\n",
    "    pl1 = flatEarthPL(dist, 1800*(10**6))\n",
    "    path_loss_BS1.append(pl1)\n",
    "    #pl2 = leeModelPL(dist, 1800*(10**6))\n",
    "    #path_loss_BS1[1].append(pl2)\n",
    "    #pl3 = flatEarthPL(dist, 1800*(10**6))\n",
    "    #path_loss_BS1[2].append(pl3)\n",
    "    \n",
    "    \n",
    "print(len(path_loss_BS1))\n",
    "\n",
    "#BS_2\n",
    "for j in range(n_cells):\n",
    "    dist = dist_BS_MS(df_antenas.lat[1], df_antenas.lon[1], df_cells_coord.lat[j], df_cells_coord.lon[j])\n",
    "    pl1 = freeSpacePL(dist, 1800*(10**6))\n",
    "    #pl1 = leeModelPL(dist, 1800*(10**6))\n",
    "    #pl1 = flatEarthPL(dist, 1800*(10**6))\n",
    "    path_loss_BS2.append(pl1)\n",
    "    #pl2 = leeModelPL(dist, 1800*(10**6))\n",
    "    #path_loss_BS2.append(pl2)\n",
    "    #pl3 = flatEarthPL(dist, 1800*(10**6))\n",
    "    #path_loss_BS2.append(pl3)\n",
    "print(len(path_loss_BS2))\n",
    "\n",
    "#BS_3\n",
    "for j in range(n_cells):\n",
    "    dist = dist_BS_MS(df_antenas.lat[2], df_antenas.lon[2], df_cells_coord.lat[j], df_cells_coord.lon[j])\n",
    "    pl1 = freeSpacePL(dist, 1800*(10**6))\n",
    "    #pl1 = leeModelPL(dist, 1800*(10**6))\n",
    "    #pl1 = flatEarthPL(dist, 1800*(10**6))\n",
    "    path_loss_BS3.append(pl1)\n",
    "    #pl2 = leeModelPL(dist, 1800*(10**6))\n",
    "    #path_loss_BS3.append(pl2)\n",
    "    #pl3 = flatEarthPL(dist, 1800*(10**6))\n",
    "    #path_loss_BS3.append(pl3)\n",
    "print(len(path_loss_BS3))\n",
    "\n",
    "#BS_4\n",
    "for j in range(n_cells):\n",
    "    dist = dist_BS_MS(df_antenas.lat[3], df_antenas.lon[3], df_cells_coord.lat[j], df_cells_coord.lon[j])\n",
    "    pl1 = freeSpacePL(dist, 1800*(10**6))\n",
    "    #pl1 = leeModelPL(dist, 1800*(10**6))\n",
    "    #pl1 = flatEarthPL(dist, 1800*(10**6))\n",
    "    path_loss_BS4.append(pl1)\n",
    "    #pl2 = leeModelPL(dist, 1800*(10**6))\n",
    "    #path_loss_BS4.append(pl2)\n",
    "    #pl3 = flatEarthPL(dist, 1800*(10**6))\n",
    "    #path_loss_BS4.append(pl3)\n",
    "print(len(path_loss_BS4))\n",
    "\n",
    "#BS_5\n",
    "for j in range(n_cells):\n",
    "    dist = dist_BS_MS(df_antenas.lat[4], df_antenas.lon[4], df_cells_coord.lat[j], df_cells_coord.lon[j])\n",
    "    pl1 = freeSpacePL(dist, 1800*(10**6))\n",
    "    #pl1 = leeModelPL(dist, 1800*(10**6))\n",
    "    #pl1 = flatEarthPL(dist, 1800*(10**6))\n",
    "    path_loss_BS5.append(pl1)\n",
    "    #pl2 = leeModelPL(dist, 1800*(10**6))\n",
    "    #path_loss_BS5.append(pl2)\n",
    "    #pl3 = flatEarthPL(dist, 1800*(10**6))\n",
    "    #path_loss_BS5.append(pl3)\n",
    "print(len(path_loss_BS5))\n",
    "\n",
    "    \n",
    "#BS_6\n",
    "for j in range(n_cells):\n",
    "    dist = dist_BS_MS(df_antenas.lat[5], df_antenas.lon[5], df_cells_coord.lat[j], df_cells_coord.lon[j])\n",
    "    pl1 = freeSpacePL(dist, 1800*(10**6))\n",
    "    #pl1 = leeModelPL(dist, 1800*(10**6))\n",
    "    #pl1 = flatEarthPL(dist, 1800*(10**6))\n",
    "    path_loss_BS6.append(pl1)\n",
    "    #pl2 = leeModelPL(dist, 1800*(10**6))\n",
    "    #path_loss_BS6.append(pl2)\n",
    "    #pl3 = flatEarthPL(dist, 1800*(10**6))\n",
    "    #path_loss_BS6.append(pl3)\n",
    "print(len(path_loss_BS6))\n",
    "\n",
    "print('fim')\n"
   ]
  },
  {
   "cell_type": "markdown",
   "metadata": {},
   "source": [
    "### Data frame com path dos centros das celulas"
   ]
  },
  {
   "cell_type": "code",
   "execution_count": 136,
   "metadata": {},
   "outputs": [
    {
     "data": {
      "text/html": [
       "<div>\n",
       "<style scoped>\n",
       "    .dataframe tbody tr th:only-of-type {\n",
       "        vertical-align: middle;\n",
       "    }\n",
       "\n",
       "    .dataframe tbody tr th {\n",
       "        vertical-align: top;\n",
       "    }\n",
       "\n",
       "    .dataframe thead th {\n",
       "        text-align: right;\n",
       "    }\n",
       "</style>\n",
       "<table border=\"1\" class=\"dataframe\">\n",
       "  <thead>\n",
       "    <tr style=\"text-align: right;\">\n",
       "      <th></th>\n",
       "      <th>pathBTS1</th>\n",
       "      <th>pathBTS2</th>\n",
       "      <th>pathBTS3</th>\n",
       "      <th>pathBTS4</th>\n",
       "      <th>pathBTS5</th>\n",
       "      <th>pathBTS6</th>\n",
       "    </tr>\n",
       "  </thead>\n",
       "  <tbody>\n",
       "    <tr>\n",
       "      <th>0</th>\n",
       "      <td>219.963387</td>\n",
       "      <td>280.026940</td>\n",
       "      <td>262.935615</td>\n",
       "      <td>280.026940</td>\n",
       "      <td>284.655238</td>\n",
       "      <td>283.268099</td>\n",
       "    </tr>\n",
       "    <tr>\n",
       "      <th>1</th>\n",
       "      <td>219.656871</td>\n",
       "      <td>279.990440</td>\n",
       "      <td>261.640019</td>\n",
       "      <td>279.990439</td>\n",
       "      <td>284.529725</td>\n",
       "      <td>283.071583</td>\n",
       "    </tr>\n",
       "    <tr>\n",
       "      <th>2</th>\n",
       "      <td>219.359361</td>\n",
       "      <td>279.971553</td>\n",
       "      <td>261.338217</td>\n",
       "      <td>279.971552</td>\n",
       "      <td>284.406924</td>\n",
       "      <td>282.874927</td>\n",
       "    </tr>\n",
       "    <tr>\n",
       "      <th>3</th>\n",
       "      <td>219.072201</td>\n",
       "      <td>279.970510</td>\n",
       "      <td>262.232614</td>\n",
       "      <td>279.970510</td>\n",
       "      <td>284.287175</td>\n",
       "      <td>282.678543</td>\n",
       "    </tr>\n",
       "    <tr>\n",
       "      <th>4</th>\n",
       "      <td>218.796797</td>\n",
       "      <td>279.987325</td>\n",
       "      <td>263.788433</td>\n",
       "      <td>279.987325</td>\n",
       "      <td>284.170836</td>\n",
       "      <td>282.482899</td>\n",
       "    </tr>\n",
       "  </tbody>\n",
       "</table>\n",
       "</div>"
      ],
      "text/plain": [
       "     pathBTS1    pathBTS2    pathBTS3    pathBTS4    pathBTS5    pathBTS6\n",
       "0  219.963387  280.026940  262.935615  280.026940  284.655238  283.268099\n",
       "1  219.656871  279.990440  261.640019  279.990439  284.529725  283.071583\n",
       "2  219.359361  279.971553  261.338217  279.971552  284.406924  282.874927\n",
       "3  219.072201  279.970510  262.232614  279.970510  284.287175  282.678543\n",
       "4  218.796797  279.987325  263.788433  279.987325  284.170836  282.482899"
      ]
     },
     "execution_count": 136,
     "metadata": {},
     "output_type": "execute_result"
    }
   ],
   "source": [
    "data_path = np.array([path_loss_BS1, path_loss_BS2, path_loss_BS3, path_loss_BS4, path_loss_BS5, path_loss_BS6])\n",
    "\n",
    "data_path\n",
    "df_cells_path = pd.DataFrame({'pathBTS1':data_path[0], 'pathBTS2':data_path[1], 'pathBTS3':data_path[2], 'pathBTS4':data_path[3], 'pathBTS5':data_path[4], 'pathBTS6':data_path[5]})\n",
    "df_cells_path.head()\n",
    "\n"
   ]
  },
  {
   "cell_type": "markdown",
   "metadata": {},
   "source": [
    "### Dataframe com coord e path dos centros das celulas"
   ]
  },
  {
   "cell_type": "code",
   "execution_count": 137,
   "metadata": {},
   "outputs": [
    {
     "name": "stdout",
     "output_type": "stream",
     "text": [
      "1640\n"
     ]
    },
    {
     "data": {
      "text/html": [
       "<div>\n",
       "<style scoped>\n",
       "    .dataframe tbody tr th:only-of-type {\n",
       "        vertical-align: middle;\n",
       "    }\n",
       "\n",
       "    .dataframe tbody tr th {\n",
       "        vertical-align: top;\n",
       "    }\n",
       "\n",
       "    .dataframe thead th {\n",
       "        text-align: right;\n",
       "    }\n",
       "</style>\n",
       "<table border=\"1\" class=\"dataframe\">\n",
       "  <thead>\n",
       "    <tr style=\"text-align: right;\">\n",
       "      <th></th>\n",
       "      <th>lat</th>\n",
       "      <th>lon</th>\n",
       "      <th>pathBTS1</th>\n",
       "      <th>pathBTS2</th>\n",
       "      <th>pathBTS3</th>\n",
       "      <th>pathBTS4</th>\n",
       "      <th>pathBTS5</th>\n",
       "      <th>pathBTS6</th>\n",
       "    </tr>\n",
       "  </thead>\n",
       "  <tbody>\n",
       "    <tr>\n",
       "      <th>0</th>\n",
       "      <td>-8.077305</td>\n",
       "      <td>-34.906603</td>\n",
       "      <td>219.963387</td>\n",
       "      <td>280.026940</td>\n",
       "      <td>262.935615</td>\n",
       "      <td>280.026940</td>\n",
       "      <td>284.655238</td>\n",
       "      <td>283.268099</td>\n",
       "    </tr>\n",
       "    <tr>\n",
       "      <th>1</th>\n",
       "      <td>-8.076762</td>\n",
       "      <td>-34.906603</td>\n",
       "      <td>219.656871</td>\n",
       "      <td>279.990440</td>\n",
       "      <td>261.640019</td>\n",
       "      <td>279.990439</td>\n",
       "      <td>284.529725</td>\n",
       "      <td>283.071583</td>\n",
       "    </tr>\n",
       "    <tr>\n",
       "      <th>2</th>\n",
       "      <td>-8.076220</td>\n",
       "      <td>-34.906603</td>\n",
       "      <td>219.359361</td>\n",
       "      <td>279.971553</td>\n",
       "      <td>261.338217</td>\n",
       "      <td>279.971552</td>\n",
       "      <td>284.406924</td>\n",
       "      <td>282.874927</td>\n",
       "    </tr>\n",
       "    <tr>\n",
       "      <th>3</th>\n",
       "      <td>-8.075677</td>\n",
       "      <td>-34.906603</td>\n",
       "      <td>219.072201</td>\n",
       "      <td>279.970510</td>\n",
       "      <td>262.232614</td>\n",
       "      <td>279.970510</td>\n",
       "      <td>284.287175</td>\n",
       "      <td>282.678543</td>\n",
       "    </tr>\n",
       "    <tr>\n",
       "      <th>4</th>\n",
       "      <td>-8.075135</td>\n",
       "      <td>-34.906603</td>\n",
       "      <td>218.796797</td>\n",
       "      <td>279.987325</td>\n",
       "      <td>263.788433</td>\n",
       "      <td>279.987325</td>\n",
       "      <td>284.170836</td>\n",
       "      <td>282.482899</td>\n",
       "    </tr>\n",
       "  </tbody>\n",
       "</table>\n",
       "</div>"
      ],
      "text/plain": [
       "        lat        lon    pathBTS1    pathBTS2    pathBTS3    pathBTS4  \\\n",
       "0 -8.077305 -34.906603  219.963387  280.026940  262.935615  280.026940   \n",
       "1 -8.076762 -34.906603  219.656871  279.990440  261.640019  279.990439   \n",
       "2 -8.076220 -34.906603  219.359361  279.971553  261.338217  279.971552   \n",
       "3 -8.075677 -34.906603  219.072201  279.970510  262.232614  279.970510   \n",
       "4 -8.075135 -34.906603  218.796797  279.987325  263.788433  279.987325   \n",
       "\n",
       "     pathBTS5    pathBTS6  \n",
       "0  284.655238  283.268099  \n",
       "1  284.529725  283.071583  \n",
       "2  284.406924  282.874927  \n",
       "3  284.287175  282.678543  \n",
       "4  284.170836  282.482899  "
      ]
     },
     "execution_count": 137,
     "metadata": {},
     "output_type": "execute_result"
    }
   ],
   "source": [
    "df_cell_coords_paths = df_cells_coord.join(df_cells_path, lsuffix='_df_cells_coord', rsuffix='_df_cells_path')\n",
    "\n",
    "print(len(df_cell_coords_paths))\n",
    "\n",
    "df_cell_coords_paths.head()"
   ]
  },
  {
   "cell_type": "code",
   "execution_count": 138,
   "metadata": {},
   "outputs": [
    {
     "data": {
      "text/plain": [
       "154.38743349128572"
      ]
     },
     "execution_count": 138,
     "metadata": {},
     "output_type": "execute_result"
    }
   ],
   "source": [
    "df_cell_coords_paths['pathBTS1'].min()"
   ]
  },
  {
   "cell_type": "markdown",
   "metadata": {},
   "source": [
    "### K-fold cross validation"
   ]
  },
  {
   "cell_type": "code",
   "execution_count": 139,
   "metadata": {},
   "outputs": [],
   "source": [
    "features = ['pathBTS1', 'pathBTS2', 'pathBTS3', 'pathBTS4', 'pathBTS5', 'pathBTS6']\n",
    "to_predict=['lat', 'lon']"
   ]
  },
  {
   "cell_type": "markdown",
   "metadata": {},
   "source": [
    "### GRID com KNN"
   ]
  },
  {
   "cell_type": "code",
   "execution_count": 140,
   "metadata": {},
   "outputs": [
    {
     "data": {
      "text/html": [
       "<div>\n",
       "<style scoped>\n",
       "    .dataframe tbody tr th:only-of-type {\n",
       "        vertical-align: middle;\n",
       "    }\n",
       "\n",
       "    .dataframe tbody tr th {\n",
       "        vertical-align: top;\n",
       "    }\n",
       "\n",
       "    .dataframe thead th {\n",
       "        text-align: right;\n",
       "    }\n",
       "</style>\n",
       "<table border=\"1\" class=\"dataframe\">\n",
       "  <thead>\n",
       "    <tr style=\"text-align: right;\">\n",
       "      <th></th>\n",
       "      <th>lat</th>\n",
       "      <th>lon</th>\n",
       "      <th>pathBTS1</th>\n",
       "      <th>pathBTS2</th>\n",
       "      <th>pathBTS3</th>\n",
       "      <th>pathBTS4</th>\n",
       "      <th>pathBTS5</th>\n",
       "      <th>pathBTS6</th>\n",
       "    </tr>\n",
       "  </thead>\n",
       "  <tbody>\n",
       "    <tr>\n",
       "      <th>0</th>\n",
       "      <td>-8.076391</td>\n",
       "      <td>-34.895985</td>\n",
       "      <td>120.610000</td>\n",
       "      <td>104.380000</td>\n",
       "      <td>129.970000</td>\n",
       "      <td>123.620000</td>\n",
       "      <td>129.460000</td>\n",
       "      <td>132.080000</td>\n",
       "    </tr>\n",
       "    <tr>\n",
       "      <th>1</th>\n",
       "      <td>-8.072939</td>\n",
       "      <td>-34.895676</td>\n",
       "      <td>105.290000</td>\n",
       "      <td>121.523333</td>\n",
       "      <td>106.556667</td>\n",
       "      <td>108.756667</td>\n",
       "      <td>122.556667</td>\n",
       "      <td>126.123333</td>\n",
       "    </tr>\n",
       "    <tr>\n",
       "      <th>2</th>\n",
       "      <td>-8.076256</td>\n",
       "      <td>-34.899773</td>\n",
       "      <td>122.256667</td>\n",
       "      <td>110.423333</td>\n",
       "      <td>124.490000</td>\n",
       "      <td>135.256667</td>\n",
       "      <td>142.956667</td>\n",
       "      <td>142.556667</td>\n",
       "    </tr>\n",
       "    <tr>\n",
       "      <th>3</th>\n",
       "      <td>-8.064446</td>\n",
       "      <td>-34.889416</td>\n",
       "      <td>127.423333</td>\n",
       "      <td>132.656667</td>\n",
       "      <td>130.556667</td>\n",
       "      <td>131.856667</td>\n",
       "      <td>126.090000</td>\n",
       "      <td>137.723333</td>\n",
       "    </tr>\n",
       "    <tr>\n",
       "      <th>4</th>\n",
       "      <td>-8.068819</td>\n",
       "      <td>-34.888874</td>\n",
       "      <td>121.490000</td>\n",
       "      <td>136.423333</td>\n",
       "      <td>128.190000</td>\n",
       "      <td>122.723333</td>\n",
       "      <td>107.256667</td>\n",
       "      <td>120.323333</td>\n",
       "    </tr>\n",
       "  </tbody>\n",
       "</table>\n",
       "</div>"
      ],
      "text/plain": [
       "        lat        lon    pathBTS1    pathBTS2    pathBTS3    pathBTS4  \\\n",
       "0 -8.076391 -34.895985  120.610000  104.380000  129.970000  123.620000   \n",
       "1 -8.072939 -34.895676  105.290000  121.523333  106.556667  108.756667   \n",
       "2 -8.076256 -34.899773  122.256667  110.423333  124.490000  135.256667   \n",
       "3 -8.064446 -34.889416  127.423333  132.656667  130.556667  131.856667   \n",
       "4 -8.068819 -34.888874  121.490000  136.423333  128.190000  122.723333   \n",
       "\n",
       "     pathBTS5    pathBTS6  \n",
       "0  129.460000  132.080000  \n",
       "1  122.556667  126.123333  \n",
       "2  142.956667  142.556667  \n",
       "3  126.090000  137.723333  \n",
       "4  107.256667  120.323333  "
      ]
     },
     "execution_count": 140,
     "metadata": {},
     "output_type": "execute_result"
    }
   ],
   "source": [
    "df = df_ref.iloc[:, 0:9]\n",
    "df = df.dropna(axis='rows')\n",
    "df.head()"
   ]
  },
  {
   "cell_type": "code",
   "execution_count": 141,
   "metadata": {},
   "outputs": [],
   "source": [
    "from sklearn.neighbors import KNeighborsRegressor\n",
    "from sklearn.multioutput import MultiOutputRegressor\n",
    "\n",
    "def knn_grid(celula, medicao):\n",
    "    \n",
    "    X = medicao.iloc[:, 0:2]\n",
    "    y = medicao.iloc[:, 2:]\n",
    "    \n",
    "    pos = list(zip(medicao.iloc[:, 0], medicao.iloc[:, 1]))\n",
    "    \n",
    "    knn = KNeighborsRegressor(n_neighbors=5)\n",
    "    multi = MultiOutputRegressor(knn).fit(X, y)\n",
    "    \n",
    "    linhas = []\n",
    "    \n",
    "    for i in range(len(celula)):\n",
    "        \n",
    "        linha = {'lat':'', 'lon':'', 'pathBTS1':'', 'pathBTS2':'', 'pathBTS3':'', 'pathBTS4':'', 'pathBTS5':'', 'pathBTS6':''}\n",
    "        posAtual = [[celula.iloc[i, 0], celula.iloc[i, 1]]]\n",
    "        y_pred = multi.predict(posAtual)\n",
    "        \n",
    "        linha['lat'] = celula.iloc[i,0]\n",
    "        linha['lon'] = celula.iloc[i,1]\n",
    "        linha['pathBTS1'] = y_pred[0,0]\n",
    "        linha['pathBTS2'] = y_pred[0,1]\n",
    "        linha['pathBTS3'] = y_pred[0,2]\n",
    "        linha['pathBTS4'] = y_pred[0,3]\n",
    "        linha['pathBTS5'] = y_pred[0,4]\n",
    "        linha['pathBTS6'] = y_pred[0,5]\n",
    "        \n",
    "        linhas.append(linha)\n",
    "        \n",
    "    df = pd.DataFrame(linhas)\n",
    "    return df\n"
   ]
  },
  {
   "cell_type": "code",
   "execution_count": 142,
   "metadata": {},
   "outputs": [
    {
     "data": {
      "text/html": [
       "<div>\n",
       "<style scoped>\n",
       "    .dataframe tbody tr th:only-of-type {\n",
       "        vertical-align: middle;\n",
       "    }\n",
       "\n",
       "    .dataframe tbody tr th {\n",
       "        vertical-align: top;\n",
       "    }\n",
       "\n",
       "    .dataframe thead th {\n",
       "        text-align: right;\n",
       "    }\n",
       "</style>\n",
       "<table border=\"1\" class=\"dataframe\">\n",
       "  <thead>\n",
       "    <tr style=\"text-align: right;\">\n",
       "      <th></th>\n",
       "      <th>lat</th>\n",
       "      <th>lon</th>\n",
       "      <th>pathBTS1</th>\n",
       "      <th>pathBTS2</th>\n",
       "      <th>pathBTS3</th>\n",
       "      <th>pathBTS4</th>\n",
       "      <th>pathBTS5</th>\n",
       "      <th>pathBTS6</th>\n",
       "    </tr>\n",
       "  </thead>\n",
       "  <tbody>\n",
       "    <tr>\n",
       "      <th>0</th>\n",
       "      <td>-8.077305</td>\n",
       "      <td>-34.906603</td>\n",
       "      <td>123.873333</td>\n",
       "      <td>116.983333</td>\n",
       "      <td>124.086667</td>\n",
       "      <td>132.093333</td>\n",
       "      <td>139.893333</td>\n",
       "      <td>137.573333</td>\n",
       "    </tr>\n",
       "    <tr>\n",
       "      <th>1</th>\n",
       "      <td>-8.076762</td>\n",
       "      <td>-34.906603</td>\n",
       "      <td>121.806667</td>\n",
       "      <td>119.230000</td>\n",
       "      <td>118.320000</td>\n",
       "      <td>130.523333</td>\n",
       "      <td>140.266667</td>\n",
       "      <td>137.443333</td>\n",
       "    </tr>\n",
       "    <tr>\n",
       "      <th>2</th>\n",
       "      <td>-8.076220</td>\n",
       "      <td>-34.906603</td>\n",
       "      <td>120.716667</td>\n",
       "      <td>117.626667</td>\n",
       "      <td>112.106667</td>\n",
       "      <td>126.840000</td>\n",
       "      <td>139.066667</td>\n",
       "      <td>135.403333</td>\n",
       "    </tr>\n",
       "    <tr>\n",
       "      <th>3</th>\n",
       "      <td>-8.075677</td>\n",
       "      <td>-34.906603</td>\n",
       "      <td>124.410000</td>\n",
       "      <td>116.226667</td>\n",
       "      <td>117.126667</td>\n",
       "      <td>125.096667</td>\n",
       "      <td>142.456667</td>\n",
       "      <td>138.776667</td>\n",
       "    </tr>\n",
       "    <tr>\n",
       "      <th>4</th>\n",
       "      <td>-8.075135</td>\n",
       "      <td>-34.906603</td>\n",
       "      <td>123.448333</td>\n",
       "      <td>120.756667</td>\n",
       "      <td>120.860000</td>\n",
       "      <td>126.446667</td>\n",
       "      <td>143.538333</td>\n",
       "      <td>137.108333</td>\n",
       "    </tr>\n",
       "  </tbody>\n",
       "</table>\n",
       "</div>"
      ],
      "text/plain": [
       "        lat        lon    pathBTS1    pathBTS2    pathBTS3    pathBTS4  \\\n",
       "0 -8.077305 -34.906603  123.873333  116.983333  124.086667  132.093333   \n",
       "1 -8.076762 -34.906603  121.806667  119.230000  118.320000  130.523333   \n",
       "2 -8.076220 -34.906603  120.716667  117.626667  112.106667  126.840000   \n",
       "3 -8.075677 -34.906603  124.410000  116.226667  117.126667  125.096667   \n",
       "4 -8.075135 -34.906603  123.448333  120.756667  120.860000  126.446667   \n",
       "\n",
       "     pathBTS5    pathBTS6  \n",
       "0  139.893333  137.573333  \n",
       "1  140.266667  137.443333  \n",
       "2  139.066667  135.403333  \n",
       "3  142.456667  138.776667  \n",
       "4  143.538333  137.108333  "
      ]
     },
     "execution_count": 142,
     "metadata": {},
     "output_type": "execute_result"
    }
   ],
   "source": [
    "df = df_ref.iloc[:, 0:9]\n",
    "df = df.dropna(axis='rows')\n",
    "grid = knn_grid(df_cells_coord,df)\n",
    "grid.head()"
   ]
  },
  {
   "cell_type": "code",
   "execution_count": 143,
   "metadata": {},
   "outputs": [
    {
     "data": {
      "text/html": [
       "<div>\n",
       "<style scoped>\n",
       "    .dataframe tbody tr th:only-of-type {\n",
       "        vertical-align: middle;\n",
       "    }\n",
       "\n",
       "    .dataframe tbody tr th {\n",
       "        vertical-align: top;\n",
       "    }\n",
       "\n",
       "    .dataframe thead th {\n",
       "        text-align: right;\n",
       "    }\n",
       "</style>\n",
       "<table border=\"1\" class=\"dataframe\">\n",
       "  <thead>\n",
       "    <tr style=\"text-align: right;\">\n",
       "      <th></th>\n",
       "      <th>lat</th>\n",
       "      <th>lon</th>\n",
       "      <th>pathBTS1</th>\n",
       "      <th>pathBTS2</th>\n",
       "      <th>pathBTS3</th>\n",
       "      <th>pathBTS4</th>\n",
       "      <th>pathBTS5</th>\n",
       "      <th>pathBTS6</th>\n",
       "    </tr>\n",
       "  </thead>\n",
       "  <tbody>\n",
       "    <tr>\n",
       "      <th>0</th>\n",
       "      <td>-8.076391</td>\n",
       "      <td>-34.895985</td>\n",
       "      <td>120.610000</td>\n",
       "      <td>104.380000</td>\n",
       "      <td>129.970000</td>\n",
       "      <td>123.620000</td>\n",
       "      <td>129.460000</td>\n",
       "      <td>132.080000</td>\n",
       "    </tr>\n",
       "    <tr>\n",
       "      <th>1</th>\n",
       "      <td>-8.072939</td>\n",
       "      <td>-34.895676</td>\n",
       "      <td>105.290000</td>\n",
       "      <td>121.523333</td>\n",
       "      <td>106.556667</td>\n",
       "      <td>108.756667</td>\n",
       "      <td>122.556667</td>\n",
       "      <td>126.123333</td>\n",
       "    </tr>\n",
       "    <tr>\n",
       "      <th>2</th>\n",
       "      <td>-8.076256</td>\n",
       "      <td>-34.899773</td>\n",
       "      <td>122.256667</td>\n",
       "      <td>110.423333</td>\n",
       "      <td>124.490000</td>\n",
       "      <td>135.256667</td>\n",
       "      <td>142.956667</td>\n",
       "      <td>142.556667</td>\n",
       "    </tr>\n",
       "    <tr>\n",
       "      <th>3</th>\n",
       "      <td>-8.064446</td>\n",
       "      <td>-34.889416</td>\n",
       "      <td>127.423333</td>\n",
       "      <td>132.656667</td>\n",
       "      <td>130.556667</td>\n",
       "      <td>131.856667</td>\n",
       "      <td>126.090000</td>\n",
       "      <td>137.723333</td>\n",
       "    </tr>\n",
       "    <tr>\n",
       "      <th>4</th>\n",
       "      <td>-8.068819</td>\n",
       "      <td>-34.888874</td>\n",
       "      <td>121.490000</td>\n",
       "      <td>136.423333</td>\n",
       "      <td>128.190000</td>\n",
       "      <td>122.723333</td>\n",
       "      <td>107.256667</td>\n",
       "      <td>120.323333</td>\n",
       "    </tr>\n",
       "  </tbody>\n",
       "</table>\n",
       "</div>"
      ],
      "text/plain": [
       "        lat        lon    pathBTS1    pathBTS2    pathBTS3    pathBTS4  \\\n",
       "0 -8.076391 -34.895985  120.610000  104.380000  129.970000  123.620000   \n",
       "1 -8.072939 -34.895676  105.290000  121.523333  106.556667  108.756667   \n",
       "2 -8.076256 -34.899773  122.256667  110.423333  124.490000  135.256667   \n",
       "3 -8.064446 -34.889416  127.423333  132.656667  130.556667  131.856667   \n",
       "4 -8.068819 -34.888874  121.490000  136.423333  128.190000  122.723333   \n",
       "\n",
       "     pathBTS5    pathBTS6  \n",
       "0  129.460000  132.080000  \n",
       "1  122.556667  126.123333  \n",
       "2  142.956667  142.556667  \n",
       "3  126.090000  137.723333  \n",
       "4  107.256667  120.323333  "
      ]
     },
     "execution_count": 143,
     "metadata": {},
     "output_type": "execute_result"
    }
   ],
   "source": [
    "df.head()"
   ]
  },
  {
   "cell_type": "markdown",
   "metadata": {},
   "source": [
    "### Seleção células de interesse\n"
   ]
  },
  {
   "cell_type": "code",
   "execution_count": 144,
   "metadata": {},
   "outputs": [
    {
     "data": {
      "text/plain": [
       "1640"
      ]
     },
     "execution_count": 144,
     "metadata": {},
     "output_type": "execute_result"
    }
   ],
   "source": [
    "len(grid)"
   ]
  },
  {
   "cell_type": "code",
   "execution_count": 145,
   "metadata": {},
   "outputs": [
    {
     "data": {
      "text/plain": [
       "1498"
      ]
     },
     "execution_count": 145,
     "metadata": {},
     "output_type": "execute_result"
    }
   ],
   "source": [
    "len(df)"
   ]
  },
  {
   "cell_type": "code",
   "execution_count": 146,
   "metadata": {},
   "outputs": [
    {
     "data": {
      "text/html": [
       "<div>\n",
       "<style scoped>\n",
       "    .dataframe tbody tr th:only-of-type {\n",
       "        vertical-align: middle;\n",
       "    }\n",
       "\n",
       "    .dataframe tbody tr th {\n",
       "        vertical-align: top;\n",
       "    }\n",
       "\n",
       "    .dataframe thead th {\n",
       "        text-align: right;\n",
       "    }\n",
       "</style>\n",
       "<table border=\"1\" class=\"dataframe\">\n",
       "  <thead>\n",
       "    <tr style=\"text-align: right;\">\n",
       "      <th></th>\n",
       "      <th>lat</th>\n",
       "      <th>lon</th>\n",
       "      <th>pathBTS1</th>\n",
       "      <th>pathBTS2</th>\n",
       "      <th>pathBTS3</th>\n",
       "      <th>pathBTS4</th>\n",
       "      <th>pathBTS5</th>\n",
       "      <th>pathBTS6</th>\n",
       "    </tr>\n",
       "  </thead>\n",
       "  <tbody>\n",
       "    <tr>\n",
       "      <th>0</th>\n",
       "      <td>-8.076391</td>\n",
       "      <td>-34.895985</td>\n",
       "      <td>120.610000</td>\n",
       "      <td>104.380000</td>\n",
       "      <td>129.970000</td>\n",
       "      <td>123.620000</td>\n",
       "      <td>129.460000</td>\n",
       "      <td>132.080000</td>\n",
       "    </tr>\n",
       "    <tr>\n",
       "      <th>1</th>\n",
       "      <td>-8.072939</td>\n",
       "      <td>-34.895676</td>\n",
       "      <td>105.290000</td>\n",
       "      <td>121.523333</td>\n",
       "      <td>106.556667</td>\n",
       "      <td>108.756667</td>\n",
       "      <td>122.556667</td>\n",
       "      <td>126.123333</td>\n",
       "    </tr>\n",
       "    <tr>\n",
       "      <th>2</th>\n",
       "      <td>-8.076256</td>\n",
       "      <td>-34.899773</td>\n",
       "      <td>122.256667</td>\n",
       "      <td>110.423333</td>\n",
       "      <td>124.490000</td>\n",
       "      <td>135.256667</td>\n",
       "      <td>142.956667</td>\n",
       "      <td>142.556667</td>\n",
       "    </tr>\n",
       "    <tr>\n",
       "      <th>3</th>\n",
       "      <td>-8.064446</td>\n",
       "      <td>-34.889416</td>\n",
       "      <td>127.423333</td>\n",
       "      <td>132.656667</td>\n",
       "      <td>130.556667</td>\n",
       "      <td>131.856667</td>\n",
       "      <td>126.090000</td>\n",
       "      <td>137.723333</td>\n",
       "    </tr>\n",
       "    <tr>\n",
       "      <th>4</th>\n",
       "      <td>-8.068819</td>\n",
       "      <td>-34.888874</td>\n",
       "      <td>121.490000</td>\n",
       "      <td>136.423333</td>\n",
       "      <td>128.190000</td>\n",
       "      <td>122.723333</td>\n",
       "      <td>107.256667</td>\n",
       "      <td>120.323333</td>\n",
       "    </tr>\n",
       "  </tbody>\n",
       "</table>\n",
       "</div>"
      ],
      "text/plain": [
       "        lat        lon    pathBTS1    pathBTS2    pathBTS3    pathBTS4  \\\n",
       "0 -8.076391 -34.895985  120.610000  104.380000  129.970000  123.620000   \n",
       "1 -8.072939 -34.895676  105.290000  121.523333  106.556667  108.756667   \n",
       "2 -8.076256 -34.899773  122.256667  110.423333  124.490000  135.256667   \n",
       "3 -8.064446 -34.889416  127.423333  132.656667  130.556667  131.856667   \n",
       "4 -8.068819 -34.888874  121.490000  136.423333  128.190000  122.723333   \n",
       "\n",
       "     pathBTS5    pathBTS6  \n",
       "0  129.460000  132.080000  \n",
       "1  122.556667  126.123333  \n",
       "2  142.956667  142.556667  \n",
       "3  126.090000  137.723333  \n",
       "4  107.256667  120.323333  "
      ]
     },
     "execution_count": 146,
     "metadata": {},
     "output_type": "execute_result"
    }
   ],
   "source": [
    "df_total = pd.concat([df,grid])\n",
    "df_total.head()"
   ]
  },
  {
   "cell_type": "code",
   "execution_count": 147,
   "metadata": {},
   "outputs": [
    {
     "data": {
      "text/plain": [
       "3138"
      ]
     },
     "execution_count": 147,
     "metadata": {},
     "output_type": "execute_result"
    }
   ],
   "source": [
    "len(df_total)"
   ]
  },
  {
   "cell_type": "code",
   "execution_count": 148,
   "metadata": {},
   "outputs": [],
   "source": [
    "df_total.to_csv('df_total.csv', sep='\\t')"
   ]
  },
  {
   "cell_type": "code",
   "execution_count": 149,
   "metadata": {},
   "outputs": [],
   "source": [
    "\n",
    "import math\n",
    "\n",
    "def divideCell(lat, lon):\n",
    "    pi = math.pi\n",
    "    half_width = 61/2\n",
    "    half_length = 50/2\n",
    "    r_earth = 6378*1000\n",
    "    \n",
    "    new_latitude_mais  = lat  + (half_length / r_earth) * (180 / pi);\n",
    "    new_longitude_mais = lon + (half_width / r_earth) * (180 / pi) / math.cos(lat * pi/180);\n",
    "    new_latitude_menos  = lat  + ((-half_length) / r_earth) * (180 / pi);\n",
    "    new_longitude_menos = lon + ((-half_width) / r_earth) * (180 / pi) / math.cos(lat * pi/180);\n",
    "    \n",
    "    # (+lat +lon), (+lat -lon), (-lat +lon), (-lat -lon)\n",
    "    return [(new_latitude_mais, new_longitude_mais), (new_latitude_mais, new_longitude_menos),\n",
    "            (new_latitude_menos, new_longitude_mais), (new_latitude_menos, new_longitude_menos)]\n",
    "\n",
    "#new_cells = divideCell(-8.077305, -34.906603)\n",
    "#print(new_cells)"
   ]
  },
  {
   "cell_type": "code",
   "execution_count": 150,
   "metadata": {},
   "outputs": [],
   "source": [
    "def addNewCellsToGrid(gridEx): \n",
    "    count = 0\n",
    "    new_rows = []\n",
    "    aux_rows = []\n",
    "    rows_to_drop = []\n",
    "\n",
    "#     for index, row in grid.iterrows():\n",
    "    for index, row in gridEx.iterrows():\n",
    "        if(((float(row['pathBTS1']) > 132.17) and (float(row['pathBTS4']) > 130.838) and (float(row['pathBTS3']) > 132.118))or \n",
    "           ((float(row['pathBTS2']) > 130.052) and (float(row['pathBTS5']) < 114.867) and (float(row['pathBTS6']) > 137.78))):\n",
    "            \n",
    "            # index das rows que vão ser dropadas antes do retorno pois foram divididas\n",
    "            rows_to_drop.append(index)\n",
    "            \n",
    "            count = count +1\n",
    "            new_cells = divideCell(row['lat'], row['lon'])\n",
    "            \n",
    "            each_cell = {'lat':'', 'lon':'', 'pathBTS1':'', 'pathBTS2':'', 'pathBTS3':'', 'pathBTS4':'', 'pathBTS5':'', 'pathBTS6':''}\n",
    "            cell_latLon = {'lat':'', 'lon':''} \n",
    "            \n",
    "            for cell in new_cells:\n",
    "                each_cell['lat'] = cell[0]\n",
    "                each_cell['lon'] = cell[1]\n",
    "                new_rows.append(each_cell)\n",
    "                cell_latLon['lat'] = cell[0]\n",
    "                cell_latLon['lon'] = cell[1]\n",
    "                aux_rows.append(cell_latLon)\n",
    "    \n",
    "    # adiciona novas rows ao grid\n",
    "    \n",
    "    df_novo_grid = gridEx.drop(rows_to_drop, axis=0) # dropping rows que foram divididas\n",
    "    df_cells = pd.DataFrame(aux_rows)\n",
    "    \n",
    "    # \n",
    "    df_novo_cells = knn_grid(df_cells, grid)\n",
    "    df_novo_grid = pd.concat([df_novo_grid, df_novo_cells], axis=0)\n",
    "\n",
    "    return df_novo_grid, df_cells"
   ]
  },
  {
   "cell_type": "code",
   "execution_count": 151,
   "metadata": {},
   "outputs": [
    {
     "data": {
      "text/html": [
       "<div>\n",
       "<style scoped>\n",
       "    .dataframe tbody tr th:only-of-type {\n",
       "        vertical-align: middle;\n",
       "    }\n",
       "\n",
       "    .dataframe tbody tr th {\n",
       "        vertical-align: top;\n",
       "    }\n",
       "\n",
       "    .dataframe thead th {\n",
       "        text-align: right;\n",
       "    }\n",
       "</style>\n",
       "<table border=\"1\" class=\"dataframe\">\n",
       "  <thead>\n",
       "    <tr style=\"text-align: right;\">\n",
       "      <th></th>\n",
       "      <th>lat</th>\n",
       "      <th>lon</th>\n",
       "      <th>pathBTS1</th>\n",
       "      <th>pathBTS2</th>\n",
       "      <th>pathBTS3</th>\n",
       "      <th>pathBTS4</th>\n",
       "      <th>pathBTS5</th>\n",
       "      <th>pathBTS6</th>\n",
       "    </tr>\n",
       "  </thead>\n",
       "  <tbody>\n",
       "    <tr>\n",
       "      <th>0</th>\n",
       "      <td>-8.077305</td>\n",
       "      <td>-34.906603</td>\n",
       "      <td>123.873333</td>\n",
       "      <td>116.983333</td>\n",
       "      <td>124.086667</td>\n",
       "      <td>132.093333</td>\n",
       "      <td>139.893333</td>\n",
       "      <td>137.573333</td>\n",
       "    </tr>\n",
       "    <tr>\n",
       "      <th>1</th>\n",
       "      <td>-8.076762</td>\n",
       "      <td>-34.906603</td>\n",
       "      <td>121.806667</td>\n",
       "      <td>119.230000</td>\n",
       "      <td>118.320000</td>\n",
       "      <td>130.523333</td>\n",
       "      <td>140.266667</td>\n",
       "      <td>137.443333</td>\n",
       "    </tr>\n",
       "    <tr>\n",
       "      <th>2</th>\n",
       "      <td>-8.076220</td>\n",
       "      <td>-34.906603</td>\n",
       "      <td>120.716667</td>\n",
       "      <td>117.626667</td>\n",
       "      <td>112.106667</td>\n",
       "      <td>126.840000</td>\n",
       "      <td>139.066667</td>\n",
       "      <td>135.403333</td>\n",
       "    </tr>\n",
       "    <tr>\n",
       "      <th>3</th>\n",
       "      <td>-8.075677</td>\n",
       "      <td>-34.906603</td>\n",
       "      <td>124.410000</td>\n",
       "      <td>116.226667</td>\n",
       "      <td>117.126667</td>\n",
       "      <td>125.096667</td>\n",
       "      <td>142.456667</td>\n",
       "      <td>138.776667</td>\n",
       "    </tr>\n",
       "    <tr>\n",
       "      <th>4</th>\n",
       "      <td>-8.075135</td>\n",
       "      <td>-34.906603</td>\n",
       "      <td>123.448333</td>\n",
       "      <td>120.756667</td>\n",
       "      <td>120.860000</td>\n",
       "      <td>126.446667</td>\n",
       "      <td>143.538333</td>\n",
       "      <td>137.108333</td>\n",
       "    </tr>\n",
       "  </tbody>\n",
       "</table>\n",
       "</div>"
      ],
      "text/plain": [
       "        lat        lon    pathBTS1    pathBTS2    pathBTS3    pathBTS4  \\\n",
       "0 -8.077305 -34.906603  123.873333  116.983333  124.086667  132.093333   \n",
       "1 -8.076762 -34.906603  121.806667  119.230000  118.320000  130.523333   \n",
       "2 -8.076220 -34.906603  120.716667  117.626667  112.106667  126.840000   \n",
       "3 -8.075677 -34.906603  124.410000  116.226667  117.126667  125.096667   \n",
       "4 -8.075135 -34.906603  123.448333  120.756667  120.860000  126.446667   \n",
       "\n",
       "     pathBTS5    pathBTS6  \n",
       "0  139.893333  137.573333  \n",
       "1  140.266667  137.443333  \n",
       "2  139.066667  135.403333  \n",
       "3  142.456667  138.776667  \n",
       "4  143.538333  137.108333  "
      ]
     },
     "execution_count": 151,
     "metadata": {},
     "output_type": "execute_result"
    }
   ],
   "source": [
    "df_novo_grid, df_cells = addNewCellsToGrid(grid)\n",
    "df_novo_grid.head()"
   ]
  },
  {
   "cell_type": "code",
   "execution_count": 152,
   "metadata": {},
   "outputs": [
    {
     "data": {
      "text/html": [
       "<div>\n",
       "<style scoped>\n",
       "    .dataframe tbody tr th:only-of-type {\n",
       "        vertical-align: middle;\n",
       "    }\n",
       "\n",
       "    .dataframe tbody tr th {\n",
       "        vertical-align: top;\n",
       "    }\n",
       "\n",
       "    .dataframe thead th {\n",
       "        text-align: right;\n",
       "    }\n",
       "</style>\n",
       "<table border=\"1\" class=\"dataframe\">\n",
       "  <thead>\n",
       "    <tr style=\"text-align: right;\">\n",
       "      <th></th>\n",
       "      <th>lat</th>\n",
       "      <th>lon</th>\n",
       "    </tr>\n",
       "  </thead>\n",
       "  <tbody>\n",
       "    <tr>\n",
       "      <th>0</th>\n",
       "      <td>-8.060169</td>\n",
       "      <td>-34.90688</td>\n",
       "    </tr>\n",
       "    <tr>\n",
       "      <th>1</th>\n",
       "      <td>-8.060169</td>\n",
       "      <td>-34.90688</td>\n",
       "    </tr>\n",
       "    <tr>\n",
       "      <th>2</th>\n",
       "      <td>-8.060169</td>\n",
       "      <td>-34.90688</td>\n",
       "    </tr>\n",
       "    <tr>\n",
       "      <th>3</th>\n",
       "      <td>-8.060169</td>\n",
       "      <td>-34.90688</td>\n",
       "    </tr>\n",
       "    <tr>\n",
       "      <th>4</th>\n",
       "      <td>-8.059084</td>\n",
       "      <td>-34.90688</td>\n",
       "    </tr>\n",
       "  </tbody>\n",
       "</table>\n",
       "</div>"
      ],
      "text/plain": [
       "        lat       lon\n",
       "0 -8.060169 -34.90688\n",
       "1 -8.060169 -34.90688\n",
       "2 -8.060169 -34.90688\n",
       "3 -8.060169 -34.90688\n",
       "4 -8.059084 -34.90688"
      ]
     },
     "execution_count": 152,
     "metadata": {},
     "output_type": "execute_result"
    }
   ],
   "source": [
    "df_cells.head()"
   ]
  },
  {
   "cell_type": "code",
   "execution_count": 153,
   "metadata": {},
   "outputs": [
    {
     "data": {
      "text/plain": [
       "2201"
      ]
     },
     "execution_count": 153,
     "metadata": {},
     "output_type": "execute_result"
    }
   ],
   "source": [
    "len(df_novo_grid)"
   ]
  },
  {
   "cell_type": "markdown",
   "metadata": {},
   "source": [
    "### Printando posição das coisas no mapa"
   ]
  },
  {
   "cell_type": "code",
   "execution_count": 154,
   "metadata": {},
   "outputs": [
    {
     "data": {
      "text/plain": [
       "<matplotlib.axes._subplots.AxesSubplot at 0x1a184abf28>"
      ]
     },
     "execution_count": 154,
     "metadata": {},
     "output_type": "execute_result"
    },
    {
     "data": {
      "image/png": "[encoded data removed]",
      "text/plain": [
       "<Figure size 432x288 with 1 Axes>"
      ]
     },
     "metadata": {
      "needs_background": "light"
     },
     "output_type": "display_data"
    },
    {
     "data": {
      "image/png": "[encoded data removed]",
      "text/plain": [
       "<Figure size 432x288 with 1 Axes>"
      ]
     },
     "metadata": {
      "needs_background": "light"
     },
     "output_type": "display_data"
    },
    {
     "data": {
      "image/png": "[encoded data removed]",
      "text/plain": [
       "<Figure size 432x288 with 1 Axes>"
      ]
     },
     "metadata": {
      "needs_background": "light"
     },
     "output_type": "display_data"
    },
    {
     "data": {
      "image/png": "[encoded data removed]",
      "text/plain": [
       "<Figure size 432x288 with 1 Axes>"
      ]
     },
     "metadata": {
      "needs_background": "light"
     },
     "output_type": "display_data"
    }
   ],
   "source": [
    "figure2 = df_cells.plot(kind='scatter', x='lon', y='lat')\n",
    "figure2 = df_ref.plot(kind='scatter', x='lon', y='lat')\n",
    "figure2 = df_antenas.plot(kind='scatter', x='lon', y='lat')\n",
    "figure2 = grid.plot(kind='scatter', x='lon', y='lat')\n",
    "\n",
    "figure2.grid(True)\n",
    "\n",
    "figure2"
   ]
  },
  {
   "cell_type": "markdown",
   "metadata": {},
   "source": [
    "import folium\n",
    "\n",
    "recife = folium.Map( location=[-8.05428, -34.8813], zoom_start=12)"
   ]
  },
  {
   "cell_type": "markdown",
   "metadata": {},
   "source": [
    "\n",
    "i = 0\n",
    "while i < len(df_ref):\n",
    "    aux = df_ref.iloc[i]\n",
    "    folium.Marker(location=[aux['lat'], aux['lon']]).add_to(recife)\n",
    "    i = i+1\n",
    "\n",
    "i = 0\n",
    "while i < len(df_antenas):\n",
    "    aux = df_antenas.iloc[i]\n",
    "    folium.Marker(location=[aux['lat'], aux['lon']], icon=folium.Icon(color='red')).add_to(recife)\n",
    "    i = i+1\n",
    "\n",
    "\n",
    "i = 0\n",
    "while i < len(grid):\n",
    "    aux = grid.iloc[i]\n",
    "    folium.Marker(location=[aux['lat'], aux['lon']], icon=folium.Icon(color='green')).add_to(recife)\n",
    "    i = i+1\n",
    "\n",
    "\n",
    "i = 0\n",
    "while i < len(df_cells):\n",
    "    aux = df_cells.iloc[i]\n",
    "    folium.Marker(location=[aux['lat'], aux['lon']], icon=folium.Icon(color='pink')).add_to(recife)\n",
    "    i = i+1\n",
    "\n"
   ]
  },
  {
   "cell_type": "code",
   "execution_count": 155,
   "metadata": {},
   "outputs": [],
   "source": [
    "#recife"
   ]
  },
  {
   "cell_type": "markdown",
   "metadata": {},
   "source": [
    "### Predição grid"
   ]
  },
  {
   "cell_type": "code",
   "execution_count": 156,
   "metadata": {},
   "outputs": [
    {
     "data": {
      "text/html": [
       "<div>\n",
       "<style scoped>\n",
       "    .dataframe tbody tr th:only-of-type {\n",
       "        vertical-align: middle;\n",
       "    }\n",
       "\n",
       "    .dataframe tbody tr th {\n",
       "        vertical-align: top;\n",
       "    }\n",
       "\n",
       "    .dataframe thead th {\n",
       "        text-align: right;\n",
       "    }\n",
       "</style>\n",
       "<table border=\"1\" class=\"dataframe\">\n",
       "  <thead>\n",
       "    <tr style=\"text-align: right;\">\n",
       "      <th></th>\n",
       "      <th>lat</th>\n",
       "      <th>lon</th>\n",
       "      <th>pathBTS1</th>\n",
       "      <th>pathBTS2</th>\n",
       "      <th>pathBTS3</th>\n",
       "      <th>pathBTS4</th>\n",
       "      <th>pathBTS5</th>\n",
       "      <th>pathBTS6</th>\n",
       "    </tr>\n",
       "  </thead>\n",
       "  <tbody>\n",
       "    <tr>\n",
       "      <th>0</th>\n",
       "      <td>-8.077305</td>\n",
       "      <td>-34.906603</td>\n",
       "      <td>123.873333</td>\n",
       "      <td>116.983333</td>\n",
       "      <td>124.086667</td>\n",
       "      <td>132.093333</td>\n",
       "      <td>139.893333</td>\n",
       "      <td>137.573333</td>\n",
       "    </tr>\n",
       "    <tr>\n",
       "      <th>1</th>\n",
       "      <td>-8.076762</td>\n",
       "      <td>-34.906603</td>\n",
       "      <td>121.806667</td>\n",
       "      <td>119.230000</td>\n",
       "      <td>118.320000</td>\n",
       "      <td>130.523333</td>\n",
       "      <td>140.266667</td>\n",
       "      <td>137.443333</td>\n",
       "    </tr>\n",
       "    <tr>\n",
       "      <th>2</th>\n",
       "      <td>-8.076220</td>\n",
       "      <td>-34.906603</td>\n",
       "      <td>120.716667</td>\n",
       "      <td>117.626667</td>\n",
       "      <td>112.106667</td>\n",
       "      <td>126.840000</td>\n",
       "      <td>139.066667</td>\n",
       "      <td>135.403333</td>\n",
       "    </tr>\n",
       "    <tr>\n",
       "      <th>3</th>\n",
       "      <td>-8.075677</td>\n",
       "      <td>-34.906603</td>\n",
       "      <td>124.410000</td>\n",
       "      <td>116.226667</td>\n",
       "      <td>117.126667</td>\n",
       "      <td>125.096667</td>\n",
       "      <td>142.456667</td>\n",
       "      <td>138.776667</td>\n",
       "    </tr>\n",
       "    <tr>\n",
       "      <th>4</th>\n",
       "      <td>-8.075135</td>\n",
       "      <td>-34.906603</td>\n",
       "      <td>123.448333</td>\n",
       "      <td>120.756667</td>\n",
       "      <td>120.860000</td>\n",
       "      <td>126.446667</td>\n",
       "      <td>143.538333</td>\n",
       "      <td>137.108333</td>\n",
       "    </tr>\n",
       "  </tbody>\n",
       "</table>\n",
       "</div>"
      ],
      "text/plain": [
       "        lat        lon    pathBTS1    pathBTS2    pathBTS3    pathBTS4  \\\n",
       "0 -8.077305 -34.906603  123.873333  116.983333  124.086667  132.093333   \n",
       "1 -8.076762 -34.906603  121.806667  119.230000  118.320000  130.523333   \n",
       "2 -8.076220 -34.906603  120.716667  117.626667  112.106667  126.840000   \n",
       "3 -8.075677 -34.906603  124.410000  116.226667  117.126667  125.096667   \n",
       "4 -8.075135 -34.906603  123.448333  120.756667  120.860000  126.446667   \n",
       "\n",
       "     pathBTS5    pathBTS6  \n",
       "0  139.893333  137.573333  \n",
       "1  140.266667  137.443333  \n",
       "2  139.066667  135.403333  \n",
       "3  142.456667  138.776667  \n",
       "4  143.538333  137.108333  "
      ]
     },
     "execution_count": 156,
     "metadata": {},
     "output_type": "execute_result"
    }
   ],
   "source": [
    "grid.head()"
   ]
  },
  {
   "cell_type": "code",
   "execution_count": 157,
   "metadata": {},
   "outputs": [],
   "source": [
    "df_ref = df_ref.dropna(axis='rows')\n"
   ]
  },
  {
   "cell_type": "code",
   "execution_count": 158,
   "metadata": {},
   "outputs": [],
   "source": [
    "from sklearn.neighbors import KNeighborsRegressor\n",
    "\n",
    "train_labels = grid.iloc[:, 0:2]\n",
    "train_data = grid.iloc[:, 2:]\n",
    "\n",
    "test_labels = df_ref.iloc[:, 0:2] \n",
    "test_data = df_ref.iloc[:, 2:]"
   ]
  },
  {
   "cell_type": "code",
   "execution_count": 159,
   "metadata": {},
   "outputs": [],
   "source": [
    "knn_reg = KNeighborsRegressor(n_neighbors=2, weights='distance')\n",
    "knn_pred_labels = MultiOutputRegressor(knn_reg).fit(train_data, train_labels).predict(test_data)"
   ]
  },
  {
   "cell_type": "code",
   "execution_count": 160,
   "metadata": {},
   "outputs": [],
   "source": [
    "y_pred = knn_pred_labels"
   ]
  },
  {
   "cell_type": "code",
   "execution_count": 161,
   "metadata": {},
   "outputs": [
    {
     "data": {
      "text/plain": [
       "array([[ -8.07598871, -34.89602881],\n",
       "       [ -8.07323574, -34.89571611],\n",
       "       [ -8.0770146 , -34.90246376],\n",
       "       ...,\n",
       "       [ -8.06616436, -34.88998183],\n",
       "       [ -8.06862436, -34.89542231],\n",
       "       [ -8.06482683, -34.8984556 ]])"
      ]
     },
     "execution_count": 161,
     "metadata": {},
     "output_type": "execute_result"
    }
   ],
   "source": [
    "y_pred"
   ]
  },
  {
   "cell_type": "markdown",
   "metadata": {},
   "source": [
    "### Predição novo grid"
   ]
  },
  {
   "cell_type": "code",
   "execution_count": 162,
   "metadata": {},
   "outputs": [
    {
     "data": {
      "text/html": [
       "<div>\n",
       "<style scoped>\n",
       "    .dataframe tbody tr th:only-of-type {\n",
       "        vertical-align: middle;\n",
       "    }\n",
       "\n",
       "    .dataframe tbody tr th {\n",
       "        vertical-align: top;\n",
       "    }\n",
       "\n",
       "    .dataframe thead th {\n",
       "        text-align: right;\n",
       "    }\n",
       "</style>\n",
       "<table border=\"1\" class=\"dataframe\">\n",
       "  <thead>\n",
       "    <tr style=\"text-align: right;\">\n",
       "      <th></th>\n",
       "      <th>lat</th>\n",
       "      <th>lon</th>\n",
       "      <th>pathBTS1</th>\n",
       "      <th>pathBTS2</th>\n",
       "      <th>pathBTS3</th>\n",
       "      <th>pathBTS4</th>\n",
       "      <th>pathBTS5</th>\n",
       "      <th>pathBTS6</th>\n",
       "    </tr>\n",
       "  </thead>\n",
       "  <tbody>\n",
       "    <tr>\n",
       "      <th>0</th>\n",
       "      <td>-8.077305</td>\n",
       "      <td>-34.906603</td>\n",
       "      <td>123.873333</td>\n",
       "      <td>116.983333</td>\n",
       "      <td>124.086667</td>\n",
       "      <td>132.093333</td>\n",
       "      <td>139.893333</td>\n",
       "      <td>137.573333</td>\n",
       "    </tr>\n",
       "    <tr>\n",
       "      <th>1</th>\n",
       "      <td>-8.076762</td>\n",
       "      <td>-34.906603</td>\n",
       "      <td>121.806667</td>\n",
       "      <td>119.230000</td>\n",
       "      <td>118.320000</td>\n",
       "      <td>130.523333</td>\n",
       "      <td>140.266667</td>\n",
       "      <td>137.443333</td>\n",
       "    </tr>\n",
       "    <tr>\n",
       "      <th>2</th>\n",
       "      <td>-8.076220</td>\n",
       "      <td>-34.906603</td>\n",
       "      <td>120.716667</td>\n",
       "      <td>117.626667</td>\n",
       "      <td>112.106667</td>\n",
       "      <td>126.840000</td>\n",
       "      <td>139.066667</td>\n",
       "      <td>135.403333</td>\n",
       "    </tr>\n",
       "    <tr>\n",
       "      <th>3</th>\n",
       "      <td>-8.075677</td>\n",
       "      <td>-34.906603</td>\n",
       "      <td>124.410000</td>\n",
       "      <td>116.226667</td>\n",
       "      <td>117.126667</td>\n",
       "      <td>125.096667</td>\n",
       "      <td>142.456667</td>\n",
       "      <td>138.776667</td>\n",
       "    </tr>\n",
       "    <tr>\n",
       "      <th>4</th>\n",
       "      <td>-8.075135</td>\n",
       "      <td>-34.906603</td>\n",
       "      <td>123.448333</td>\n",
       "      <td>120.756667</td>\n",
       "      <td>120.860000</td>\n",
       "      <td>126.446667</td>\n",
       "      <td>143.538333</td>\n",
       "      <td>137.108333</td>\n",
       "    </tr>\n",
       "  </tbody>\n",
       "</table>\n",
       "</div>"
      ],
      "text/plain": [
       "        lat        lon    pathBTS1    pathBTS2    pathBTS3    pathBTS4  \\\n",
       "0 -8.077305 -34.906603  123.873333  116.983333  124.086667  132.093333   \n",
       "1 -8.076762 -34.906603  121.806667  119.230000  118.320000  130.523333   \n",
       "2 -8.076220 -34.906603  120.716667  117.626667  112.106667  126.840000   \n",
       "3 -8.075677 -34.906603  124.410000  116.226667  117.126667  125.096667   \n",
       "4 -8.075135 -34.906603  123.448333  120.756667  120.860000  126.446667   \n",
       "\n",
       "     pathBTS5    pathBTS6  \n",
       "0  139.893333  137.573333  \n",
       "1  140.266667  137.443333  \n",
       "2  139.066667  135.403333  \n",
       "3  142.456667  138.776667  \n",
       "4  143.538333  137.108333  "
      ]
     },
     "execution_count": 162,
     "metadata": {},
     "output_type": "execute_result"
    }
   ],
   "source": [
    "df_novo_grid.head()"
   ]
  },
  {
   "cell_type": "code",
   "execution_count": 163,
   "metadata": {},
   "outputs": [],
   "source": [
    "train_labels1 = df_novo_grid.iloc[:, 0:2]\n",
    "train_data1 = df_novo_grid.iloc[:, 2:]\n",
    "\n",
    "test_labels1 = df_ref.iloc[:, 0:2] \n",
    "test_data1 = df_ref.iloc[:, 2:]"
   ]
  },
  {
   "cell_type": "code",
   "execution_count": 164,
   "metadata": {},
   "outputs": [],
   "source": [
    "knn_reg1 = KNeighborsRegressor(n_neighbors=2, weights='distance')\n",
    "knn_pred_labels1 = MultiOutputRegressor(knn_reg1).fit(train_data1, train_labels1).predict(test_data1)"
   ]
  },
  {
   "cell_type": "code",
   "execution_count": 165,
   "metadata": {},
   "outputs": [],
   "source": [
    "y_pred1 = knn_pred_labels1"
   ]
  },
  {
   "cell_type": "code",
   "execution_count": 166,
   "metadata": {},
   "outputs": [
    {
     "data": {
      "text/plain": [
       "array([[ -8.07598871, -34.89602881],\n",
       "       [ -8.07323574, -34.89571611],\n",
       "       [ -8.0770146 , -34.90246376],\n",
       "       ...,\n",
       "       [ -8.06616436, -34.88998183],\n",
       "       [ -8.06862436, -34.89542231],\n",
       "       [ -8.06482683, -34.8984556 ]])"
      ]
     },
     "execution_count": 166,
     "metadata": {},
     "output_type": "execute_result"
    }
   ],
   "source": [
    "y_pred1"
   ]
  },
  {
   "cell_type": "markdown",
   "metadata": {},
   "source": [
    "### Passa para metros"
   ]
  },
  {
   "cell_type": "code",
   "execution_count": 167,
   "metadata": {},
   "outputs": [],
   "source": [
    "import math\n",
    "\n",
    "def dist_BS_MS(latB, lonB, latM,lonM):\n",
    "    coord_base = (latB, lonB)\n",
    "    coord_mobi = (latM, lonM)\n",
    "    return geopy.distance.vincenty(coord_base, coord_mobi).m\n",
    "\n",
    "u = 0\n",
    "dists = {'dists':[]}\n",
    "dists1 = {'dists1':[]}\n",
    "\n",
    "while u<len(y_pred):\n",
    "    lat1 = y_pred[u][0]\n",
    "    lon1 = y_pred[u][1]\n",
    "    lat2 = test_labels['lat'].iloc[u]\n",
    "    lon2 = test_labels['lon'].iloc[u]\n",
    "    dists['dists'].append(dist_BS_MS(lat1,lon1,lat2,lon2))\n",
    "    u = u+1\n",
    "\n",
    "u = 0\n",
    "while u<len(y_pred1):\n",
    "    latN1 = y_pred1[u][0]\n",
    "    lonN1 = y_pred1[u][1]\n",
    "    latN2 = test_labels1['lat'].iloc[u]\n",
    "    lonN2 = test_labels1['lon'].iloc[u]\n",
    "    dists1['dists1'].append(dist_BS_MS(latN1,lonN1,latN2,lonN2))\n",
    "    u = u+1\n",
    "    \n",
    "df_dists = pd.DataFrame(dists)\n",
    "df_distsN = pd.DataFrame(dists1)\n"
   ]
  },
  {
   "cell_type": "code",
   "execution_count": 168,
   "metadata": {},
   "outputs": [
    {
     "data": {
      "text/html": [
       "<div>\n",
       "<style scoped>\n",
       "    .dataframe tbody tr th:only-of-type {\n",
       "        vertical-align: middle;\n",
       "    }\n",
       "\n",
       "    .dataframe tbody tr th {\n",
       "        vertical-align: top;\n",
       "    }\n",
       "\n",
       "    .dataframe thead th {\n",
       "        text-align: right;\n",
       "    }\n",
       "</style>\n",
       "<table border=\"1\" class=\"dataframe\">\n",
       "  <thead>\n",
       "    <tr style=\"text-align: right;\">\n",
       "      <th></th>\n",
       "      <th>dists</th>\n",
       "    </tr>\n",
       "  </thead>\n",
       "  <tbody>\n",
       "    <tr>\n",
       "      <th>count</th>\n",
       "      <td>1498.000000</td>\n",
       "    </tr>\n",
       "    <tr>\n",
       "      <th>mean</th>\n",
       "      <td>126.400917</td>\n",
       "    </tr>\n",
       "    <tr>\n",
       "      <th>std</th>\n",
       "      <td>149.255561</td>\n",
       "    </tr>\n",
       "    <tr>\n",
       "      <th>min</th>\n",
       "      <td>1.487858</td>\n",
       "    </tr>\n",
       "    <tr>\n",
       "      <th>25%</th>\n",
       "      <td>41.674663</td>\n",
       "    </tr>\n",
       "    <tr>\n",
       "      <th>50%</th>\n",
       "      <td>79.020721</td>\n",
       "    </tr>\n",
       "    <tr>\n",
       "      <th>75%</th>\n",
       "      <td>155.962797</td>\n",
       "    </tr>\n",
       "    <tr>\n",
       "      <th>max</th>\n",
       "      <td>2282.240665</td>\n",
       "    </tr>\n",
       "  </tbody>\n",
       "</table>\n",
       "</div>"
      ],
      "text/plain": [
       "             dists\n",
       "count  1498.000000\n",
       "mean    126.400917\n",
       "std     149.255561\n",
       "min       1.487858\n",
       "25%      41.674663\n",
       "50%      79.020721\n",
       "75%     155.962797\n",
       "max    2282.240665"
      ]
     },
     "execution_count": 168,
     "metadata": {},
     "output_type": "execute_result"
    }
   ],
   "source": [
    "df_dists.describe()"
   ]
  },
  {
   "cell_type": "code",
   "execution_count": 169,
   "metadata": {},
   "outputs": [
    {
     "data": {
      "text/plain": [
       "array([[<matplotlib.axes._subplots.AxesSubplot object at 0x1a184f1780>]],\n",
       "      dtype=object)"
      ]
     },
     "execution_count": 169,
     "metadata": {},
     "output_type": "execute_result"
    },
    {
     "data": {
      "image/png": "[encoded data removed]",
      "text/plain": [
       "<Figure size 432x288 with 1 Axes>"
      ]
     },
     "metadata": {
      "needs_background": "light"
     },
     "output_type": "display_data"
    }
   ],
   "source": [
    "df_dists.hist(bins = 50)"
   ]
  },
  {
   "cell_type": "code",
   "execution_count": 170,
   "metadata": {},
   "outputs": [
    {
     "data": {
      "text/html": [
       "<div>\n",
       "<style scoped>\n",
       "    .dataframe tbody tr th:only-of-type {\n",
       "        vertical-align: middle;\n",
       "    }\n",
       "\n",
       "    .dataframe tbody tr th {\n",
       "        vertical-align: top;\n",
       "    }\n",
       "\n",
       "    .dataframe thead th {\n",
       "        text-align: right;\n",
       "    }\n",
       "</style>\n",
       "<table border=\"1\" class=\"dataframe\">\n",
       "  <thead>\n",
       "    <tr style=\"text-align: right;\">\n",
       "      <th></th>\n",
       "      <th>dists1</th>\n",
       "    </tr>\n",
       "  </thead>\n",
       "  <tbody>\n",
       "    <tr>\n",
       "      <th>count</th>\n",
       "      <td>1498.000000</td>\n",
       "    </tr>\n",
       "    <tr>\n",
       "      <th>mean</th>\n",
       "      <td>128.371484</td>\n",
       "    </tr>\n",
       "    <tr>\n",
       "      <th>std</th>\n",
       "      <td>149.847424</td>\n",
       "    </tr>\n",
       "    <tr>\n",
       "      <th>min</th>\n",
       "      <td>1.454977</td>\n",
       "    </tr>\n",
       "    <tr>\n",
       "      <th>25%</th>\n",
       "      <td>41.995691</td>\n",
       "    </tr>\n",
       "    <tr>\n",
       "      <th>50%</th>\n",
       "      <td>80.924923</td>\n",
       "    </tr>\n",
       "    <tr>\n",
       "      <th>75%</th>\n",
       "      <td>157.362536</td>\n",
       "    </tr>\n",
       "    <tr>\n",
       "      <th>max</th>\n",
       "      <td>2282.240665</td>\n",
       "    </tr>\n",
       "  </tbody>\n",
       "</table>\n",
       "</div>"
      ],
      "text/plain": [
       "            dists1\n",
       "count  1498.000000\n",
       "mean    128.371484\n",
       "std     149.847424\n",
       "min       1.454977\n",
       "25%      41.995691\n",
       "50%      80.924923\n",
       "75%     157.362536\n",
       "max    2282.240665"
      ]
     },
     "execution_count": 170,
     "metadata": {},
     "output_type": "execute_result"
    }
   ],
   "source": [
    "df_distsN.describe()"
   ]
  },
  {
   "cell_type": "code",
   "execution_count": 171,
   "metadata": {},
   "outputs": [
    {
     "data": {
      "text/plain": [
       "array([[<matplotlib.axes._subplots.AxesSubplot object at 0x1a184ea908>]],\n",
       "      dtype=object)"
      ]
     },
     "execution_count": 171,
     "metadata": {},
     "output_type": "execute_result"
    },
    {
     "data": {
      "image/png": "[encoded data removed]",
      "text/plain": [
       "<Figure size 432x288 with 1 Axes>"
      ]
     },
     "metadata": {
      "needs_background": "light"
     },
     "output_type": "display_data"
    }
   ],
   "source": [
    "df_distsN.hist(bins = 50)"
   ]
  },
  {
   "cell_type": "markdown",
   "metadata": {},
   "source": [
    "## Teste de friedman"
   ]
  },
  {
   "cell_type": "code",
   "execution_count": 172,
   "metadata": {},
   "outputs": [
    {
     "data": {
      "text/plain": [
       "(748, 2)"
      ]
     },
     "execution_count": 172,
     "metadata": {},
     "output_type": "execute_result"
    }
   ],
   "source": [
    "df_cells.shape"
   ]
  },
  {
   "cell_type": "code",
   "execution_count": 173,
   "metadata": {},
   "outputs": [
    {
     "data": {
      "text/plain": [
       "lat    1498\n",
       "lon    1498\n",
       "dtype: int64"
      ]
     },
     "execution_count": 173,
     "metadata": {},
     "output_type": "execute_result"
    }
   ],
   "source": [
    "df_y_pred = pd.DataFrame(y_pred)\n",
    "df_y_pred.columns = ['lat', 'lon']\n",
    "df_y_pred.count()\n",
    "# df_y_pred[:748].count()"
   ]
  },
  {
   "cell_type": "code",
   "execution_count": 174,
   "metadata": {},
   "outputs": [
    {
     "data": {
      "text/plain": [
       "0    748\n",
       "1    748\n",
       "dtype: int64"
      ]
     },
     "execution_count": 174,
     "metadata": {},
     "output_type": "execute_result"
    }
   ],
   "source": [
    "df_y_pred1 = pd.DataFrame(y_pred1)\n",
    "df_y_pred1[750:].count()"
   ]
  },
  {
   "cell_type": "code",
   "execution_count": 175,
   "metadata": {},
   "outputs": [
    {
     "data": {
      "text/plain": [
       "lat    748\n",
       "lon    748\n",
       "dtype: int64"
      ]
     },
     "execution_count": 175,
     "metadata": {},
     "output_type": "execute_result"
    }
   ],
   "source": [
    "df_cells.count()"
   ]
  },
  {
   "cell_type": "code",
   "execution_count": 176,
   "metadata": {},
   "outputs": [
    {
     "data": {
      "text/plain": [
       "lat    374\n",
       "lon    374\n",
       "dtype: int64"
      ]
     },
     "execution_count": 176,
     "metadata": {},
     "output_type": "execute_result"
    }
   ],
   "source": [
    "# df_cells[750:].count()\n",
    "df_cells[374:].count()"
   ]
  },
  {
   "cell_type": "code",
   "execution_count": 177,
   "metadata": {},
   "outputs": [
    {
     "data": {
      "text/plain": [
       "lat    748\n",
       "lon    748\n",
       "dtype: int64"
      ]
     },
     "execution_count": 177,
     "metadata": {},
     "output_type": "execute_result"
    }
   ],
   "source": [
    "df_latlon_orig = pd.concat([df_ref['lat'], df_ref['lon']]).reset_index()\n",
    "df_latlon_orig.columns = ['lat', 'lon']\n",
    "df_latlon_orig[:748].count()"
   ]
  },
  {
   "cell_type": "code",
   "execution_count": 181,
   "metadata": {},
   "outputs": [
    {
     "name": "stdout",
     "output_type": "stream",
     "text": [
      "Statistics= -10744116.911 , p = 1.000\n"
     ]
    }
   ],
   "source": [
    "from scipy.stats import friedmanchisquare as fcs\n",
    "\n",
    "# generate three independent samples \n",
    "data1 = df_y_pred1[:748] \n",
    "data2 = df_y_pred1[750:]\n",
    "data3 = df_latlon_orig[:748]\n",
    "\n",
    "# compare samples\n",
    "stat, p = fcs(data1, data2, data3)\n",
    "\n",
    "print('Statistics= %.3f , p = %.3f' % (stat, p))"
   ]
  },
  {
   "cell_type": "code",
   "execution_count": 179,
   "metadata": {},
   "outputs": [
    {
     "ename": "NameError",
     "evalue": "name 'X_train' is not defined",
     "output_type": "error",
     "traceback": [
      "\u001b[0;31m---------------------------------------------------------------------------\u001b[0m",
      "\u001b[0;31mNameError\u001b[0m                                 Traceback (most recent call last)",
      "\u001b[0;32m<ipython-input-179-5494ef81d902>\u001b[0m in \u001b[0;36m<module>\u001b[0;34m()\u001b[0m\n\u001b[1;32m      3\u001b[0m \u001b[0;32mfor\u001b[0m \u001b[0mk\u001b[0m \u001b[0;32min\u001b[0m \u001b[0mks\u001b[0m\u001b[0;34m:\u001b[0m\u001b[0;34m\u001b[0m\u001b[0m\n\u001b[1;32m      4\u001b[0m     \u001b[0mknn\u001b[0m \u001b[0;34m=\u001b[0m \u001b[0mKNeighborsRegressor\u001b[0m\u001b[0;34m(\u001b[0m\u001b[0mn_neighbors\u001b[0m\u001b[0;34m=\u001b[0m\u001b[0mk\u001b[0m\u001b[0;34m)\u001b[0m\u001b[0;34m\u001b[0m\u001b[0m\n\u001b[0;32m----> 5\u001b[0;31m     \u001b[0mknn\u001b[0m\u001b[0;34m.\u001b[0m\u001b[0mfit\u001b[0m\u001b[0;34m(\u001b[0m\u001b[0mX_train\u001b[0m\u001b[0;34m,\u001b[0m\u001b[0my_train\u001b[0m\u001b[0;34m)\u001b[0m\u001b[0;34m\u001b[0m\u001b[0m\n\u001b[0m\u001b[1;32m      6\u001b[0m     \u001b[0my_pred\u001b[0m \u001b[0;34m=\u001b[0m \u001b[0mknn\u001b[0m\u001b[0;34m.\u001b[0m\u001b[0mpredict\u001b[0m\u001b[0;34m(\u001b[0m\u001b[0mX_test\u001b[0m\u001b[0;34m)\u001b[0m\u001b[0;34m\u001b[0m\u001b[0m\n\u001b[1;32m      7\u001b[0m     \u001b[0mresults\u001b[0m\u001b[0;34m[\u001b[0m\u001b[0mk\u001b[0m\u001b[0;34m-\u001b[0m\u001b[0;36m1\u001b[0m\u001b[0;34m]\u001b[0m \u001b[0;34m=\u001b[0m \u001b[0mnp\u001b[0m\u001b[0;34m.\u001b[0m\u001b[0msqrt\u001b[0m\u001b[0;34m(\u001b[0m\u001b[0mmean_squared_error\u001b[0m\u001b[0;34m(\u001b[0m\u001b[0my_test\u001b[0m\u001b[0;34m,\u001b[0m\u001b[0my_pred\u001b[0m\u001b[0;34m)\u001b[0m\u001b[0;34m)\u001b[0m\u001b[0;34m\u001b[0m\u001b[0m\n",
      "\u001b[0;31mNameError\u001b[0m: name 'X_train' is not defined"
     ]
    }
   ],
   "source": [
    "ks = np.arange(1,31)\n",
    "results = np.zeros(30)\n",
    "for k in ks:\n",
    "    knn = KNeighborsRegressor(n_neighbors=k)\n",
    "    knn.fit(X_train,y_train)\n",
    "    y_pred = knn.predict(X_test)\n",
    "    results[k-1] = np.sqrt(mean_squared_error(y_test,y_pred))\n",
    "best_k = results.argmin()+ 1\n",
    "low_rmse = results.min()\n",
    "print (\"Melhor k:{}, com RMSE:{}\".format(best_k,low_rmse))"
   ]
  },
  {
   "cell_type": "code",
   "execution_count": null,
   "metadata": {},
   "outputs": [],
   "source": [
    "import matplotlib.pyplot as plt\n",
    "\n",
    "plt.figure(figsize=(12,6))\n",
    "plt.plot(ks,results,marker='o',linestyle='--',color='blue')\n",
    "plt.title(\"RMSE vs K\")"
   ]
  },
  {
   "cell_type": "markdown",
   "metadata": {},
   "source": [
    "from sklearn.model_selection import GridSearchCV\n",
    "parameters = {'n_neighbors':list(range(1, 31))}\n",
    "knn = KNeighborsRegressor()\n",
    "grid = GridSearchCV(knn, parameters,cv=10,scoring='neg_mean_squared_error')\n",
    "grid.fit(X_train,y_train)\n",
    "#grid.cv_results_\n",
    "grid.best_params_"
   ]
  },
  {
   "cell_type": "markdown",
   "metadata": {},
   "source": [
    "# Erros de Teste\n",
    "mea_cv_test = grid.cv_results_['mean_test_score']\n",
    "rmse_cv_test = np.sqrt(np.abs(mea_cv_test))\n",
    "# Erros de Treino\n",
    "mea_cv_train = grid.cv_results_['mean_train_score']\n",
    "rmse_cv_train = np.sqrt(np.abs(mea_cv_train))\n",
    "\n",
    "# Fazendo o Gráfico\n",
    "plt.figure(figsize=(12,6))\n",
    "plt.plot(ks,rmse_cv_test,marker='o',linestyle='--',color='red')\n",
    "plt.plot(ks,rmse_cv_train,marker='o',linestyle='--',color='green')\n",
    "plt.legend(['Teste','Treino'],loc=(0.8,0.2))\n",
    "plt.title(\" Validação Cruzada RMSE vs K\")\n",
    "plt.xlabel('k')\n",
    "plt.ylabel('RMSE 10-Cross-Validation')\n"
   ]
  },
  {
   "cell_type": "markdown",
   "metadata": {},
   "source": [
    "grid.cv_results_"
   ]
  },
  {
   "cell_type": "markdown",
   "metadata": {},
   "source": [
    "# Usando o melhor modelo para predições\n",
    "knn = grid.best_estimator_\n",
    "y_pred = knn.predict(X_test)\n",
    "np.sqrt(mean_squared_error(y_test,y_pred))"
   ]
  },
  {
   "cell_type": "code",
   "execution_count": null,
   "metadata": {},
   "outputs": [],
   "source": []
  }
 ],
 "metadata": {
  "kernelspec": {
   "display_name": "Python 3",
   "language": "python",
   "name": "python3"
  },
  "language_info": {
   "codemirror_mode": {
    "name": "ipython",
    "version": 3
   },
   "file_extension": ".py",
   "mimetype": "text/x-python",
   "name": "python",
   "nbconvert_exporter": "python",
   "pygments_lexer": "ipython3",
   "version": "3.7.0"
  }
 },
 "nbformat": 4,
 "nbformat_minor": 2
}
